{
 "cells": [
  {
   "cell_type": "markdown",
   "metadata": {},
   "source": [
    "## POS tagging using modified Viterbi"
   ]
  },
  {
   "cell_type": "markdown",
   "metadata": {},
   "source": [
    "### Problem Statement - HMMs and Viterbi algorithm for POS tagging\n",
    "You have learnt to build your own HMM-based POS tagger and implement the Viterbi algorithm using the Penn Treebank training corpus. The vanilla Viterbi algorithm we had written had resulted in ~87% accuracy. The approx. 13% loss of accuracy was majorly due to the fact that when the algorithm encountered an unknown word (i.e. not present in the training set, such as 'Twitter'), it assigned an incorrect tag arbitrarily. This is because, for unknown words, the emission probabilities for all candidate tags are 0, so the algorithm arbitrarily chooses (the first) tag.\n",
    "\n",
    "Need to modify the Viterbi algorithm to solve the problem of unknown words using at least two techniques."
   ]
  },
  {
   "cell_type": "markdown",
   "metadata": {},
   "source": [
    "### Goals\n",
    "Split the Treebank dataset into train and validation sets. Please use a sample size of 95:5 for training: validation sets, i.e. keep the validation size small, else the algorithm will need a very high amount of runtime.\n",
    "\n",
    " \n",
    "Need to accomplish the following in this assignment:\n",
    "\n",
    "<li>Write the vanilla Viterbi algorithm for assigning POS tags (i.e. without dealing with unknown words) </li>\n",
    "<li>Solve the problem of unknown words using at least two techniques. These techniques can use any of the approaches discussed in the class - lexicon, rule-based, probabilistic etc. Note that to implement these techniques, you can either write separate functions and call them from the main Viterbi algorithm, or modify the Viterbi algorithm, or both.\n",
    "Compare the tagging accuracy after making these modifications with the vanilla Viterbi algorithm.</li>\n",
    "<li>Compare the tagging accuracy after making these modifications with the vanilla Viterbi algorithm.</li>\n",
    "<li>List down at least three cases from the sample test file (i.e. unknown word-tag pairs) which were incorrectly tagged by the original Viterbi POS tagger and got corrected after your modifications.</li>"
   ]
  },
  {
   "cell_type": "markdown",
   "metadata": {},
   "source": [
    "### Data Preparation"
   ]
  },
  {
   "cell_type": "code",
   "execution_count": 71,
   "metadata": {},
   "outputs": [],
   "source": [
    "#Importing libraries\n",
    "import nltk\n",
    "# nltk.download('universal_tagset') // Run in case when universal_tagset not found\n",
    "import random\n",
    "from sklearn.model_selection import train_test_split\n",
    "import pprint, time\n",
    "import pandas as pd\n",
    "import numpy as np\n",
    "import seaborn as sns\n",
    "import matplotlib.pyplot as plt\n",
    "from nltk.tokenize import word_tokenize"
   ]
  },
  {
   "cell_type": "code",
   "execution_count": 4,
   "metadata": {},
   "outputs": [],
   "source": [
    "# reading the Treebank tagged sentences\n",
    "nltk_data = list(nltk.corpus.treebank.tagged_sents(tagset='universal'))"
   ]
  },
  {
   "cell_type": "code",
   "execution_count": 11,
   "metadata": {},
   "outputs": [
    {
     "name": "stdout",
     "output_type": "stream",
     "text": [
      "3718\n",
      "196\n",
      "[[('Preliminary', 'ADJ'), ('tallies', 'NOUN'), ('by', 'ADP'), ('the', 'DET'), ('Trade', 'NOUN'), ('and', 'CONJ'), ('Industry', 'NOUN'), ('Ministry', 'NOUN'), ('showed', 'VERB'), ('another', 'DET'), ('trade', 'NOUN'), ('deficit', 'NOUN'), ('in', 'ADP'), ('October', 'NOUN'), (',', '.'), ('the', 'DET'), ('fifth', 'ADJ'), ('monthly', 'ADJ'), ('setback', 'NOUN'), ('this', 'DET'), ('year', 'NOUN'), (',', '.'), ('*', 'X'), ('casting', 'VERB'), ('a', 'DET'), ('cloud', 'NOUN'), ('on', 'ADP'), ('South', 'NOUN'), ('Korea', 'NOUN'), (\"'s\", 'PRT'), ('export-oriented', 'ADJ'), ('economy', 'NOUN'), ('.', '.')], [('Meanwhile', 'ADV'), (',', '.'), ('the', 'DET'), ('bad', 'ADJ'), ('bank', 'NOUN'), ('with', 'ADP'), ('the', 'DET'), ('junk', 'NOUN'), ('bonds', 'NOUN'), ('--', '.'), ('and', 'CONJ'), ('some', 'DET'), ('capital', 'NOUN'), ('--', '.'), ('might', 'VERB'), ('be', 'VERB'), ('spun', 'VERB'), ('off', 'PRT'), ('*-1', 'X'), ('to', 'PRT'), ('Columbia', 'NOUN'), ('shareholders', 'NOUN'), (',', '.'), ('including', 'VERB'), ('Mr.', 'NOUN'), ('Spiegel', 'NOUN'), (',', '.'), ('who', 'PRON'), ('*T*-2', 'X'), ('might', 'VERB'), ('then', 'ADV'), ('have', 'VERB'), ('a', 'DET'), ('new', 'ADJ'), ('career', 'NOUN'), (',', '.'), ('investors', 'NOUN'), ('say', 'VERB'), ('0', 'X'), ('*T*-3', 'X'), ('.', '.')], [('Those', 'DET'), ('countries', 'NOUN'), ('--', '.'), ('including', 'ADP'), ('Japan', 'NOUN'), (',', '.'), ('Italy', 'NOUN'), (',', '.'), ('Canada', 'NOUN'), (',', '.'), ('Greece', 'NOUN'), ('and', 'CONJ'), ('Spain', 'NOUN'), ('--', '.'), ('are', 'VERB'), ('still', 'ADV'), ('of', 'ADP'), ('some', 'DET'), ('concern', 'NOUN'), ('to', 'PRT'), ('the', 'DET'), ('U.S.', 'NOUN'), ('but', 'CONJ'), ('are', 'VERB'), ('deemed', 'VERB'), ('*-1', 'X'), ('to', 'PRT'), ('pose', 'VERB'), ('less-serious', 'ADJ'), ('problems', 'NOUN'), ('for', 'ADP'), ('American', 'ADJ'), ('patent', 'NOUN'), ('and', 'CONJ'), ('copyright', 'NOUN'), ('owners', 'NOUN'), ('than', 'ADP'), ('those', 'DET'), ('on', 'ADP'), ('the', 'DET'), ('``', '.'), ('priority', 'NOUN'), (\"''\", '.'), ('list', 'NOUN'), ('.', '.')], [('Like', 'ADP'), ('most', 'ADJ'), ('of', 'ADP'), ('the', 'DET'), ('other', 'ADJ'), ('6,000', 'NUM'), ('churches', 'NOUN'), ('in', 'ADP'), ('Britain', 'NOUN'), ('with', 'ADP'), ('sets', 'NOUN'), ('of', 'ADP'), ('bells', 'NOUN'), (',', '.'), ('St.', 'NOUN'), ('Michael', 'NOUN'), ('once', 'ADV'), ('had', 'VERB'), ('its', 'PRON'), ('own', 'ADJ'), ('``', '.'), ('band', 'NOUN'), (\"''\", '.'), ('of', 'ADP'), ('ringers', 'NOUN'), (',', '.'), ('who', 'PRON'), ('*T*-221', 'X'), ('would', 'VERB'), ('herald', 'VERB'), ('every', 'DET'), ('Sunday', 'NOUN'), ('morning', 'NOUN'), ('and', 'CONJ'), ('evening', 'NOUN'), ('service', 'NOUN'), ('.', '.')], [('The', 'DET'), ('art', 'NOUN'), ('of', 'ADP'), ('change-ringing', 'NOUN'), ('is', 'VERB'), ('peculiar', 'ADJ'), ('to', 'PRT'), ('the', 'DET'), ('English', 'NOUN'), (',', '.'), ('and', 'CONJ'), (',', '.'), ('like', 'ADP'), ('most', 'ADJ'), ('English', 'ADJ'), ('peculiarities', 'NOUN'), (',', '.'), ('unintelligible', 'ADJ'), ('to', 'PRT'), ('the', 'DET'), ('rest', 'NOUN'), ('of', 'ADP'), ('the', 'DET'), ('world', 'NOUN'), ('.', '.')], [('The', 'DET'), ('reruns', 'NOUN'), ('have', 'VERB'), ('helped', 'VERB'), ('ratings', 'NOUN'), ('at', 'ADP'), ('many', 'ADJ'), ('of', 'ADP'), ('the', 'DET'), ('187', 'NUM'), ('network', 'NOUN'), ('affiliates', 'NOUN'), ('and', 'CONJ'), ('independent', 'ADJ'), ('TV', 'NOUN'), ('stations', 'NOUN'), ('that', 'DET'), ('*T*-150', 'X'), ('air', 'VERB'), ('the', 'DET'), ('shows', 'NOUN'), ('.', '.')], [('Hiroshi', 'NOUN'), ('Asada', 'NOUN')], [('Now', 'ADV'), (',', '.'), ('on', 'ADP'), ('a', 'DET'), ('good', 'ADJ'), ('day', 'NOUN'), (',', '.'), ('Chicago', 'NOUN'), (\"'s\", 'PRT'), ('stock-index', 'NOUN'), ('traders', 'NOUN'), ('trade', 'VERB'), ('more', 'ADJ'), ('dollars', 'NOUN'), ('worth', 'NOUN'), ('of', 'ADP'), ('stock', 'NOUN'), ('futures', 'NOUN'), ('than', 'ADP'), ('the', 'DET'), ('Big', 'NOUN'), ('Board', 'NOUN'), ('trades', 'VERB'), ('in', 'ADP'), ('stock', 'NOUN'), ('.', '.')], [('*', 'X'), ('Take', 'VERB'), ('Lake', 'NOUN'), ('Vineyard', 'NOUN'), ('Cabernet', 'NOUN'), ('from', 'ADP'), ('Diamond', 'NOUN'), ('Creek', 'NOUN'), ('.', '.')], [('Although', 'ADP'), ('*-2', 'X'), ('set', 'VERB'), ('*-1', 'X'), ('in', 'ADP'), ('Japan', 'NOUN'), (',', '.'), ('the', 'DET'), ('novel', 'NOUN'), (\"'s\", 'PRT'), ('texture', 'NOUN'), ('is', 'VERB'), ('almost', 'ADV'), ('entirely', 'ADV'), ('Western', 'ADJ'), (',', '.'), ('especially', 'ADV'), ('American', 'ADJ'), ('.', '.')], [('Prices', 'NOUN'), ('closed', 'VERB'), ('mostly', 'ADV'), ('higher', 'ADJ'), ('in', 'ADP'), ('relatively', 'ADV'), ('light', 'ADJ'), ('trading', 'NOUN'), ('as', 'ADP'), ('farmers', 'NOUN'), ('continued', 'VERB'), ('*-1', 'X'), ('to', 'PRT'), ('withhold', 'VERB'), ('their', 'PRON'), ('crops', 'NOUN'), ('from', 'ADP'), ('the', 'DET'), ('marketplace', 'NOUN'), ('in', 'ADP'), ('the', 'DET'), ('hope', 'NOUN'), ('of', 'ADP'), ('higher', 'ADJ'), ('prices', 'NOUN'), ('0', 'X'), ('*T*-2', 'X'), ('to', 'PRT'), ('come', 'VERB'), ('.', '.')], [('Despite', 'ADP'), ('the', 'DET'), ('harsh', 'ADJ'), ('exchanges', 'NOUN'), (',', '.'), ('the', 'DET'), ('U.S.', 'NOUN'), ('and', 'CONJ'), ('China', 'NOUN'), ('still', 'ADV'), ('seem', 'VERB'), ('*-1', 'X'), ('to', 'PRT'), ('be', 'VERB'), ('looking', 'VERB'), ('for', 'ADP'), ('a', 'DET'), ('way', 'NOUN'), ('0', 'X'), ('*', 'X'), ('to', 'PRT'), ('mend', 'VERB'), ('relations', 'NOUN'), (',', '.'), ('which', 'DET'), ('*T*-244', 'X'), ('have', 'VERB'), ('deteriorated', 'VERB'), ('into', 'ADP'), ('what', 'PRON'), ('Mr.', 'NOUN'), ('Nixon', 'NOUN'), ('referred', 'VERB'), ('to', 'PRT'), ('*T*-2', 'X'), ('as', 'ADP'), ('``', '.'), ('the', 'DET'), ('greatest', 'ADJ'), ('crisis', 'NOUN'), ('in', 'ADP'), ('Chinese-American', 'NOUN'), ('relations', 'NOUN'), (\"''\", '.'), ('since', 'ADP'), ('his', 'PRON'), ('initial', 'ADJ'), ('visit', 'NOUN'), ('to', 'PRT'), ('China', 'NOUN'), ('17', 'NUM'), ('years', 'NOUN'), ('ago', 'ADP'), ('*T*-3', 'X'), ('.', '.')], [('At', 'ADP'), ('the', 'DET'), ('same', 'ADJ'), ('time', 'NOUN'), (',', '.'), ('he', 'PRON'), ('began', 'VERB'), ('*-1', 'X'), ('building', 'VERB'), ('up', 'PRT'), ('the', 'DET'), ('pulp', 'NOUN'), ('and', 'CONJ'), ('paper', 'NOUN'), ('segment', 'NOUN'), ('of', 'ADP'), ('the', 'DET'), ('company', 'NOUN'), ('while', 'NOUN'), ('*-1', 'X'), ('refocusing', 'NOUN'), ('building', 'NOUN'), ('products', 'NOUN'), ('on', 'ADP'), ('home', 'NOUN'), ('repair', 'NOUN'), ('and', 'CONJ'), ('remodeling', 'NOUN'), (',', '.'), ('rather', 'ADV'), ('than', 'ADP'), ('materials', 'NOUN'), ('for', 'ADP'), ('new-home', 'ADJ'), ('construction', 'NOUN'), ('.', '.')], [('*-2', 'X'), ('Confronted', 'VERB'), ('*-1', 'X'), (',', '.'), ('Mrs.', 'NOUN'), ('Yeargin', 'NOUN'), ('admitted', 'VERB'), ('0', 'X'), ('she', 'PRON'), ('had', 'VERB'), ('given', 'VERB'), ('the', 'DET'), ('questions', 'NOUN'), ('and', 'CONJ'), ('answers', 'VERB'), ('two', 'NUM'), ('days', 'NOUN'), ('before', 'ADP'), ('the', 'DET'), ('examination', 'NOUN'), ('to', 'PRT'), ('two', 'NUM'), ('low-ability', 'ADJ'), ('geography', 'NOUN'), ('classes', 'NOUN'), ('.', '.')], [('Although', 'ADP'), ('she', 'PRON'), ('was', 'VERB'), ('kind', 'ADJ'), ('and', 'CONJ'), ('playful', 'ADJ'), ('to', 'PRT'), ('her', 'PRON'), ('children', 'NOUN'), (',', '.'), ('she', 'PRON'), ('was', 'VERB'), ('dreadful', 'ADJ'), ('to', 'PRT'), ('her', 'PRON'), ('war-damaged', 'ADJ'), ('husband', 'NOUN'), (';', '.'), ('she', 'PRON'), ('openly', 'ADV'), ('brought', 'VERB'), ('her', 'PRON'), ('lover', 'NOUN'), ('into', 'ADP'), ('their', 'PRON'), ('home', 'NOUN'), ('.', '.')], [('Other', 'ADJ'), ('major', 'ADJ'), ('Japanese', 'ADJ'), ('computer', 'NOUN'), ('companies', 'NOUN'), ('contacted', 'VERB'), ('*', 'X'), ('yesterday', 'NOUN'), ('said', 'VERB'), ('0', 'X'), ('they', 'PRON'), ('have', 'VERB'), ('never', 'ADV'), ('made', 'VERB'), ('such', 'ADJ'), ('bids', 'NOUN'), ('.', '.')], [('He', 'PRON'), ('also', 'ADV'), ('considers', 'VERB'), ('the', 'DET'), ('market', 'NOUN'), ('overvalued', 'VERB'), ('and', 'CONJ'), ('cites', 'VERB'), ('the', 'DET'), ('troubles', 'NOUN'), ('in', 'ADP'), ('junk', 'NOUN'), ('bonds', 'NOUN'), ('.', '.')], [('The', 'DET'), ('magazine', 'NOUN'), ('combines', 'VERB'), ('how-to', 'ADJ'), ('pieces', 'NOUN'), ('on', 'ADP'), ('topics', 'NOUN'), ('like', 'ADP'), ('backyard', 'NOUN'), ('composting', 'NOUN'), (',', '.'), ('explanatory', 'ADJ'), ('essays', 'NOUN'), ('on', 'ADP'), ('such', 'ADJ'), ('things', 'NOUN'), ('as', 'ADP'), ('what', 'PRON'), ('*T*-1', 'X'), ('happens', 'VERB'), ('after', 'ADP'), ('you', 'PRON'), ('flush', 'VERB'), ('your', 'PRON'), ('toilet', 'NOUN'), (',', '.'), ('and', 'CONJ'), ('hard-hitting', 'ADJ'), ('pieces', 'NOUN'), ('on', 'ADP'), ('alleged', 'ADJ'), ('environmental', 'ADJ'), ('offenders', 'NOUN'), ('.', '.')], [('Its', 'PRON'), ('1989-90', 'NUM'), ('exports', 'NOUN'), ('were', 'VERB'), ('expected', 'VERB'), ('*-1', 'X'), ('to', 'PRT'), ('total', 'VERB'), ('645,000', 'NUM'), ('tons', 'NOUN'), ('in', 'ADP'), ('contrast', 'NOUN'), ('to', 'PRT'), ('shipments', 'NOUN'), ('of', 'ADP'), ('1.5', 'NUM'), ('million', 'NUM'), ('tons', 'NOUN'), ('in', 'ADP')], [('``', '.'), ('We', 'PRON'), ('have', 'VERB'), ('*-1', 'X'), ('to', 'PRT'), ('have', 'VERB'), ('a', 'DET'), ('system', 'NOUN'), ('that', 'DET'), ('*T*-2', 'X'), ('says', 'VERB'), ('to', 'PRT'), ('those', 'DET'), ('largest', 'ADJ'), ('investors', 'NOUN'), (':', '.')], [('Perhaps', 'ADV'), ('he', 'PRON'), ('is', 'VERB'), ('willing', 'ADJ'), ('*-1', 'X'), ('to', 'PRT'), ('sacrifice', 'VERB'), ('to', 'PRT'), ('the', 'DET'), ('arbitrage', 'NOUN'), ('trader', 'NOUN'), ('some', 'DET'), ('small', 'ADJ'), ('profit', 'NOUN'), ('in', 'ADP'), ('order', 'NOUN'), ('*-1', 'X'), ('to', 'PRT'), ('get', 'VERB'), ('quick', 'ADJ'), ('and', 'CONJ'), ('certain', 'ADJ'), ('execution', 'NOUN'), ('of', 'ADP'), ('his', 'PRON'), ('large', 'ADJ'), ('trade', 'NOUN'), ('.', '.')], [('Bank', 'NOUN'), ('of', 'ADP'), ('New', 'NOUN'), ('England', 'NOUN'), (\"'s\", 'PRT'), ('shares', 'NOUN'), ('are', 'VERB'), ('traded', 'VERB'), ('*-1', 'X'), ('on', 'ADP'), ('the', 'DET'), ('New', 'NOUN'), ('York', 'NOUN'), ('Stock', 'NOUN'), ('Exchange', 'NOUN'), ('.', '.')], [('``', '.'), ('They', 'PRON'), ('said', 'VERB'), ('universally', 'ADV'), (',', '.'), ('without', 'ADP'), ('a', 'DET'), ('single', 'ADJ'), ('exception', 'NOUN'), (':', '.'), ('*', 'X'), ('Do', 'VERB'), (\"n't\", 'ADV'), ('even', 'ADV'), ('compromise', 'VERB'), ('.', '.')], [('*-2', 'X'), ('Unable', 'ADJ'), ('*-3', 'X'), ('to', 'PRT'), ('unload', 'VERB'), ('UAL', 'NOUN'), ('and', 'CONJ'), ('other', 'ADJ'), ('airline', 'NOUN'), ('shares', 'NOUN'), (',', '.'), ('takeover-stock', 'ADJ'), ('speculators', 'NOUN'), (',', '.'), ('or', 'CONJ'), ('risk', 'VERB'), ('arbitragers', 'NOUN'), (',', '.'), ('dumped', 'VERB'), ('every', 'DET'), ('blue-chip', 'ADJ'), ('stock', 'NOUN'), ('0', 'X'), ('they', 'PRON'), ('had', 'VERB'), ('*T*-1', 'X'), ('.', '.')], [('In', 'ADP'), ('fact', 'NOUN'), (',', '.'), ('``', '.'), ('the', 'DET'), ('market', 'NOUN'), ('has', 'VERB'), ('always', 'ADV'), ('tanked', 'VERB'), ('.', '.')], [('Hours', 'NOUN'), ('after', 'ADP'), ('the', 'DET'), ('announcement', 'NOUN'), (',', '.'), ('representatives', 'NOUN'), ('of', 'ADP'), ('the', 'DET'), ('Orange', 'NOUN'), ('County', 'NOUN'), ('Register', 'NOUN'), ('were', 'VERB'), ('in', 'ADP'), ('a', 'DET'), ('bar', 'NOUN'), ('across', 'ADP'), ('the', 'DET'), ('street', 'NOUN'), ('*-1', 'X'), ('recruiting', 'VERB'), ('.', '.')], [('Mr.', 'NOUN'), ('Crane', 'NOUN'), ('did', 'VERB'), (\"n't\", 'ADV'), ('return', 'VERB'), ('a', 'DET'), ('call', 'NOUN'), ('seeking', 'VERB'), ('comment', 'NOUN'), ('.', '.')], [('However', 'ADV'), (',', '.'), ('five', 'NUM'), ('other', 'ADJ'), ('countries', 'NOUN'), ('--', '.'), ('China', 'NOUN'), (',', '.'), ('Thailand', 'NOUN'), (',', '.'), ('India', 'NOUN'), (',', '.'), ('Brazil', 'NOUN'), ('and', 'CONJ'), ('Mexico', 'NOUN'), ('--', '.'), ('will', 'VERB'), ('remain', 'VERB'), ('on', 'ADP'), ('that', 'DET'), ('so-called', 'ADJ'), ('priority', 'NOUN'), ('watch', 'NOUN'), ('list', 'NOUN'), ('as', 'ADP'), ('a', 'DET'), ('result', 'NOUN'), ('of', 'ADP'), ('an', 'DET'), ('interim', 'ADJ'), ('review', 'NOUN'), (',', '.'), ('U.S.', 'NOUN'), ('Trade', 'NOUN'), ('Representative', 'NOUN'), ('Carla', 'NOUN'), ('Hills', 'NOUN'), ('announced', 'VERB'), ('0', 'X'), ('*T*-1', 'X'), ('.', '.')], [('Dodge', 'NOUN'), ('reported', 'VERB'), ('an', 'DET'), ('8', 'NUM'), ('%', 'NOUN'), ('increase', 'NOUN'), ('in', 'ADP'), ('construction', 'NOUN'), ('contracts', 'NOUN'), ('awarded', 'VERB'), ('*', 'X'), ('in', 'ADP'), ('September', 'NOUN'), ('.', '.')], [('Mr.', 'NOUN'), ('Riese', 'NOUN'), ('says', 'VERB'), ('0', 'X'), ('American', 'NOUN'), ('Express', 'NOUN'), ('considers', 'VERB'), ('GM', 'NOUN'), ('and', 'CONJ'), ('Buick', 'NOUN'), ('``', '.'), ('very', 'ADV'), ('sophisticated', 'ADJ'), ('direct-mail', 'ADJ'), ('marketers', 'NOUN'), (',', '.'), (\"''\", '.'), ('so', 'ADP'), ('``', '.'), ('by', 'ADP'), ('*-1', 'X'), ('joining', 'VERB'), ('forces', 'NOUN'), ('with', 'ADP'), ('them', 'PRON'), ('we', 'PRON'), ('have', 'VERB'), ('managed', 'VERB'), ('*-1', 'X'), ('to', 'PRT'), ('maximize', 'VERB'), ('our', 'PRON'), ('direct-mail', 'ADJ'), ('capability', 'NOUN'), ('.', '.'), (\"''\", '.')], [('If', 'ADP'), ('the', 'DET'), ('20-point', 'ADJ'), ('limit', 'NOUN'), ('is', 'VERB'), ('triggered', 'VERB'), ('*-125', 'X'), ('after', 'ADP'), ('1:30', 'NUM'), ('p.m', 'ADV'), ('.', '.'), ('Chicago', 'NOUN'), ('time', 'NOUN'), (',', '.'), ('it', 'PRON'), ('would', 'VERB'), ('remain', 'VERB'), ('in', 'ADP'), ('effect', 'NOUN'), ('until', 'ADP'), ('the', 'DET'), ('normal', 'ADJ'), ('close', 'NOUN'), ('of', 'ADP'), ('trading', 'VERB'), ('at', 'ADP'), ('3:15', 'NUM'), ('p.m', 'ADV'), ('.', '.')], [('The', 'DET'), ('40-year-old', 'ADJ'), ('Mr.', 'NOUN'), ('Murakami', 'NOUN'), ('is', 'VERB'), ('a', 'DET'), ('publishing', 'NOUN'), ('sensation', 'NOUN'), ('in', 'ADP'), ('Japan', 'NOUN'), ('.', '.')], [('-LRB-', '.'), ('It', 'PRON'), ('is', 'VERB'), (',', '.'), ('of', 'ADP'), ('course', 'NOUN'), (',', '.'), ('printed', 'VERB'), ('*-1', 'X'), ('on', 'ADP'), ('recycled', 'VERB'), ('paper', 'NOUN'), ('.', '.'), ('-RRB-', '.')], [('One', 'NUM'), ('trial', 'NOUN'), ('balloon', 'NOUN'), ('0', 'X'), ('Mr.', 'NOUN'), ('Spiegel', 'NOUN'), ('is', 'VERB'), ('said', 'VERB'), ('*-4', 'X'), ('to', 'PRT'), ('have', 'VERB'), ('floated', 'VERB'), ('*T*-3', 'X'), ('to', 'PRT'), ('investors', 'NOUN'), (':', '.'), ('Columbia', 'NOUN'), ('might', 'VERB'), ('be', 'VERB'), ('broken', 'VERB'), ('up', 'PRT'), ('*-1', 'X'), (',', '.'), ('as', 'ADP'), ('Mellon', 'NOUN'), ('Bank', 'NOUN'), ('was', 'VERB'), ('split', 'VERB'), ('*-2', 'X'), ('into', 'ADP'), ('a', 'DET'), ('good', 'ADJ'), ('bank', 'NOUN'), ('and', 'CONJ'), ('a', 'DET'), ('bad', 'ADJ'), ('bank', 'NOUN'), ('.', '.')], [('Mr.', 'NOUN'), ('Reupke', 'NOUN'), (',', '.'), ('52', 'NUM'), ('years', 'NOUN'), ('old', 'ADJ'), ('and', 'CONJ'), ('a', 'DET'), ('27-year', 'ADJ'), ('Reuters', 'NOUN'), ('veteran', 'NOUN'), (',', '.'), ('had', 'VERB'), ('been', 'VERB'), ('the', 'DET'), ('information-services', 'NOUN'), ('company', 'NOUN'), (\"'s\", 'PRT'), ('general', 'ADJ'), ('manager', 'NOUN'), ('for', 'ADP'), ('only', 'ADV'), ('six', 'NUM'), ('months', 'NOUN'), ('.', '.')], [('That', 'DET'), ('followed', 'VERB'), ('four', 'NUM'), ('straight', 'ADJ'), ('months', 'NOUN'), ('in', 'ADP'), ('which', 'DET'), ('the', 'DET'), ('number', 'NOUN'), ('of', 'ADP'), ('increases', 'NOUN'), ('trailed', 'VERB'), ('the', 'DET'), ('year-earlier', 'ADJ'), ('pace', 'NOUN'), ('*T*-1', 'X'), ('.', '.')], [('Backe', 'NOUN'), ('Group', 'NOUN'), ('Inc.', 'NOUN'), ('agreed', 'VERB'), ('*-1', 'X'), ('to', 'PRT'), ('acquire', 'VERB'), ('Atlantic', 'NOUN'), ('Publications', 'NOUN'), ('Inc.', 'NOUN'), (',', '.'), ('which', 'DET'), ('*T*-141', 'X'), ('has', 'VERB'), ('30', 'NUM'), ('community', 'NOUN'), ('papers', 'NOUN'), ('and', 'CONJ'), ('annual', 'ADJ'), ('sales', 'NOUN'), ('of', 'ADP'), ('$', '.'), ('7', 'NUM'), ('million', 'NUM'), ('*U*', 'X'), ('.', '.')], [('``', '.'), ('Or', 'CONJ'), ('if', 'ADP'), ('they', 'PRON'), ('feel', 'VERB'), ('0', 'X'), ('the', 'DET'), ('wine', 'NOUN'), ('is', 'VERB'), ('overpriced', 'VERB'), ('*-99', 'X'), ('and', 'CONJ'), ('0', 'X'), ('they', 'PRON'), ('can', 'VERB'), ('get', 'VERB'), ('something', 'NOUN'), ('equally', 'ADV'), ('good', 'ADJ'), ('for', 'ADP'), ('less', 'ADJ'), ('.', '.'), (\"''\", '.')], [('I', 'PRON'), ('loved', 'VERB'), ('the', 'DET'), ('school', 'NOUN'), (',', '.'), ('its', 'PRON'), ('history', 'NOUN'), ('.', '.')], [('A', 'DET'), ('spokeswoman', 'NOUN'), ('for', 'ADP'), ('Crum', 'NOUN'), ('&', 'CONJ'), ('Forster', 'NOUN'), ('said', 'VERB'), ('0', 'X'), ('employees', 'NOUN'), ('were', 'VERB'), ('told', 'VERB'), ('*-1', 'X'), ('early', 'ADV'), ('this', 'DET'), ('week', 'NOUN'), ('that', 'ADP'), ('numerous', 'ADJ'), ('staff', 'NOUN'), ('functions', 'NOUN'), ('for', 'ADP'), ('the', 'DET'), ('personal', 'ADJ'), ('insurance', 'NOUN'), ('lines', 'NOUN'), ('were', 'VERB'), ('going', 'VERB'), ('*-3', 'X'), ('to', 'PRT'), ('be', 'VERB'), ('centralized', 'VERB'), ('*-2', 'X'), ('as', 'ADP'), ('a', 'DET'), ('cost-cutting', 'ADJ'), ('move', 'NOUN'), ('.', '.')]]\n"
     ]
    }
   ],
   "source": [
    "# Splitting into train and test\n",
    "random.seed(1234)\n",
    "train_set, test_set = train_test_split(nltk_data,test_size=0.05)\n",
    "\n",
    "print(len(train_set))\n",
    "print(len(test_set))\n",
    "print(train_set[:40])"
   ]
  },
  {
   "cell_type": "code",
   "execution_count": 12,
   "metadata": {},
   "outputs": [
    {
     "data": {
      "text/plain": [
       "95375"
      ]
     },
     "execution_count": 12,
     "metadata": {},
     "output_type": "execute_result"
    }
   ],
   "source": [
    "# Getting list of tagged words\n",
    "train_tagged_words = [tup for sent in train_set for tup in sent]\n",
    "len(train_tagged_words)"
   ]
  },
  {
   "cell_type": "code",
   "execution_count": 50,
   "metadata": {},
   "outputs": [
    {
     "data": {
      "text/plain": [
       "['Preliminary',\n",
       " 'tallies',\n",
       " 'by',\n",
       " 'the',\n",
       " 'Trade',\n",
       " 'and',\n",
       " 'Industry',\n",
       " 'Ministry',\n",
       " 'showed',\n",
       " 'another']"
      ]
     },
     "execution_count": 50,
     "metadata": {},
     "output_type": "execute_result"
    }
   ],
   "source": [
    "# tokens in the train set - train_tagged_words\n",
    "train_data_tokens = [pair[0] for pair in train_tagged_words]\n",
    "train_data_tokens[:10]"
   ]
  },
  {
   "cell_type": "code",
   "execution_count": 51,
   "metadata": {},
   "outputs": [
    {
     "data": {
      "text/plain": [
       "['ADJ', 'NOUN', 'ADP', 'DET', 'NOUN', 'CONJ', 'NOUN', 'NOUN', 'VERB', 'DET']"
      ]
     },
     "execution_count": 51,
     "metadata": {},
     "output_type": "execute_result"
    }
   ],
   "source": [
    "# POS tags for the tokens in the train set -\n",
    "\n",
    "train_data_pos_tags = [pair[1] for pair in train_tagged_words]\n",
    "train_data_pos_tags[:10]"
   ]
  },
  {
   "cell_type": "code",
   "execution_count": 52,
   "metadata": {},
   "outputs": [],
   "source": [
    "# building the train vocabulary to a set\n",
    "\n",
    "training_vocabulary_set = set(train_data_tokens)"
   ]
  },
  {
   "cell_type": "code",
   "execution_count": 53,
   "metadata": {},
   "outputs": [],
   "source": [
    "# building the POS tags to a set\n",
    "\n",
    "training_pos_tag_set = set(train_data_pos_tags)"
   ]
  },
  {
   "cell_type": "markdown",
   "metadata": {},
   "source": [
    "### Emission Probabilities"
   ]
  },
  {
   "cell_type": "code",
   "execution_count": 28,
   "metadata": {},
   "outputs": [],
   "source": [
    "# compute word given tag: Emission Probability\n",
    "def word_given_tag(word, tag, train_bag = train_tagged_words):\n",
    "    tag_list = [pair for pair in train_bag if pair[1]==tag]\n",
    "    count_tag = len(tag_list)\n",
    "    w_given_tag_list = [pair[0] for pair in tag_list if pair[0]==word]\n",
    "    count_w_given_tag = len(w_given_tag_list)\n",
    "    \n",
    "    return (count_w_given_tag, count_tag)"
   ]
  },
  {
   "cell_type": "markdown",
   "metadata": {},
   "source": [
    "### Transition Probabilities"
   ]
  },
  {
   "cell_type": "code",
   "execution_count": 24,
   "metadata": {},
   "outputs": [
    {
     "data": {
      "text/plain": [
       "12"
      ]
     },
     "execution_count": 24,
     "metadata": {},
     "output_type": "execute_result"
    }
   ],
   "source": [
    "# number of tags\n",
    "T = set([pair[1] for pair in train_tagged_words])\n",
    "len(T)"
   ]
  },
  {
   "cell_type": "code",
   "execution_count": 19,
   "metadata": {},
   "outputs": [],
   "source": [
    "# compute tag given tag: tag2(t2) given tag1 (t1), i.e. Transition Probability\n",
    "\n",
    "def t2_given_t1(t2, t1, train_bag = train_tagged_words):\n",
    "    tags = [pair[1] for pair in train_bag]\n",
    "    count_t1 = len([t for t in tags if t==t1])\n",
    "    count_t2_t1 = 0\n",
    "    for index in range(len(tags)-1):\n",
    "        if tags[index]==t1 and tags[index+1] == t2:\n",
    "            count_t2_t1 += 1\n",
    "    return (count_t2_t1, count_t1)"
   ]
  },
  {
   "cell_type": "code",
   "execution_count": 25,
   "metadata": {},
   "outputs": [],
   "source": [
    "# creating t x t transition matrix of tags\n",
    "# each column is t2, each row is t1\n",
    "# thus M(i, j) represents P(tj given ti)\n",
    "\n",
    "tags_matrix = np.zeros((len(T), len(T)), dtype='float32')\n",
    "for i, t1 in enumerate(list(T)):\n",
    "    for j, t2 in enumerate(list(T)): \n",
    "        tags_matrix[i, j] = t2_given_t1(t2, t1)[0]/t2_given_t1(t2, t1)[1]"
   ]
  },
  {
   "cell_type": "code",
   "execution_count": 26,
   "metadata": {},
   "outputs": [],
   "source": [
    "# convert the matrix to a df for better readability\n",
    "tags_df = pd.DataFrame(tags_matrix, columns = list(T), index=list(T))"
   ]
  },
  {
   "cell_type": "markdown",
   "metadata": {},
   "source": [
    "### Exploratory Data Analysis"
   ]
  },
  {
   "cell_type": "code",
   "execution_count": 46,
   "metadata": {},
   "outputs": [
    {
     "data": {
      "image/png": "[encoded data removed]",
      "text/plain": [
       "<Figure size 1008x576 with 2 Axes>"
      ]
     },
     "metadata": {
      "needs_background": "light"
     },
     "output_type": "display_data"
    }
   ],
   "source": [
    "# heatmap of tags matrix\n",
    "# T(i, j) means P(tag j given tag i)\n",
    "plt.figure(figsize=(14, 8))\n",
    "sns.heatmap(tags_df, annot = True)\n",
    "plt.show()"
   ]
  },
  {
   "cell_type": "markdown",
   "metadata": {},
   "source": [
    "### Build the vanilla Viterbi based POS tagger"
   ]
  },
  {
   "cell_type": "code",
   "execution_count": 13,
   "metadata": {},
   "outputs": [
    {
     "data": {
      "text/plain": [
       "95375"
      ]
     },
     "execution_count": 13,
     "metadata": {},
     "output_type": "execute_result"
    }
   ],
   "source": [
    "#calculate the length of tagged train words\n",
    "len(train_tagged_words)"
   ]
  },
  {
   "cell_type": "code",
   "execution_count": 14,
   "metadata": {},
   "outputs": [],
   "source": [
    "# Viterbi Heuristic pos tagger\n",
    "def Viterbi(words, train_bag = train_tagged_words):\n",
    "    state = []\n",
    "    T = list(set([pair[1] for pair in train_bag]))\n",
    "    \n",
    "    for key, word in enumerate(words):\n",
    "        #initialise list of probability column for a given observation\n",
    "        p = [] \n",
    "        for tag in T:\n",
    "            if key == 0:\n",
    "                transition_p = tags_df.loc['.', tag]\n",
    "            else:\n",
    "                transition_p = tags_df.loc[state[-1], tag]\n",
    "                \n",
    "            # compute emission and state probabilities\n",
    "            emission_p = word_given_tag(words[key], tag)[0]/word_given_tag(words[key], tag)[1]\n",
    "            state_probability = emission_p * transition_p    \n",
    "            p.append(state_probability)\n",
    "            \n",
    "        pmax = max(p)\n",
    "        # getting state for which probability is maximum\n",
    "        state_max = T[p.index(pmax)] \n",
    "        state.append(state_max)\n",
    "    return list(zip(words, state))"
   ]
  },
  {
   "cell_type": "markdown",
   "metadata": {},
   "source": [
    "### Solve the problem of unknown words"
   ]
  },
  {
   "cell_type": "code",
   "execution_count": 39,
   "metadata": {},
   "outputs": [
    {
     "data": {
      "text/plain": [
       "[[('When', 'ADV'),\n",
       "  ('it', 'PRON'),\n",
       "  (\"'s\", 'VERB'),\n",
       "  ('time', 'NOUN'),\n",
       "  ('for', 'ADP'),\n",
       "  ('their', 'PRON'),\n",
       "  ('biannual', 'ADJ'),\n",
       "  ('powwow', 'NOUN'),\n",
       "  ('*T*-1', 'X'),\n",
       "  (',', '.'),\n",
       "  ('the', 'DET'),\n",
       "  ('nation', 'NOUN'),\n",
       "  (\"'s\", 'PRT'),\n",
       "  ('manufacturing', 'VERB'),\n",
       "  ('titans', 'NOUN'),\n",
       "  ('typically', 'ADV'),\n",
       "  ('jet', 'VERB'),\n",
       "  ('off', 'PRT'),\n",
       "  ('to', 'PRT'),\n",
       "  ('the', 'DET'),\n",
       "  ('sunny', 'ADJ'),\n",
       "  ('confines', 'NOUN'),\n",
       "  ('of', 'ADP'),\n",
       "  ('resort', 'NOUN'),\n",
       "  ('towns', 'NOUN'),\n",
       "  ('like', 'ADP'),\n",
       "  ('Boca', 'NOUN'),\n",
       "  ('Raton', 'NOUN'),\n",
       "  ('and', 'CONJ'),\n",
       "  ('Hot', 'NOUN'),\n",
       "  ('Springs', 'NOUN'),\n",
       "  ('.', '.')],\n",
       " [('Officials', 'NOUN'),\n",
       "  ('from', 'ADP'),\n",
       "  ('the', 'DET'),\n",
       "  ('various', 'ADJ'),\n",
       "  ('banks', 'NOUN'),\n",
       "  ('involved', 'VERB'),\n",
       "  ('*', 'X'),\n",
       "  ('are', 'VERB'),\n",
       "  ('expected', 'VERB'),\n",
       "  ('*-1', 'X'),\n",
       "  ('to', 'PRT'),\n",
       "  ('meet', 'VERB'),\n",
       "  ('during', 'ADP'),\n",
       "  ('the', 'DET'),\n",
       "  ('next', 'ADJ'),\n",
       "  ('few', 'ADJ'),\n",
       "  ('days', 'NOUN'),\n",
       "  ('*-2', 'X'),\n",
       "  ('to', 'PRT'),\n",
       "  ('consider', 'VERB'),\n",
       "  ('other', 'ADJ'),\n",
       "  ('arrangements', 'NOUN'),\n",
       "  ('with', 'ADP'),\n",
       "  ('local', 'ADJ'),\n",
       "  ('authorities', 'NOUN'),\n",
       "  ('that', 'DET'),\n",
       "  ('*T*-3', 'X'),\n",
       "  ('could', 'VERB'),\n",
       "  ('be', 'VERB'),\n",
       "  ('questionable', 'ADJ'),\n",
       "  ('.', '.')],\n",
       " [('I', 'PRON'),\n",
       "  ('would', 'VERB'),\n",
       "  ('predict', 'VERB'),\n",
       "  ('that', 'ADP'),\n",
       "  ('within', 'ADP'),\n",
       "  ('a', 'DET'),\n",
       "  ('short', 'ADJ'),\n",
       "  ('time', 'NOUN'),\n",
       "  ('most', 'ADJ'),\n",
       "  ('of', 'ADP'),\n",
       "  ('them', 'PRON'),\n",
       "  ('would', 'VERB'),\n",
       "  ('find', 'VERB'),\n",
       "  ('Thunderbird', 'NOUN'),\n",
       "  ('a', 'DET'),\n",
       "  ('satisfactory', 'ADJ'),\n",
       "  ('substitute', 'NOUN'),\n",
       "  ('for', 'ADP'),\n",
       "  ('Chivas', 'NOUN'),\n",
       "  ('Regal', 'NOUN'),\n",
       "  ('and', 'CONJ'),\n",
       "  ('that', 'ADP'),\n",
       "  ('their', 'PRON'),\n",
       "  ('``', '.'),\n",
       "  ('normal', 'ADJ'),\n",
       "  (\"''\", '.'),\n",
       "  ('phobias', 'NOUN'),\n",
       "  (',', '.'),\n",
       "  ('anxieties', 'NOUN'),\n",
       "  (',', '.'),\n",
       "  ('depressions', 'NOUN'),\n",
       "  ('and', 'CONJ'),\n",
       "  ('substance', 'NOUN'),\n",
       "  ('abuse', 'NOUN'),\n",
       "  ('would', 'VERB'),\n",
       "  ('increase', 'VERB'),\n",
       "  ('dramatically', 'ADV'),\n",
       "  ('.', '.')],\n",
       " [('Excluding', 'VERB'),\n",
       "  ('these', 'DET'),\n",
       "  ('orders', 'NOUN'),\n",
       "  (',', '.'),\n",
       "  ('backlogs', 'NOUN'),\n",
       "  ('declined', 'VERB'),\n",
       "  ('0.3', 'NUM'),\n",
       "  ('%', 'NOUN'),\n",
       "  ('.', '.')],\n",
       " [('A', 'DET'),\n",
       "  ('1', 'NUM'),\n",
       "  ('%', 'NOUN'),\n",
       "  ('to', 'PRT'),\n",
       "  ('2', 'NUM'),\n",
       "  ('%', 'NOUN'),\n",
       "  ('*U*', 'X'),\n",
       "  ('return', 'NOUN'),\n",
       "  ('on', 'ADP'),\n",
       "  ('$', '.'),\n",
       "  ('17', 'NUM'),\n",
       "  ('billion', 'NUM'),\n",
       "  ('*U*', 'X'),\n",
       "  ('``', '.'),\n",
       "  ('ai', 'VERB'),\n",
       "  (\"n't\", 'ADV'),\n",
       "  ('hay', 'NOUN'),\n",
       "  (',', '.'),\n",
       "  (\"''\", '.'),\n",
       "  ('Mr.', 'NOUN'),\n",
       "  ('Klauser', 'NOUN'),\n",
       "  ('says', 'VERB'),\n",
       "  ('0', 'X'),\n",
       "  ('*T*-1', 'X'),\n",
       "  ('.', '.')]]"
      ]
     },
     "execution_count": 39,
     "metadata": {},
     "output_type": "execute_result"
    }
   ],
   "source": [
    "# Let's test our Viterbi algorithm on a few sample sentences of test dataset\n",
    "\n",
    "random.seed(1234)\n",
    "\n",
    "# choose random 5 sents\n",
    "# rndom = [random.randint(1,len(test_set)) for x in range(5)]\n",
    "\n",
    "# list of sents\n",
    "# test_run = [test_set[i] for i in rndom]\n",
    "\n",
    "# list of tagged words on whole test data set\n",
    "test_run_base = [tup for sent in test_set for tup in sent]\n",
    "\n",
    "# list of untagged words\n",
    "test_tagged_words = [tup[0] for sent in test_set for tup in sent]\n",
    "test_run"
   ]
  },
  {
   "cell_type": "code",
   "execution_count": 40,
   "metadata": {},
   "outputs": [],
   "source": [
    "# tagging the test sentences\n",
    "start = time.time()\n",
    "tagged_seq = Viterbi(test_tagged_words)\n",
    "end = time.time()\n",
    "difference = end-start"
   ]
  },
  {
   "cell_type": "code",
   "execution_count": 41,
   "metadata": {},
   "outputs": [
    {
     "name": "stdout",
     "output_type": "stream",
     "text": [
      "Time taken in seconds:  1963.4683039188385\n",
      "[('The', 'DET'), ('yield', 'NOUN'), ('fell', 'VERB'), ('to', 'PRT'), ('7.88', 'NUM'), ('%', 'NOUN'), ('.', '.'), ('They', 'PRON'), ('also', 'ADV'), ('said', 'VERB'), ('that', 'ADP'), ('vendors', 'ADV'), ('were', 'VERB'), ('delivering', 'ADV'), ('goods', 'NOUN'), ('more', 'ADV'), ('quickly', 'ADV'), ('*ICH*-1', 'X'), ('in', 'ADP'), ('October', 'NOUN'), ('than', 'ADP'), ('they', 'PRON'), ('had', 'VERB'), ('*?*', 'X'), ('for', 'ADP'), ('each', 'DET'), ('of', 'ADP'), ('the', 'DET'), ('five', 'NUM'), ('previous', 'ADJ'), ('months', 'NOUN'), ('.', '.'), ('I', 'PRON'), ('would', 'VERB'), ('predict', 'VERB'), ('that', 'ADP'), ('within', 'ADP'), ('a', 'DET'), ('short', 'ADJ'), ('time', 'NOUN'), ('most', 'ADV'), ('of', 'ADP'), ('them', 'PRON'), ('would', 'VERB'), ('find', 'VERB'), ('Thunderbird', 'ADV'), ('a', 'DET'), ('satisfactory', 'ADJ'), ('substitute', 'ADV'), ('for', 'ADP'), ('Chivas', 'ADV'), ('Regal', 'ADV'), ('and', 'CONJ'), ('that', 'DET'), ('their', 'PRON'), ('``', '.'), ('normal', 'ADJ'), (\"''\", '.'), ('phobias', 'ADV'), (',', '.'), ('anxieties', 'NOUN'), (',', '.'), ('depressions', 'ADV'), ('and', 'CONJ'), ('substance', 'NOUN'), ('abuse', 'NOUN'), ('would', 'VERB'), ('increase', 'VERB'), ('dramatically', 'ADV'), ('.', '.'), ('Mr.', 'NOUN'), ('Martin', 'NOUN'), ('has', 'VERB'), ('increased', 'VERB'), ('prices', 'NOUN'), ('on', 'ADP'), ('some', 'DET'), ('wines', 'NOUN'), ('-LRB-', '.'), ('like', 'ADP'), ('Grgich', 'ADV'), ('Hills', 'NOUN'), ('Chardonnay', 'ADV'), (',', '.'), ('now', 'ADV'), ('$', '.'), ('32', 'NUM'), ('*U*', 'X'), ('-RRB-', '.'), ('just', 'ADV'), ('*-1', 'X'), ('to', 'PRT'), ('slow', 'VERB'), ('down', 'ADV'), ('movement', 'NOUN'), (',', '.'), ('but', 'CONJ'), ('he', 'PRON'), ('is', 'VERB'), ('beginning', 'VERB'), ('*-2', 'X'), ('to', 'PRT'), ('see', 'VERB'), ('some', 'DET'), ('resistance', 'NOUN'), ('to', 'PRT'), ('high-priced', 'ADJ'), ('red', 'NOUN'), ('Burgundies', 'NOUN'), ('and', 'CONJ'), ('Cabernets', 'NOUN'), ('and', 'CONJ'), ('Chardonnays', 'ADV'), ('in', 'ADP'), ('the', 'DET'), ('$', '.'), ('30', 'NUM'), ('to', 'PRT'), ('$', '.'), ('40', 'NUM'), ('*U*', 'X'), ('range', 'VERB'), ('.', '.'), ('If', 'ADP'), ('``', '.'), ('A', 'DET'), ('Wild', 'NOUN'), ('Sheep', 'NOUN'), ('Chase', 'NOUN'), (\"''\", '.'), ('carries', 'VERB'), ('an', 'DET'), ('implicit', 'ADV'), ('message', 'NOUN'), ('for', 'ADP'), ('international', 'ADJ'), ('relations', 'NOUN'), (',', '.'), ('it', 'PRON'), (\"'s\", 'VERB'), ('that', 'ADP'), ('the', 'DET'), ('Japanese', 'ADJ'), ('are', 'VERB'), ('more', 'ADV'), ('like', 'ADP'), ('us', 'PRON'), ('than', 'ADP'), ('most', 'ADJ'), ('of', 'ADP'), ('us', 'PRON'), ('think', 'VERB'), ('0', 'X'), ('*?*', 'X'), ('.', '.'), ('Takashima', 'ADV'), ('&', 'CONJ'), ('Co', 'NOUN'), ('.', '.'), ('-LRB-', '.'), ('Japan', 'NOUN'), ('-RRB-', '.'), ('--', '.'), ('The', 'DET'), ('percent', 'ADV'), ('difference', 'NOUN'), ('compares', 'VERB'), ('actual', 'ADJ'), ('profit', 'NOUN'), ('with', 'ADP'), ('the', 'DET'), ('30-day', 'ADJ'), ('estimate', 'NOUN'), ('where', 'ADV'), ('at', 'ADP'), ('least', 'ADJ'), ('three', 'NUM'), ('analysts', 'NOUN'), ('have', 'VERB'), ('issues', 'NOUN'), ('forecasts', 'NOUN'), ('in', 'ADP'), ('the', 'DET'), ('past', 'ADJ'), ('30', 'NUM'), ('days', 'NOUN'), ('*T*-1', 'X'), ('.', '.'), ('Or', 'CONJ'), (',', '.'), ('as', 'ADP'), ('Dorothy', 'NOUN'), ('Arighi', 'NOUN'), (',', '.'), ('an', 'DET'), ('interior', 'ADV'), ('decorator', 'ADV'), ('in', 'ADP'), ('Arnold', 'NOUN'), (',', '.'), ('Calif.', 'NOUN'), (',', '.'), ('puts', 'VERB'), ('it', 'PRON'), (':', '.'), ('``', '.'), ('All', 'DET'), ('kinds', 'NOUN'), ('of', 'ADP'), ('funny', 'ADJ'), ('things', 'NOUN'), ('spook', 'ADV'), ('the', 'DET'), ('market', 'NOUN'), ('these', 'DET'), ('days', 'NOUN'), ('.', '.'), (\"''\", '.'), ('TIRED', 'ADV'), ('OF', 'ADP'), ('*', 'X'), ('TRIMMING', 'ADV'), ('?', '.'), ('The', 'DET'), ('company', 'NOUN'), ('said', 'VERB'), ('that', 'ADP'), ('because', 'ADP'), ('of', 'ADP'), ('softening', 'NOUN'), ('sales', 'NOUN'), ('it', 'PRON'), ('is', 'VERB'), (\"n't\", 'ADV'), ('in', 'ADP'), ('compliance', 'NOUN'), ('with', 'ADP'), ('requirements', 'NOUN'), ('that', 'ADP'), ('it', 'PRON'), ('maintain', 'VERB'), ('$', '.'), ('3', 'NUM'), ('million', 'NUM'), ('*U*', 'X'), ('in', 'ADP'), ('working', 'ADJ'), ('capital', 'NOUN'), ('.', '.'), ('The', 'DET'), ('paper', 'NOUN'), ('accused', 'VERB'), ('him', 'PRON'), ('of', 'ADP'), ('*-3', 'X'), ('being', 'VERB'), ('a', 'DET'), ('leading', 'VERB'), ('proponent', 'ADV'), ('of', 'ADP'), ('``', '.'), ('peaceful', 'ADV'), ('evolution', 'NOUN'), (',', '.'), (\"''\", '.'), ('a', 'DET'), ('catch', 'VERB'), ('phrase', 'NOUN'), ('0', 'X'), ('*', 'X'), ('to', 'PRT'), ('describe', 'VERB'), ('what', 'PRON'), ('China', 'NOUN'), ('believes', 'VERB'), ('0', 'X'), ('*T*-1', 'X'), ('is', 'VERB'), ('the', 'DET'), ('policy', 'NOUN'), ('*ICH*-4', 'X'), ('of', 'ADP'), ('Western', 'ADJ'), ('countries', 'NOUN'), ('*', 'X'), ('to', 'PRT'), ('seduce', 'ADV'), ('socialist', 'ADV'), ('nations', 'NOUN'), ('into', 'ADP'), ('the', 'DET'), ('capitalist', 'ADV'), ('sphere', 'NOUN'), ('*T*-2', 'X'), ('.', '.'), ('Judge', 'NOUN'), ('Ramirez', 'NOUN'), (',', '.'), ('44', 'NUM'), (',', '.'), ('said', 'VERB'), ('0', 'X'), ('it', 'PRON'), ('*EXP*-3', 'X'), ('is', 'VERB'), ('unjust', 'ADV'), ('for', 'ADP'), ('judges', 'NOUN'), ('to', 'PRT'), ('make', 'VERB'), ('what', 'PRON'), ('they', 'PRON'), ('do', 'VERB'), ('*?*', 'X'), ('*T*-2', 'X'), ('.', '.'), ('On', 'ADP'), ('the', 'DET'), ('Big', 'NOUN'), ('Board', 'NOUN'), (',', '.'), ('a', 'DET'), ('``', '.'), ('side', 'NOUN'), ('car', 'NOUN'), (\"''\", '.'), ('is', 'VERB'), ('put', 'VERB'), ('*-1', 'X'), ('into', 'ADP'), ('effect', 'NOUN'), ('when', 'ADV'), ('the', 'DET'), ('S&P', 'NOUN'), ('futures', 'NOUN'), ('rise', 'VERB'), ('or', 'CONJ'), ('fall', 'NOUN'), ('12', 'NUM'), ('points', 'NOUN'), ('*T*-2', 'X'), ('.', '.'), ('Moreover', 'ADV'), (',', '.'), ('junk', 'NOUN'), ('professionals', 'NOUN'), ('think', 'VERB'), ('Columbia', 'NOUN'), (\"'s\", 'PRT'), ('huge', 'ADJ'), ('third-quarter', 'NOUN'), ('markdown', 'NOUN'), ('of', 'ADP'), ('its', 'PRON'), ('junk', 'NOUN'), ('portfolio', 'NOUN'), ('to', 'PRT'), ('$', '.'), ('4.4', 'NUM'), ('billion', 'NUM'), ('*U*', 'X'), ('was', 'VERB'), (\"n't\", 'ADV'), ('enough', 'ADV'), (',', '.'), ('*', 'X'), ('meaning', 'VERB'), ('0', 'X'), ('another', 'DET'), ('markdown', 'NOUN'), ('could', 'VERB'), ('be', 'VERB'), ('coming', 'VERB'), ('.', '.'), ('A', 'DET'), ('trend', 'NOUN'), ('that', 'ADP'), ('*T*-72', 'X'), ('started', 'VERB'), ('with', 'ADP'), ('the', 'DET'), ('first', 'ADJ'), ('stirrings', 'ADV'), ('of', 'ADP'), ('politics', 'NOUN'), (',', '.'), ('accelerated', 'ADJ'), ('with', 'ADP'), ('the', 'DET'), ('dawn', 'ADV'), ('of', 'ADP'), ('the', 'DET'), ('television', 'NOUN'), ('age', 'NOUN'), ('and', 'CONJ'), ('became', 'VERB'), ('a', 'DET'), ('sometimes-tawdry', 'ADV'), ('art', 'NOUN'), ('form', 'NOUN'), ('in', 'ADP'), ('1988', 'NUM'), (',', '.'), ('has', 'VERB'), ('reached', 'VERB'), ('an', 'DET'), ('entirely', 'ADV'), ('new', 'ADJ'), ('stage', 'NOUN'), ('.', '.'), ('Analysts', 'NOUN'), ('saw', 'VERB'), ('the', 'DET'), ('latest', 'ADJ'), ('offer', 'NOUN'), ('as', 'ADP'), ('proof', 'ADV'), ('that', 'ADP'), ('Mr.', 'NOUN'), ('Simmons', 'NOUN'), (',', '.'), ('an', 'DET'), ('aggressive', 'ADJ'), ('and', 'CONJ'), ('persistent', 'ADJ'), ('investor', 'NOUN'), (',', '.'), ('wo', 'VERB'), (\"n't\", 'ADV'), ('leave', 'VERB'), ('Georgia', 'NOUN'), ('Gulf', 'NOUN'), ('alone', 'ADV'), ('until', 'ADP'), ('some', 'DET'), ('kind', 'NOUN'), ('of', 'ADP'), ('transaction', 'NOUN'), ('is', 'VERB'), ('completed', 'VERB'), ('*-113', 'ADV'), ('.', '.'), ('Among', 'ADP'), ('other', 'ADJ'), ('banking', 'NOUN'), ('issues', 'NOUN'), (',', '.'), ('Pennview', 'ADV'), ('Savings', 'NOUN'), ('Association', 'NOUN'), ('leapt', 'ADV'), ('more', 'ADJ'), ('than', 'ADP'), ('44', 'NUM'), ('%', 'NOUN'), ('with', 'ADP'), ('a', 'DET'), ('gain', 'NOUN'), ('of', 'ADP'), ('6', 'NUM'), ('5\\\\/8', 'NUM'), ('to', 'PRT'), ('21', 'NUM'), ('5\\\\/8', 'NUM'), ('.', '.'), ('Many', 'ADJ'), ('people', 'NOUN'), ('believe', 'VERB'), ('0', 'X'), ('the', 'DET'), ('growth', 'NOUN'), ('in', 'ADP'), ('dividends', 'NOUN'), ('will', 'VERB'), ('slow', 'ADJ'), ('next', 'ADJ'), ('year', 'NOUN'), (',', '.'), ('although', 'ADP'), ('a', 'DET'), ('minority', 'NOUN'), ('see', 'VERB'), ('double-digit', 'ADJ'), ('gains', 'NOUN'), ('continuing', 'VERB'), ('.', '.'), ('``', '.'), ('These', 'DET'), ('cases', 'NOUN'), ('lead', 'VERB'), ('to', 'PRT'), ('the', 'DET'), ('loss', 'NOUN'), ('of', 'ADP'), ('the', 'DET'), ('firms', 'NOUN'), (\"'\", 'PRT'), ('social', 'ADJ'), ('and', 'CONJ'), ('international', 'ADJ'), ('credibility', 'NOUN'), (',', '.'), (\"''\", '.'), ('a', 'DET'), ('ministry', 'ADV'), ('statement', 'NOUN'), ('said', 'VERB'), ('*T*-1', 'X'), ('.', '.'), ('While', 'ADP'), ('*-1', 'X'), ('neither', 'DET'), ('admitting', 'VERB'), ('nor', 'CONJ'), ('denying', 'VERB'), ('wrongdoing', 'NOUN'), (',', '.'), ('Triton', 'NOUN'), ('and', 'CONJ'), ('Mr.', 'NOUN'), ('Chase', 'NOUN'), ('consented', 'VERB'), ('to', 'PRT'), ('findings', 'NOUN'), ('of', 'ADP'), ('violations', 'NOUN'), ('in', 'ADP'), ('connection', 'NOUN'), ('with', 'ADP'), ('limited-partnership', 'NOUN'), ('sales', 'NOUN'), ('.', '.'), ('These', 'DET'), ('included', 'VERB'), ('China', 'NOUN'), (\"'s\", 'PRT'), ('economic', 'ADJ'), ('policies', 'NOUN'), (',', '.'), ('human', 'ADJ'), ('rights', 'NOUN'), ('and', 'CONJ'), ('the', 'DET'), ('question', 'NOUN'), ('of', 'ADP'), ('Mr.', 'NOUN'), ('Fang', 'NOUN'), ('.', '.'), ('``', '.'), ('Maybe', 'ADV'), ('it', 'PRON'), ('was', 'VERB'), (\"n't\", 'ADV'), ('enough', 'ADV'), (',', '.'), (\"''\", '.'), ('a', 'DET'), ('Finance', 'NOUN'), ('Ministry', 'NOUN'), ('official', 'NOUN'), ('noted', 'VERB'), ('*T*-1', 'X'), ('after', 'ADP'), ('the', 'DET'), ('Dec.', 'NOUN'), ('7', 'NUM'), ('surge', 'NOUN'), ('.', '.'), ('Robert', 'NOUN'), ('P.', 'NOUN'), ('Tassinari', 'ADV'), (',', '.'), ('63', 'NUM'), (',', '.'), ('was', 'VERB'), ('named', 'VERB'), ('*-29', 'X'), ('senior', 'ADJ'), ('vice', 'NOUN'), ('president', 'NOUN'), ('of', 'ADP'), ('Eastern', 'NOUN'), ('Utilities', 'NOUN'), ('.', '.'), ('Neither', 'DET'), ('Equus', 'NOUN'), ('nor', 'CONJ'), ('Tony', 'NOUN'), ('Lama', 'NOUN'), ('gave', 'VERB'), ('a', 'DET'), ('reason', 'NOUN'), ('for', 'ADP'), ('the', 'DET'), ('changed', 'VERB'), ('offer', 'NOUN'), ('and', 'CONJ'), ('Tony', 'NOUN'), ('Lama', 'NOUN'), ('could', 'VERB'), (\"n't\", 'ADV'), ('be', 'VERB'), ('reached', 'VERB'), ('*-1', 'X'), ('for', 'ADP'), ('comment', 'NOUN'), ('.', '.'), ('Excluding', 'VERB'), ('these', 'DET'), ('orders', 'NOUN'), (',', '.'), ('backlogs', 'NOUN'), ('declined', 'VERB'), ('0.3', 'NUM'), ('%', 'NOUN'), ('.', '.'), ('By', 'ADP'), ('most', 'ADJ'), ('measures', 'NOUN'), (',', '.'), ('the', 'DET'), ('nation', 'NOUN'), (\"'s\", 'PRT'), ('industrial', 'ADJ'), ('sector', 'NOUN'), ('is', 'VERB'), ('now', 'ADV'), ('growing', 'VERB'), ('very', 'ADV'), ('slowly', 'ADV'), ('--', '.'), ('if', 'ADP'), ('at', 'ADP'), ('all', 'DET'), ('.', '.'), ('In', 'ADP'), ('an', 'DET'), ('eight-count', 'ADV'), ('indictment', 'ADV'), (',', '.'), ('the', 'DET'), ('government', 'NOUN'), ('has', 'VERB'), ('charged', 'VERB'), ('GAF', 'NOUN'), (',', '.'), ('a', 'DET'), ('Wayne', 'NOUN'), (',', '.'), ('N.J.', 'NOUN'), (',', '.'), ('specialty', 'NOUN'), ('chemical', 'NOUN'), ('maker', 'NOUN'), (',', '.'), ('and', 'CONJ'), ('its', 'PRON'), ('Vice', 'ADV'), ('Chairman', 'NOUN'), ('James', 'NOUN'), ('T.', 'NOUN'), ('Sherwin', 'ADV'), ('with', 'ADP'), ('*-2', 'X'), ('attempting', 'VERB'), ('*-1', 'X'), ('to', 'PRT'), ('manipulate', 'ADV'), ('the', 'DET'), ('common', 'ADJ'), ('stock', 'NOUN'), ('of', 'ADP'), ('Union', 'NOUN'), ('Carbide', 'ADV'), ('Corp.', 'NOUN'), ('in', 'ADP'), ('advance', 'NOUN'), ('of', 'ADP'), ('GAF', 'NOUN'), (\"'s\", 'PRT'), ('planned', 'VERB'), ('sale', 'NOUN'), ('of', 'ADP'), ('a', 'DET'), ('large', 'ADJ'), ('block', 'NOUN'), ('of', 'ADP'), ('the', 'DET'), ('stock', 'NOUN'), ('in', 'ADP'), ('November', 'NOUN'), ('1986', 'NUM'), ('.', '.'), ('USX', 'NOUN'), ('has', 'VERB'), ('15', 'NUM'), ('working', 'NOUN'), ('days', 'NOUN'), ('0', 'X'), ('*', 'X'), ('to', 'PRT'), ('contest', 'ADV'), ('the', 'DET'), ('citations', 'NOUN'), ('and', 'CONJ'), ('proposed', 'VERB'), ('penalties', 'NOUN'), (',', '.'), ('before', 'ADP'), ('the', 'DET'), ('independent', 'ADJ'), ('Occupational', 'NOUN'), ('Safety', 'NOUN'), ('and', 'CONJ'), ('Health', 'NOUN'), ('Review', 'ADV'), ('Commission', 'NOUN'), ('*T*-1', 'X'), ('.', '.'), ('But', 'CONJ'), ('as', 'ADP'), ('the', 'DET'), ('craze', 'NOUN'), ('died', 'VERB'), (',', '.'), ('Coleco', 'NOUN'), ('failed', 'VERB'), ('*-1', 'X'), ('to', 'PRT'), ('come', 'VERB'), ('up', 'ADV'), ('with', 'ADP'), ('another', 'DET'), ('winner', 'ADV'), ('and', 'CONJ'), ('filed', 'VERB'), ('for', 'ADP'), ('bankruptcy-law', 'ADV'), ('protection', 'NOUN'), ('in', 'ADP'), ('July', 'NOUN'), ('1988', 'NUM'), ('.', '.'), ('Such', 'ADJ'), ('an', 'DET'), ('application', 'NOUN'), ('for', 'ADP'), ('federal', 'ADJ'), ('antitrust', 'ADJ'), ('clearance', 'NOUN'), ('is', 'VERB'), ('necessary', 'ADJ'), ('for', 'ADP'), ('any', 'DET'), ('investor', 'NOUN'), ('that', 'ADP'), ('*T*-1', 'X'), ('might', 'VERB'), ('seek', 'VERB'), ('control', 'NOUN'), ('.', '.'), ('Officials', 'NOUN'), ('from', 'ADP'), ('the', 'DET'), ('various', 'ADJ'), ('banks', 'NOUN'), ('involved', 'VERB'), ('*', 'X'), ('are', 'VERB'), ('expected', 'VERB'), ('*-1', 'X'), ('to', 'PRT'), ('meet', 'VERB'), ('during', 'ADP'), ('the', 'DET'), ('next', 'ADJ'), ('few', 'ADJ'), ('days', 'NOUN'), ('*-2', 'X'), ('to', 'PRT'), ('consider', 'VERB'), ('other', 'ADJ'), ('arrangements', 'ADV'), ('with', 'ADP'), ('local', 'ADJ'), ('authorities', 'NOUN'), ('that', 'ADP'), ('*T*-3', 'X'), ('could', 'VERB'), ('be', 'VERB'), ('questionable', 'ADJ'), ('.', '.'), ('Among', 'ADP'), ('the', 'DET'), ('top', 'ADJ'), ('practitioners', 'NOUN'), ('were', 'VERB'), ('*T*-1', 'X'), ('Wall', 'NOUN'), ('Street', 'NOUN'), ('blue', 'ADJ'), ('bloods', 'ADV'), (':', '.'), ('Morgan', 'NOUN'), ('Stanley', 'NOUN'), ('&', 'CONJ'), ('Co.', 'NOUN'), (',', '.'), ('Kidder', 'NOUN'), ('Peabody', 'NOUN'), (',', '.'), ('Merrill', 'NOUN'), ('Lynch', 'NOUN'), (',', '.'), ('Salomon', 'NOUN'), ('Brothers', 'NOUN'), ('Inc.', 'NOUN'), ('and', 'CONJ'), ('PaineWebber', 'NOUN'), ('Group', 'NOUN'), ('Inc', 'NOUN'), ('.', '.'), ('``', '.'), ('The', 'DET'), ('morbidity', 'ADV'), ('rate', 'NOUN'), ('is', 'VERB'), ('a', 'DET'), ('striking', 'ADJ'), ('finding', 'NOUN'), ('among', 'ADP'), ('those', 'DET'), ('of', 'ADP'), ('us', 'PRON'), ('who', 'PRON'), ('*T*-5', 'X'), ('study', 'VERB'), ('asbestos-related', 'ADJ'), ('diseases', 'NOUN'), (',', '.'), (\"''\", '.'), ('said', 'VERB'), ('*T*-1', 'X'), ('Dr.', 'NOUN'), ('Talcott', 'NOUN'), ('.', '.'), ('Still', 'ADV'), ('unresolved', 'ADV'), ('is', 'VERB'), ('*T*-1', 'X'), ('Sony', 'NOUN'), (\"'s\", 'PRT'), ('effort', 'NOUN'), ('*', 'X'), ('to', 'PRT'), ('hire', 'VERB'), ('producers', 'NOUN'), ('Jon', 'ADV'), ('Peters', 'ADV'), ('and', 'CONJ'), ('Peter', 'NOUN'), ('Guber', 'ADV'), ('to', 'PRT'), ('run', 'VERB'), ('the', 'DET'), ('studio', 'NOUN'), ('.', '.'), ('The', 'DET'), ('aerospace', 'NOUN'), (',', '.'), ('automotive', 'ADJ'), ('supply', 'NOUN'), (',', '.'), ('electronics', 'NOUN'), ('and', 'CONJ'), ('printing-press', 'ADV'), ('concern', 'NOUN'), ('also', 'ADV'), ('indicated', 'VERB'), ('that', 'ADP'), ('the', 'DET'), ('first', 'ADJ'), ('half', 'NOUN'), ('of', 'ADP'), ('fiscal', 'ADJ'), ('1990', 'NUM'), ('could', 'VERB'), ('be', 'VERB'), ('rough', 'ADJ'), ('.', '.'), ('Why', 'ADV'), ('are', 'VERB'), ('we', 'PRON'), ('blacks', 'NOUN'), ('continually', 'ADV'), ('defined', 'ADV'), ('*-1', 'X'), ('by', 'ADP'), ('our', 'PRON'), ('minority', 'NOUN'), ('and', 'CONJ'), ('the', 'DET'), ('lowest', 'ADJ'), ('common', 'ADJ'), ('denominator', 'ADV'), ('.', '.'), ('Light', 'ADV'), ('trucks', 'NOUN'), ('and', 'CONJ'), ('vans', 'NOUN'), ('will', 'VERB'), ('face', 'VERB'), ('the', 'DET'), ('same', 'ADJ'), ('safety', 'NOUN'), ('requirements', 'NOUN'), ('as', 'ADP'), ('automobiles', 'NOUN'), ('under', 'ADP'), ('new', 'ADJ'), ('proposals', 'NOUN'), ('by', 'ADP'), ('the', 'DET'), ('Transportation', 'NOUN'), ('Department', 'NOUN'), ('.', '.'), ('Savin', 'NOUN'), ('Corp.', 'NOUN'), ('reported', 'VERB'), ('a', 'DET'), ('third-quarter', 'NOUN'), ('net', 'NOUN'), ('loss', 'NOUN'), ('of', 'ADP'), ('$', '.'), ('35.2', 'ADV'), ('million', 'NUM'), ('*U*', 'X'), (',', '.'), ('or', 'CONJ'), ('31', 'NUM'), ('cents', 'NOUN'), ('a', 'DET'), ('share', 'NOUN'), (',', '.'), ('compared', 'VERB'), ('with', 'ADP'), ('year-earlier', 'ADJ'), ('profit', 'NOUN'), ('of', 'ADP'), ('$', '.'), ('3.8', 'NUM'), ('million', 'NUM'), ('*U*', 'X'), (',', '.'), ('or', 'CONJ'), ('one', 'NUM'), ('cent', 'NOUN'), ('a', 'DET'), ('share', 'NOUN'), ('.', '.'), ('Home', 'ADV'), ('purchase', 'VERB'), ('plans', 'VERB'), ('increased', 'VERB'), ('to', 'PRT'), ('3.3', 'NUM'), ('%', 'NOUN'), ('from', 'ADP'), ('3.1', 'NUM'), ('%', 'NOUN'), ('in', 'ADP'), ('the', 'DET'), ('two', 'NUM'), ('recent', 'ADJ'), ('months', 'NOUN'), ('.', '.'), ('These', 'DET'), ('nations', 'NOUN'), (\"'\", 'PRT'), ('internal', 'ADJ'), ('decisions', 'NOUN'), ('``', '.'), ('will', 'VERB'), ('be', 'VERB'), ('made', 'VERB'), ('*-3', 'X'), ('in', 'ADP'), ('a', 'DET'), ('way', 'NOUN'), ('0', 'X'), ('*', 'X'), ('not', 'ADV'), ('to', 'PRT'), ('offend', 'ADV'), ('their', 'PRON'), ('largest', 'ADJ'), ('aid', 'NOUN'), ('donor', 'NOUN'), (',', '.'), ('largest', 'ADJ'), ('private', 'ADJ'), ('investor', 'NOUN'), ('and', 'CONJ'), ('largest', 'ADJ'), ('lender', 'ADV'), ('*T*-1', 'X'), (',', '.'), (\"''\", '.'), ('says', 'VERB'), ('0', 'X'), ('*T*-2', 'X'), ('Richard', 'NOUN'), ('Drobnick', 'ADV'), (',', '.'), ('director', 'NOUN'), ('of', 'ADP'), ('the', 'DET'), ('international', 'ADJ'), ('business', 'NOUN'), ('and', 'CONJ'), ('research', 'NOUN'), ('program', 'NOUN'), ('at', 'ADP'), ('the', 'DET'), ('University', 'NOUN'), ('of', 'ADP'), ('Southern', 'NOUN'), ('California', 'NOUN'), (\"'s\", 'PRT'), ('Graduate', 'NOUN'), ('School', 'NOUN'), ('of', 'ADP'), ('Business', 'NOUN'), ('.', '.'), ('The', 'DET'), ('minimum', 'ADJ'), ('unit', 'NOUN'), ('is', 'VERB'), ('$', '.'), ('100,000', 'NUM'), ('*U*', 'X'), ('.', '.'), ('The', 'DET'), ('surge', 'NOUN'), ('brings', 'VERB'), ('to', 'PRT'), ('nearly', 'ADV'), ('50', 'NUM'), ('the', 'DET'), ('number', 'NOUN'), ('of', 'ADP'), ('country', 'NOUN'), ('funds', 'NOUN'), ('that', 'ADP'), ('*T*-39', 'X'), ('are', 'VERB'), ('*RNR*-1', 'X'), ('or', 'CONJ'), ('soon', 'ADV'), ('will', 'VERB'), ('be', 'VERB'), ('*RNR*-1', 'X'), ('listed', 'VERB'), ('*-2', 'X'), ('in', 'ADP'), ('New', 'NOUN'), ('York', 'NOUN'), ('or', 'CONJ'), ('London', 'NOUN'), ('.', '.'), ('A.', 'NOUN'), ('Donald', 'NOUN'), ('Anderson', 'ADV'), (',', '.'), ('a', 'DET'), ('59-year-old', 'ADV'), ('Los', 'NOUN'), ('Angeles', 'NOUN'), ('investor', 'NOUN'), ('who', 'PRON'), ('*T*-1', 'X'), ('says', 'VERB'), ('0', 'X'), ('the', 'DET'), ('stock', 'NOUN'), ('market', 'NOUN'), (\"'s\", 'PRT'), ('``', '.'), ('fluctuations', 'ADV'), ('and', 'CONJ'), ('gyrations', 'NOUN'), ('give', 'VERB'), ('me', 'PRON'), ('the', 'DET'), ('heebie-jeebies', 'ADV'), (',', '.'), (\"''\", '.'), ('does', 'VERB'), (\"n't\", 'ADV'), ('see', 'VERB'), ('much', 'ADV'), ('point', 'VERB'), ('in', 'ADP'), ('*', 'X'), ('outlawing', 'ADV'), ('program', 'NOUN'), ('trading', 'NOUN'), ('.', '.'), ('In', 'ADP'), ('New', 'NOUN'), ('York', 'NOUN'), ('Stock', 'NOUN'), ('Exchange', 'NOUN'), ('composite', 'ADJ'), ('trading', 'NOUN'), ('yesterday', 'NOUN'), (',', '.'), ('Commonwealth', 'NOUN'), ('Edison', 'NOUN'), ('closed', 'VERB'), ('at', 'ADP'), ('$', '.'), ('38.375', 'ADV'), ('*U*', 'X'), (',', '.'), ('down', 'ADV'), ('12.5', 'NUM'), ('cents', 'NOUN'), ('.', '.'), ('Propaganda', 'ADV'), ('is', 'VERB'), ('just', 'ADV'), ('information', 'NOUN'), ('0', 'X'), ('*T*-1', 'X'), ('to', 'PRT'), ('support', 'VERB'), ('a', 'DET'), ('viewpoint', 'NOUN'), (',', '.'), ('and', 'CONJ'), ('the', 'DET'), ('beauty', 'NOUN'), ('of', 'ADP'), ('a', 'DET'), ('democracy', 'NOUN'), ('is', 'VERB'), ('that', 'ADP'), ('it', 'PRON'), ('enables', 'VERB'), ('you', 'PRON'), ('to', 'PRT'), ('hear', 'VERB'), ('or', 'CONJ'), ('read', 'VERB'), ('every', 'DET'), ('viewpoint', 'NOUN'), ('and', 'CONJ'), ('then', 'ADV'), ('make', 'VERB'), ('up', 'ADV'), ('your', 'PRON'), ('own', 'ADJ'), ('mind', 'VERB'), ('on', 'ADP'), ('an', 'DET'), ('issue', 'NOUN'), ('.', '.'), ('What', 'PRON'), ('*T*-234', 'ADV'), ('will', 'VERB'), ('happen', 'VERB'), ('to', 'PRT'), ('dividend', 'NOUN'), ('growth', 'NOUN'), ('next', 'ADP'), ('year', 'NOUN'), ('?', '.'), ('In', 'ADP'), ('1966', 'ADV'), (',', '.'), ('on', 'ADP'), ('route', 'ADV'), ('to', 'PRT'), ('a', 'DET'), ('re-election', 'NOUN'), ('rout', 'ADV'), ('of', 'ADP'), ('Democrat', 'NOUN'), ('Frank', 'NOUN'), (\"O'Connor\", 'ADV'), (',', '.'), ('GOP', 'NOUN'), ('Gov.', 'NOUN'), ('Nelson', 'NOUN'), ('Rockefeller', 'NOUN'), ('of', 'ADP'), ('New', 'NOUN'), ('York', 'NOUN'), ('appeared', 'VERB'), ('in', 'ADP'), ('person', 'NOUN'), ('*-1', 'X'), ('saying', 'VERB'), (',', '.'), ('``', '.'), ('If', 'ADP'), ('you', 'PRON'), ('want', 'VERB'), ('*-2', 'X'), ('to', 'PRT'), ('keep', 'VERB'), ('the', 'DET'), ('crime', 'NOUN'), ('rates', 'NOUN'), ('high', 'ADJ'), (',', '.'), (\"O'Connor\", 'ADV'), ('is', 'VERB'), ('your', 'PRON'), ('man', 'NOUN'), ('.', '.'), (\"''\", '.'), ('How', 'ADV'), ('does', 'VERB'), ('a', 'DET'), ('nice', 'ADJ'), ('new', 'ADJ'), ('tax', 'NOUN'), (',', '.'), ('say', 'VERB'), ('5', 'NUM'), ('%', 'NOUN'), (',', '.'), ('on', 'ADP'), ('any', 'DET'), ('financial', 'ADJ'), ('transaction', 'NOUN'), ('sound', 'NOUN'), ('*T*-1', 'X'), ('?', '.'), ('Andrew', 'NOUN'), ('Derel', 'ADV'), ('Adams', 'ADV'), (',', '.'), ('Killeen', 'ADV'), (',', '.'), ('Texas', 'NOUN'), (',', '.'), ('fined', 'VERB'), ('*-1', 'X'), ('$', '.'), ('15,000', 'NUM'), ('*U*', 'X'), (';', '.'), ('John', 'NOUN'), ('Francis', 'NOUN'), ('Angier', 'ADV'), ('Jr.', 'NOUN'), (',', '.'), ('Reddington', 'ADV'), ('Shores', 'ADV'), (',', '.'), ('Fla.', 'NOUN'), (',', '.'), ('$', '.'), ('15,000', 'NUM'), ('*U*', 'X'), (';', '.'), ('Mark', 'NOUN'), ('Anthony', 'NOUN'), (',', '.'), ('Arlington', 'ADV'), ('Heights', 'NOUN'), (',', '.'), ('Ill.', 'NOUN'), (',', '.'), ('$', '.'), ('10,000', 'NUM'), ('*U*', 'X'), ('and', 'CONJ'), ('30-day', 'ADJ'), ('suspension', 'NOUN'), (';', '.'), ('William', 'NOUN'), ('Stirlen', 'ADV'), (',', '.'), ('Arlington', 'ADV'), ('Heights', 'NOUN'), (',', '.'), ('Ill.', 'NOUN'), (',', '.'), ('$', '.'), ('7,500', 'NUM'), ('*U*', 'X'), ('and', 'CONJ'), ('30-day', 'ADJ'), ('suspension', 'NOUN'), (';', '.'), ('Fred', 'NOUN'), ('W.', 'NOUN'), ('Bonnell', 'ADV'), (',', '.'), ('Boulder', 'NOUN'), (',', '.'), ('Colo.', 'NOUN'), (',', '.'), ('$', '.'), ('2,500', 'NUM'), ('*U*', 'X'), ('and', 'CONJ'), ('six-month', 'ADJ'), ('suspension', 'NOUN'), (';', '.'), ('Michael', 'NOUN'), ('J.', 'NOUN'), ('Boorse', 'ADV'), (',', '.'), ('Horsham', 'ADV'), (',', '.'), ('Pa.', 'NOUN'), (';', '.'), ('David', 'NOUN'), ('Chiodo', 'ADV'), (',', '.'), ('Dallas', 'NOUN'), (',', '.'), ('$', '.'), ('5,000', 'NUM'), ('*U*', 'X'), (',', '.'), ('barred', 'VERB'), ('*-3', 'X'), ('as', 'ADP'), ('a', 'DET'), ('principal', 'NOUN'), (';', '.'), ('Camille', 'ADV'), ('Chafic', 'ADV'), ('Cotran', 'ADV'), (',', '.'), ('London', 'NOUN'), (',', '.'), ('$', '.'), ('25,000', 'NUM'), ('*U*', 'X'), (';', '.'), ('John', 'NOUN'), ('William', 'NOUN'), ('Curry', 'NOUN'), (',', '.'), ('fined', 'VERB'), ('*-4', 'X'), ('$', '.'), ('5,000', 'NUM'), ('*U*', 'X'), (',', '.'), ('ordered', 'VERB'), ('*-4', 'X'), ('*-2', 'X'), ('to', 'PRT'), ('disgorge', 'VERB'), ('$', '.'), ('30,000', 'NUM'), ('*U*', 'X'), (',', '.'), ('one-year', 'ADJ'), ('suspension', 'NOUN'), ('.', '.'), ('``', '.'), ('Even', 'ADV'), ('the', 'DET'), ('7.2', 'NUM'), ('%', 'NOUN'), ('return', 'NOUN'), ('from', 'ADP'), ('the', 'DET'), ('risk-free', 'ADV'), ('three-month', 'ADJ'), ('Treasury', 'NOUN'), ('bill', 'NOUN'), ('has', 'VERB'), ('easily', 'ADV'), ('outdistanced', 'ADV'), ('the', 'DET'), ('4.1', 'NUM'), ('%', 'NOUN'), ('return', 'NOUN'), ('from', 'ADP'), ('junk', 'NOUN'), ('bonds', 'NOUN'), (',', '.'), (\"''\", '.'), ('wrote', 'VERB'), ('*T*-1', 'X'), ('Moody', 'NOUN'), (\"'s\", 'PRT'), ('economist', 'NOUN'), ('John', 'NOUN'), ('Lonski', 'ADV'), ('in', 'ADP'), ('yesterday', 'NOUN'), (\"'s\", 'PRT'), ('market', 'NOUN'), ('report', 'NOUN'), ('.', '.'), ('While', 'ADP'), ('the', 'DET'), ('minimum', 'ADJ'), ('wage', 'NOUN'), ('had', 'VERB'), ('traditionally', 'ADV'), ('been', 'VERB'), ('pegged', 'VERB'), ('*-164', 'ADV'), ('at', 'ADP'), ('half', 'DET'), ('the', 'DET'), ('average', 'ADJ'), ('U.S.', 'NOUN'), ('manufacturing', 'NOUN'), ('wage', 'NOUN'), (',', '.'), ('the', 'DET'), ('level', 'NOUN'), ('of', 'ADP'), ('$', '.'), ('4.25', 'NUM'), ('*U*', 'X'), ('an', 'DET'), ('hour', 'NOUN'), ('in', 'ADP'), ('1991', 'NUM'), ('will', 'VERB'), ('still', 'ADV'), ('be', 'VERB'), ('less', 'ADJ'), ('than', 'ADP'), ('35', 'NUM'), ('%', 'NOUN'), ('of', 'ADP'), ('average', 'ADJ'), ('factory', 'NOUN'), ('pay', 'VERB'), (',', '.'), ('Mr.', 'NOUN'), ('Williams', 'NOUN'), ('said', 'VERB'), ('0', 'X'), ('*T*-1', 'X'), ('.', '.'), ('Pictures', 'NOUN'), ('of', 'ADP'), ('rusted', 'ADV'), ('oil', 'NOUN'), ('drums', 'ADV'), ('swim', 'ADV'), ('into', 'ADP'), ('focus', 'NOUN'), (',', '.'), ('and', 'CONJ'), ('the', 'DET'), ('female', 'ADJ'), ('voice', 'NOUN'), ('purrs', 'ADV'), (',', '.'), ('``', '.'), ('That', 'DET'), ('hazardous', 'ADJ'), ('waste', 'NOUN'), ('on', 'ADP'), ('his', 'PRON'), ('-LCB-', '.'), ('Mr.', 'NOUN'), ('Courter', 'NOUN'), (\"'s\", 'PRT'), ('-RCB-', '.'), ('property', 'NOUN'), ('--', '.'), ('the', 'DET'), ('neighbors', 'ADV'), ('are', 'VERB'), ('suing', 'VERB'), ('for', 'ADP'), ('consumer', 'NOUN'), ('fraud', 'NOUN'), ('.', '.'), (\"''\", '.'), ('That', 'DET'), ('response', 'NOUN'), ('annoyed', 'ADV'), ('Rep.', 'NOUN'), ('Markey', 'NOUN'), (',', '.'), ('House', 'NOUN'), ('aides', 'NOUN'), ('said', 'VERB'), ('0', 'X'), ('*T*-1', 'X'), (',', '.'), ('and', 'CONJ'), ('the', 'DET'), ('congressman', 'ADV'), ('snapped', 'VERB'), ('back', 'ADV'), ('that', 'ADP'), ('there', 'DET'), ('had', 'VERB'), ('been', 'VERB'), ('enough', 'ADV'), ('studies', 'NOUN'), ('of', 'ADP'), ('the', 'DET'), ('issue', 'NOUN'), ('and', 'CONJ'), ('that', 'DET'), ('it', 'PRON'), ('was', 'VERB'), ('time', 'NOUN'), ('for', 'ADP'), ('action', 'NOUN'), ('on', 'ADP'), ('the', 'DET'), ('matter', 'NOUN'), ('.', '.'), ('Those', 'DET'), ('dividend', 'NOUN'), ('bulls', 'ADV'), ('argue', 'VERB'), ('that', 'ADP'), ('corporations', 'NOUN'), ('are', 'VERB'), ('in', 'ADP'), ('the', 'DET'), ('unusual', 'ADJ'), ('position', 'NOUN'), ('of', 'ADP'), ('*-2', 'X'), ('having', 'VERB'), ('plenty', 'ADJ'), ('of', 'ADP'), ('cash', 'NOUN'), ('left', 'VERB'), ('over', 'ADP'), ('*', 'X'), ('after', 'ADP'), ('*-1', 'X'), ('paying', 'VERB'), ('dividends', 'NOUN'), ('and', 'CONJ'), ('making', 'VERB'), ('capital', 'NOUN'), ('expenditures', 'ADV'), ('.', '.'), ('The', 'DET'), ('12', 'NUM'), ('%', 'NOUN'), ('notes', 'NOUN'), ('due', 'ADJ'), ('1995', 'ADV'), ('fell', 'VERB'), ('9\\\\/32', 'ADV'), ('to', 'PRT'), ('103', 'ADV'), ('3\\\\/8', 'NUM'), ('*-1', 'X'), ('to', 'PRT'), ('yield', 'VERB'), ('11.10', 'ADV'), ('%', 'NOUN'), ('.', '.'), ('@', 'ADV'), ('Bob', 'NOUN'), ('has', 'VERB'), ('an', 'DET'), ('agenda', 'NOUN'), ('and', 'CONJ'), ('this', 'DET'), ('seemed', 'VERB'), ('like', 'ADP'), ('the', 'DET'), ('natural', 'ADJ'), ('time', 'NOUN'), ('.', '.'), (\"''\", '.'), ('20', 'NUM'), ('million', 'NUM'), ('Swiss', 'ADJ'), ('francs', 'NOUN'), ('of', 'ADP'), ('6', 'NUM'), ('1\\\\/2', 'NUM'), ('%', 'NOUN'), ('privately', 'ADV'), ('placed', 'VERB'), ('notes', 'NOUN'), ('due', 'ADJ'), ('Nov.', 'NOUN'), ('29', 'NUM'), (',', '.'), ('1996', 'ADV'), (',', '.'), ('priced', 'VERB'), ('*', 'X'), ('at', 'ADP'), ('99', 'NUM'), ('1\\\\/2', 'NUM'), ('via', 'ADP'), ('Dai-Ichi', 'NOUN'), ('Kangyo', 'NOUN'), ('Bank', 'NOUN'), ('-LRB-', '.'), ('Schweiz', 'ADV'), ('-RRB-', '.'), ('.', '.'), ('``', '.'), ('The', 'DET'), ('profit', 'NOUN'), ('motive', 'NOUN'), ('of', 'ADP'), ('the', 'DET'), ('major', 'ADJ'), ('shareholders', 'NOUN'), ('has', 'VERB'), ('clearly', 'ADV'), ('changed', 'VERB'), ('for', 'ADP'), ('the', 'DET'), ('better', 'ADJ'), (',', '.'), (\"''\", '.'), ('said', 'VERB'), ('*T*-1', 'X'), ('John', 'NOUN'), ('McMillin', 'NOUN'), (',', '.'), ('a', 'DET'), ('food', 'NOUN'), ('industry', 'NOUN'), ('analyst', 'NOUN'), ('for', 'ADP'), ('Prudential-Bache', 'NOUN'), ('in', 'ADP'), ('New', 'NOUN'), ('York', 'NOUN'), ('.', '.'), ('Most', 'ADJ'), ('of', 'ADP'), ('the', 'DET'), ('volume', 'NOUN'), ('came', 'VERB'), ('from', 'ADP'), ('trades', 'NOUN'), ('designed', 'VERB'), ('*', 'X'), ('*', 'X'), ('to', 'PRT'), ('capture', 'VERB'), ('the', 'DET'), ('stock', 'NOUN'), (\"'s\", 'PRT'), ('next', 'ADJ'), ('dividend', 'NOUN'), (';', '.'), ('Texaco', 'NOUN'), ('has', 'VERB'), ('a', 'DET'), ('yield', 'NOUN'), ('of', 'ADP'), ('5.6', 'ADV'), ('%', 'NOUN'), ('and', 'CONJ'), ('goes', 'VERB'), ('ex-dividend', 'ADV'), ('today', 'NOUN'), ('.', '.'), ('Atsushi', 'ADV'), ('Muramatsu', 'ADV'), (',', '.'), ('executive', 'NOUN'), ('vice', 'NOUN'), ('president', 'NOUN'), ('and', 'CONJ'), ('chief', 'NOUN'), ('financial', 'ADJ'), ('officer', 'NOUN'), ('of', 'ADP'), ('Nissan', 'NOUN'), (',', '.'), ('said', 'VERB'), (',', '.'), ('``', '.'), ('The', 'DET'), ('company', 'NOUN'), ('has', 'VERB'), ('experienced', 'ADV'), ('a', 'DET'), ('remarkable', 'ADV'), ('turnaround', 'NOUN'), ('in', 'ADP'), ('terms', 'NOUN'), ('of', 'ADP'), ('profitability', 'NOUN'), ('since', 'ADP'), ('the', 'DET'), ('fiscal', 'ADJ'), ('year', 'NOUN'), ('ending', 'VERB'), ('March', 'NOUN'), ('1987', 'NUM'), (',', '.'), ('when', 'ADV'), ('the', 'DET'), ('sharp', 'ADJ'), ('and', 'CONJ'), ('rapid', 'ADJ'), ('appreciation', 'NOUN'), ('of', 'ADP'), ('the', 'DET'), ('yen', 'NOUN'), ('caused', 'VERB'), ('many', 'ADJ'), ('difficulties', 'ADV'), ('*T*-1', 'X'), ('.', '.'), ('Both', 'DET'), ('contracts', 'NOUN'), ('have', 'VERB'), ('gained', 'VERB'), ('a', 'DET'), ('following', 'VERB'), ('since', 'ADP'), ('the', 'DET'), ('1987', 'NUM'), ('global', 'ADJ'), ('market', 'NOUN'), ('crash', 'NOUN'), ('.', '.'), ('Rally', 'NOUN'), (\"'s\", 'PRT'), ('lost', 'VERB'), ('1', 'NUM'), ('3\\\\/4', 'NUM'), ('to', 'PRT'), ('21', 'NUM'), ('3\\\\/4', 'NUM'), ('.', '.'), ('It', 'PRON'), ('is', 'VERB'), ('not', 'ADV'), ('supported', 'VERB'), ('by', 'ADP'), ('the', 'DET'), ('text', 'NOUN'), ('or', 'CONJ'), ('history', 'NOUN'), ('of', 'ADP'), ('the', 'DET'), ('Constitution', 'NOUN'), ('.', '.'), ('In', 'ADP'), ('the', 'DET'), ('first', 'ADJ'), ('half', 'NOUN'), ('of', 'ADP'), ('1989', 'NUM'), ('alone', 'ADV'), (',', '.'), ('Japanese', 'ADJ'), ('corporations', 'NOUN'), ('invested', 'VERB'), ('$', '.'), ('214', 'ADV'), ('million', 'NUM'), ('*U*', 'X'), ('*ICH*-2', 'X'), ('in', 'ADP'), ('minority', 'NOUN'), ('positions', 'NOUN'), ('in', 'ADP'), ('U.S.', 'NOUN'), ('companies', 'NOUN'), (',', '.'), ('a', 'DET'), ('61', 'NUM'), ('%', 'NOUN'), ('rise', 'VERB'), ('from', 'ADP'), ('the', 'DET'), ('figure', 'NOUN'), ('for', 'ADP'), ('all', 'DET'), ('of', 'ADP'), ('1987', 'NUM'), (',', '.'), ('reports', 'NOUN'), ('0', 'X'), ('*T*-1', 'X'), ('Venture', 'NOUN'), ('Economics', 'NOUN'), ('Inc', 'NOUN'), ('.', '.'), ('Columbia', 'NOUN'), (',', '.'), ('a', 'DET'), ('longtime', 'ADV'), ('Drexel', 'NOUN'), ('client', 'NOUN'), (',', '.'), ('wo', 'VERB'), (\"n't\", 'ADV'), ('provide', 'VERB'), ('current', 'ADJ'), ('data', 'NOUN'), ('on', 'ADP'), ('its', 'PRON'), ('junk', 'NOUN'), ('.', '.'), ('The', 'DET'), ('July', 'NOUN'), ('delivery', 'NOUN'), ('rose', 'VERB'), ('its', 'PRON'), ('daily', 'ADJ'), ('permissible', 'ADV'), ('limit', 'VERB'), ('of', 'ADP'), ('0.50', 'ADV'), ('cent', 'NOUN'), ('a', 'DET'), ('pound', 'NOUN'), ('to', 'PRT'), ('14.00', 'ADV'), ('cents', 'NOUN'), (',', '.'), ('while', 'ADP'), ('other', 'ADJ'), ('contract', 'NOUN'), ('months', 'NOUN'), ('showed', 'VERB'), ('near-limit', 'ADV'), ('advances', 'NOUN'), ('.', '.'), ('Mr.', 'NOUN'), ('Phelan', 'NOUN'), ('then', 'ADV'), ('responded', 'VERB'), ('that', 'ADP'), ('he', 'PRON'), ('would', 'VERB'), ('have', 'VERB'), ('been', 'VERB'), ('happy', 'ADV'), ('*-1', 'X'), ('just', 'ADV'), ('writing', 'VERB'), ('a', 'DET'), ('report', 'NOUN'), ('to', 'PRT'), ('the', 'DET'), ('panel', 'NOUN'), (',', '.'), ('the', 'DET'), ('aide', 'NOUN'), ('added', 'VERB'), ('0', 'X'), ('*T*-2', 'X'), ('.', '.'), ('Separately', 'ADV'), (',', '.'), ('John', 'NOUN'), ('Phelan', 'NOUN'), ('told', 'VERB'), ('a', 'DET'), ('closed', 'VERB'), ('House', 'NOUN'), ('subcommittee', 'NOUN'), ('meeting', 'NOUN'), ('in', 'ADP'), ('Washington', 'NOUN'), ('that', 'ADP'), ('he', 'PRON'), ('would', 'VERB'), ('support', 'VERB'), ('Securities', 'NOUN'), ('and', 'CONJ'), ('Exchange', 'NOUN'), ('Commission', 'NOUN'), ('halts', 'NOUN'), ('of', 'ADP'), ('program', 'NOUN'), ('trading', 'NOUN'), ('during', 'ADP'), ('market', 'NOUN'), ('emergencies', 'ADV'), ('.', '.'), ('The', 'DET'), ('two', 'NUM'), ('professors', 'NOUN'), ('represent', 'VERB'), ('different', 'ADJ'), ('ends', 'VERB'), ('of', 'ADP'), ('the', 'DET'), ('political', 'ADJ'), ('spectrum', 'ADV'), ('--', '.'), ('Mr.', 'NOUN'), ('Kurland', 'NOUN'), ('is', 'VERB'), ('a', 'DET'), ('conservative', 'ADJ'), ('and', 'CONJ'), ('Mr.', 'NOUN'), ('Tribe', 'NOUN'), ('is', 'VERB'), ('a', 'DET'), ('liberal', 'ADJ'), ('.', '.'), ('Marie-Louise', 'NOUN'), (',', '.'), ('a', 'DET'), ('small-time', 'ADV'), ('abortionist', 'NOUN'), (',', '.'), ('was', 'VERB'), ('their', 'PRON'), ('woman', 'NOUN'), ('.', '.'), ('Currently', 'ADV'), (',', '.'), ('both', 'DET'), ('Massachusetts', 'NOUN'), ('and', 'CONJ'), ('Connecticut', 'NOUN'), (',', '.'), ('where', 'ADV'), ('most', 'ADV'), ('of', 'ADP'), ('Bank', 'NOUN'), ('of', 'ADP'), ('New', 'NOUN'), ('England', 'NOUN'), (\"'s\", 'PRT'), ('operations', 'NOUN'), ('are', 'VERB'), ('*T*-1', 'X'), (',', '.'), ('allow', 'VERB'), ('interstate', 'ADJ'), ('banking', 'NOUN'), ('only', 'ADV'), ('within', 'ADP'), ('New', 'NOUN'), ('England', 'NOUN'), ('.', '.'), ('A', 'DET'), ('50-state', 'ADV'), ('study', 'VERB'), ('released', 'VERB'), ('*', 'X'), ('in', 'ADP'), ('September', 'NOUN'), ('by', 'ADP'), ('Friends', 'NOUN'), ('for', 'ADP'), ('Education', 'NOUN'), (',', '.'), ('an', 'DET'), ('Albuquerque', 'NOUN'), (',', '.'), ('N.M.', 'NOUN'), (',', '.'), ('school-research', 'ADV'), ('group', 'NOUN'), (',', '.'), ('concluded', 'VERB'), ('that', 'ADP'), ('``', '.'), ('outright', 'ADJ'), ('cheating', 'NOUN'), ('by', 'ADP'), ('American', 'NOUN'), ('educators', 'NOUN'), (\"''\", '.'), ('is', 'VERB'), ('``', '.'), ('common', 'ADJ'), ('.', '.'), (\"''\", '.'), ('Ratners', 'NOUN'), (\"'s\", 'PRT'), ('chairman', 'NOUN'), (',', '.'), ('Gerald', 'NOUN'), ('Ratner', 'ADV'), (',', '.'), ('said', 'VERB'), ('0', 'X'), ('the', 'DET'), ('deal', 'NOUN'), ('remains', 'VERB'), ('of', 'ADP'), ('``', '.'), ('substantial', 'ADJ'), ('benefit', 'NOUN'), ('to', 'PRT'), ('Ratners', 'NOUN'), ('.', '.'), (\"''\", '.'), ('*-1', 'X'), ('Assuming', 'VERB'), ('that', 'ADP'), ('post', 'NOUN'), ('at', 'ADP'), ('the', 'DET'), ('age', 'NOUN'), ('of', 'ADP'), ('35', 'NUM'), (',', '.'), ('he', 'PRON'), ('managed', 'VERB'), ('by', 'ADP'), ('consensus', 'NOUN'), (',', '.'), ('as', 'ADP'), ('*', 'X'), ('is', 'VERB'), ('the', 'DET'), ('rule', 'NOUN'), ('in', 'ADP'), ('universities', 'ADV'), (',', '.'), ('says', 'VERB'), ('0', 'X'), ('*T*-3', 'X'), ('Warren', 'NOUN'), ('H.', 'NOUN'), ('Strother', 'ADV'), (',', '.'), ('a', 'DET'), ('university', 'NOUN'), ('official', 'NOUN'), ('who', 'PRON'), ('*T*-2', 'X'), ('is', 'VERB'), ('researching', 'ADV'), ('a', 'DET'), ('book', 'NOUN'), ('on', 'ADP'), ('Mr.', 'NOUN'), ('Hahn', 'NOUN'), ('.', '.'), ('He', 'PRON'), ('was', 'VERB'), ('previously', 'ADV'), ('president', 'NOUN'), ('of', 'ADP'), ('the', 'DET'), ('company', 'NOUN'), (\"'s\", 'PRT'), ('Eastern', 'NOUN'), ('Edison', 'NOUN'), ('Co.', 'NOUN'), ('unit', 'NOUN'), ('.', '.'), ('The', 'DET'), ('restrictions', 'NOUN'), ('on', 'ADP'), ('viewing', 'ADV'), ('and', 'CONJ'), ('dissemination', 'NOUN'), ('of', 'ADP'), ('Voice', 'NOUN'), ('material', 'NOUN'), ('were', 'VERB'), ('especially', 'ADV'), ('absurd', 'ADV'), (':', '.'), ('An', 'DET'), ('agency', 'NOUN'), ('in', 'ADP'), ('the', 'DET'), ('information', 'NOUN'), ('business', 'NOUN'), ('was', 'VERB'), ('not', 'ADV'), ('being', 'VERB'), ('allowed', 'VERB'), ('*-1', 'X'), ('to', 'PRT'), ('inform', 'ADV'), ('.', '.'), ('Each', 'DET'), ('new', 'ADJ'), ('trading', 'NOUN'), ('roadblock', 'ADV'), ('is', 'VERB'), ('likely', 'ADJ'), ('*-1', 'X'), ('to', 'PRT'), ('be', 'VERB'), ('beaten', 'VERB'), ('*-82', 'ADV'), ('by', 'ADP'), ('institutions', 'NOUN'), ('seeking', 'VERB'), ('better', 'ADV'), ('ways', 'NOUN'), ('0', 'X'), ('*', 'X'), ('to', 'PRT'), ('serve', 'VERB'), ('their', 'PRON'), ('high-volume', 'ADV'), ('clients', 'NOUN'), ('*T*-2', 'X'), (',', '.'), ('here', 'ADV'), ('or', 'CONJ'), ('overseas', 'ADJ'), ('.', '.'), ('London', 'NOUN'), ('serves', 'ADV'), ('increasingly', 'ADV'), ('as', 'ADP'), ('a', 'DET'), ('conduit', 'ADV'), ('for', 'ADP'), ('program', 'NOUN'), ('trading', 'NOUN'), ('of', 'ADP'), ('U.S.', 'NOUN'), ('stocks', 'NOUN'), ('.', '.'), ('``', '.'), ('Unemployment', 'ADV'), ('continues', 'VERB'), ('at', 'ADP'), ('a', 'DET'), ('relatively', 'ADV'), ('low', 'ADJ'), ('level', 'NOUN'), (',', '.'), ('*', 'X'), ('providing', 'VERB'), ('a', 'DET'), ('sense', 'NOUN'), ('of', 'ADP'), ('job', 'NOUN'), ('security', 'NOUN'), (',', '.'), ('and', 'CONJ'), ('a', 'DET'), ('low', 'ADJ'), ('inflation', 'NOUN'), ('rate', 'NOUN'), ('has', 'VERB'), ('kept', 'VERB'), ('the', 'DET'), ('purchasing', 'NOUN'), ('power', 'NOUN'), ('of', 'ADP'), ('the', 'DET'), ('weekly', 'ADJ'), ('paycheck', 'ADV'), ('reasonably', 'ADV'), ('strong', 'ADJ'), ('.', '.'), (\"''\", '.'), ('``', '.'), ('People', 'NOUN'), ('are', 'VERB'), ('queuing', 'ADV'), ('at', 'ADP'), ('the', 'DET'), ('door', 'NOUN'), ('*-1', 'X'), ('to', 'PRT'), ('take', 'VERB'), ('his', 'PRON'), ('product', 'NOUN'), ('but', 'CONJ'), ('he', 'PRON'), ('does', 'VERB'), (\"n't\", 'ADV'), ('have', 'VERB'), ('the', 'DET'), ('working', 'ADJ'), ('capital', 'NOUN'), ('0', 'X'), ('*', 'X'), ('to', 'PRT'), ('make', 'VERB'), ('the', 'DET'), ('thing', 'NOUN'), ('*T*-2', 'X'), ('and', 'CONJ'), ('commercial', 'ADJ'), ('banks', 'NOUN'), ('are', 'VERB'), ('very', 'ADV'), ('unsympathetic', 'ADV'), ('.', '.'), ('*-2', 'X'), ('Stung', 'VERB'), ('*-1', 'X'), ('by', 'ADP'), ('the', 'DET'), ('Giuliani', 'NOUN'), ('ads', 'NOUN'), (',', '.'), ('Mr.', 'NOUN'), ('Dinkins', 'NOUN'), (\"'s\", 'PRT'), ('TV', 'NOUN'), ('consultants', 'NOUN'), (',', '.'), ('Robert', 'NOUN'), ('Shrum', 'ADV'), ('and', 'CONJ'), ('David', 'NOUN'), ('Doak', 'ADV'), (',', '.'), ('finally', 'ADV'), ('unleashed', 'ADV'), ('a', 'DET'), ('negative', 'ADJ'), ('ad', 'NOUN'), ('of', 'ADP'), ('their', 'PRON'), ('own', 'ADJ'), ('.', '.'), ('The', 'DET'), ('Bougainville', 'NOUN'), ('copper', 'NOUN'), ('mine', 'ADJ'), ('has', 'VERB'), ('been', 'VERB'), ('inoperative', 'ADV'), ('since', 'ADP'), ('May', 'NOUN'), ('15', 'NUM'), ('because', 'ADP'), ('of', 'ADP'), ('attacks', 'NOUN'), ('by', 'ADP'), ('native', 'ADV'), ('landowners', 'ADV'), ('who', 'PRON'), ('*T*-1', 'X'), ('want', 'VERB'), ('Bougainville', 'NOUN'), ('to', 'PRT'), ('secede', 'ADV'), ('from', 'ADP'), ('Papua-New', 'NOUN'), ('Guinea', 'NOUN'), ('.', '.'), ('``', '.'), ('Who', 'PRON'), ('*T*-1', 'X'), (\"'s\", 'PRT'), ('really', 'ADV'), ('lying', 'VERB'), ('?', '.'), (\"''\", '.'), ('asks', 'VERB'), ('*T*-2', 'X'), ('a', 'DET'), ('female', 'ADJ'), ('voice', 'NOUN'), ('.', '.'), ('Net', 'ADJ'), ('advanced', 'ADJ'), ('to', 'PRT'), ('$', '.'), ('94.2', 'ADV'), ('million', 'NUM'), ('*U*', 'X'), (',', '.'), ('or', 'CONJ'), ('89', 'NUM'), ('cents', 'NOUN'), ('a', 'DET'), ('share', 'NOUN'), (',', '.'), ('from', 'ADP'), ('$', '.'), ('85', 'NUM'), ('million', 'NUM'), ('*U*', 'X'), (',', '.'), ('or', 'CONJ'), ('83', 'ADV'), ('cents', 'NOUN'), ('a', 'DET'), ('share', 'NOUN'), (',', '.'), ('including', 'VERB'), ('net', 'ADJ'), ('realized', 'VERB'), ('investment', 'NOUN'), ('gains', 'NOUN'), ('of', 'ADP'), ('$', '.'), ('31', 'NUM'), ('million', 'NUM'), ('*U*', 'X'), (',', '.'), ('up', 'ADV'), ('from', 'ADP'), ('$', '.'), ('10', 'NUM'), ('million', 'NUM'), ('*U*', 'X'), ('a', 'DET'), ('year', 'NOUN'), ('ago', 'ADP'), ('.', '.'), ('As', 'ADP'), ('Mr.', 'NOUN'), ('Whiting', 'NOUN'), ('describes', 'VERB'), ('it', 'PRON'), (',', '.'), ('Nipponese', 'ADJ'), ('baseball', 'NOUN'), ('is', 'VERB'), ('a', 'DET'), ('``', '.'), ('mirror', 'VERB'), ('of', 'ADP'), ('Japan', 'NOUN'), (\"'s\", 'PRT'), ('fabled', 'ADV'), ('virtues', 'ADV'), ('of', 'ADP'), ('hard', 'ADJ'), ('work', 'NOUN'), ('and', 'CONJ'), ('harmony', 'NOUN'), ('.', '.'), (\"''\", '.'), ('In', 'ADP'), ('an', 'DET'), ('interview', 'NOUN'), (',', '.'), ('Mr.', 'NOUN'), ('Bernstein', 'NOUN'), ('said', 'VERB'), ('0', 'X'), ('his', 'PRON'), ('departure', 'NOUN'), ('``', '.'), ('evolved', 'ADV'), ('out', 'ADP'), ('of', 'ADP'), ('discussions', 'NOUN'), ('with', 'ADP'), ('Si', 'ADV'), ('Newhouse', 'NOUN'), ('and', 'CONJ'), ('that', 'DET'), (\"'s\", 'VERB'), ('the', 'DET'), ('decision', 'NOUN'), ('0', 'X'), ('I', 'PRON'), ('reached', 'VERB'), ('*T*-1', 'X'), ('.', '.'), (\"''\", '.'), ('Homeless', 'NOUN'), ('people', 'NOUN'), ('not', 'ADV'), ('only', 'ADV'), ('lack', 'NOUN'), ('safety', 'NOUN'), (',', '.'), ('privacy', 'NOUN'), ('and', 'CONJ'), ('shelter', 'ADV'), (',', '.'), ('they', 'PRON'), ('also', 'ADV'), ('lack', 'NOUN'), ('the', 'DET'), ('elementary', 'ADV'), ('necessities', 'ADV'), ('of', 'ADP'), ('nutrition', 'ADV'), (',', '.'), ('cleanliness', 'ADV'), ('and', 'CONJ'), ('basic', 'ADJ'), ('health', 'NOUN'), ('care', 'VERB'), ('.', '.'), ('The', 'DET'), ('survey', 'NOUN'), ('found', 'VERB'), ('that', 'ADP'), ('nearly', 'ADV'), ('half', 'DET'), ('of', 'ADP'), ('Hong', 'NOUN'), ('Kong', 'NOUN'), ('consumers', 'NOUN'), ('espouse', 'ADV'), ('what', 'PRON'), ('it', 'PRON'), ('identified', 'VERB'), ('*T*-61', 'X'), ('as', 'ADP'), ('materialistic', 'ADJ'), ('values', 'NOUN'), (',', '.'), ('compared', 'VERB'), ('with', 'ADP'), ('about', 'ADP'), ('one-third', 'NOUN'), ('in', 'ADP'), ('Japan', 'NOUN'), ('and', 'CONJ'), ('the', 'DET'), ('U.S.', 'NOUN'), ('.', '.'), ('``', '.'), ('The', 'DET'), ('First', 'NOUN'), ('Amendment', 'NOUN'), ('proscribes', 'ADV'), ('the', 'DET'), ('government', 'NOUN'), ('from', 'ADP'), ('*-2', 'X'), ('passing', 'VERB'), ('laws', 'NOUN'), ('abridging', 'ADV'), ('the', 'DET'), ('right', 'NOUN'), ('to', 'PRT'), ('free', 'ADJ'), ('speech', 'NOUN'), (',', '.'), (\"''\", '.'), ('Judge', 'NOUN'), ('Donald', 'NOUN'), (\"O'Brien\", 'NOUN'), ('ruled', 'VERB'), ('*T*-1', 'X'), ('.', '.'), ('She', 'PRON'), ('adds', 'VERB'), ('that', 'ADP'), ('legislation', 'NOUN'), ('curbing', 'ADV'), ('it', 'PRON'), ('would', 'VERB'), ('be', 'VERB'), ('``', '.'), ('a', 'DET'), ('darned', 'ADV'), ('good', 'ADJ'), ('idea', 'NOUN'), ('.', '.'), (\"''\", '.'), ('Texas', 'NOUN'), ('Instruments', 'ADV'), ('Japan', 'NOUN'), ('Ltd.', 'NOUN'), (',', '.'), ('a', 'DET'), ('unit', 'NOUN'), ('of', 'ADP'), ('Texas', 'NOUN'), ('Instruments', 'ADV'), ('Inc.', 'NOUN'), (',', '.'), ('said', 'VERB'), ('0', 'X'), ('it', 'PRON'), ('opened', 'VERB'), ('a', 'DET'), ('plant', 'NOUN'), ('*ICH*-3', 'X'), ('in', 'ADP'), ('South', 'NOUN'), ('Korea', 'NOUN'), ('0', 'X'), ('*T*-2', 'X'), ('to', 'PRT'), ('manufacture', 'VERB'), ('control', 'NOUN'), ('devices', 'NOUN'), ('.', '.'), ('For', 'ADP'), ('an', 'DET'), ('American', 'NOUN'), ('reader', 'NOUN'), (',', '.'), ('part', 'NOUN'), ('of', 'ADP'), ('the', 'DET'), ('charm', 'ADV'), ('of', 'ADP'), ('this', 'DET'), ('engaging', 'VERB'), ('novel', 'NOUN'), ('should', 'VERB'), ('come', 'VERB'), ('in', 'ADP'), ('*', 'X'), ('recognizing', 'ADV'), ('that', 'ADP'), ('Japan', 'NOUN'), ('is', 'VERB'), (\"n't\", 'ADV'), ('the', 'DET'), ('buttoned-down', 'ADV'), ('society', 'NOUN'), ('of', 'ADP'), ('contemporary', 'ADJ'), ('American', 'NOUN'), ('lore', 'ADV'), ('.', '.'), ('*-2', 'X'), ('The', 'DET'), ('son', 'NOUN'), ('of', 'ADP'), ('a', 'DET'), ('specialist', 'NOUN'), ('and', 'CONJ'), ('once', 'ADV'), ('one', 'NUM'), ('himself', 'PRON'), (',', '.'), ('Mr.', 'NOUN'), ('Phelan', 'NOUN'), ('has', 'VERB'), ('nonetheless', 'ADV'), ('been', 'VERB'), ('striving', 'ADV'), ('--', '.'), ('with', 'ADP'), ('products', 'NOUN'), ('like', 'ADP'), ('the', 'DET'), ('new', 'ADJ'), ('stock', 'NOUN'), ('basket', 'NOUN'), ('that', 'ADP'), ('his', 'PRON'), ('former', 'ADJ'), ('colleagues', 'NOUN'), ('dislike', 'NOUN'), ('*T*-1', 'X'), ('so', 'ADV'), ('much', 'ADV'), ('--', '.'), ('*-2', 'X'), ('to', 'PRT'), ('keep', 'VERB'), ('index', 'NOUN'), ('funds', 'NOUN'), ('and', 'CONJ'), ('other', 'ADJ'), ('program', 'NOUN'), ('traders', 'NOUN'), ('from', 'ADP'), ('*-3', 'X'), ('taking', 'VERB'), ('their', 'PRON'), ('business', 'NOUN'), ('to', 'PRT'), ('overseas', 'ADJ'), ('markets', 'NOUN'), ('.', '.'), ('In', 'ADP'), ('both', 'DET'), ('cases', 'NOUN'), (',', '.'), ('NEC', 'NOUN'), ('lost', 'VERB'), ('the', 'DET'), ('contract', 'NOUN'), ('to', 'PRT'), ('Fujitsu', 'NOUN'), (',', '.'), ('which', 'DET'), ('*T*-139', 'ADV'), ('made', 'VERB'), ('the', 'DET'), ('same', 'ADJ'), ('bid', 'NOUN'), ('and', 'CONJ'), ('won', 'VERB'), ('a', 'DET'), ('tie-breaking', 'ADV'), ('lottery', 'NOUN'), ('.', '.'), ('Estimated', 'VERB'), ('volume', 'NOUN'), ('was', 'VERB'), ('a', 'DET'), ('moderate', 'ADJ'), ('3.5', 'NUM'), ('million', 'NUM'), ('ounces', 'NOUN'), ('.', '.'), ('Standard', 'NOUN'), ('&', 'CONJ'), ('Poor', 'NOUN'), (\"'s\", 'PRT'), ('Corp.', 'NOUN'), ('lowered', 'VERB'), ('to', 'PRT'), ('double-C', 'ADV'), ('from', 'ADP'), ('triple-C', 'ADV'), ('the', 'DET'), ('rating', 'NOUN'), ('on', 'ADP'), ('about', 'ADP'), ('$', '.'), ('130', 'NUM'), ('million', 'NUM'), ('*U*', 'X'), ('of', 'ADP'), ('debt', 'NOUN'), ('.', '.'), ('Trinity', 'NOUN'), ('Industries', 'NOUN'), ('Inc.', 'NOUN'), ('said', 'VERB'), ('0', 'X'), ('it', 'PRON'), ('reached', 'VERB'), ('a', 'DET'), ('preliminary', 'ADJ'), ('agreement', 'NOUN'), ('*', 'X'), ('to', 'PRT'), ('sell', 'VERB'), ('500', 'NUM'), ('railcar', 'ADV'), ('platforms', 'ADV'), ('to', 'PRT'), ('Trailer', 'ADV'), ('Train', 'ADV'), ('Co.', 'NOUN'), ('of', 'ADP'), ('Chicago', 'NOUN'), ('.', '.'), ('But', 'CONJ'), ('now', 'ADV'), ('computers', 'NOUN'), ('are', 'VERB'), ('enabling', 'VERB'), ('more', 'ADV'), ('banks', 'NOUN'), ('to', 'PRT'), ('analyze', 'ADV'), ('their', 'PRON'), ('customers', 'NOUN'), ('by', 'ADP'), ('age', 'NOUN'), (',', '.'), ('income', 'NOUN'), ('and', 'CONJ'), ('geography', 'NOUN'), ('.', '.'), ('All', 'DET'), ('arguments', 'NOUN'), ('against', 'ADP'), ('program', 'NOUN'), ('trading', 'NOUN'), (',', '.'), ('even', 'ADV'), ('those', 'DET'), ('pressed', 'VERB'), ('*', 'X'), ('without', 'ADP'), ('fact', 'NOUN'), (',', '.'), ('conclude', 'VERB'), ('with', 'ADP'), ('three', 'NUM'), ('expected', 'VERB'), ('results', 'NOUN'), ('after', 'ADP'), ('``', '.'), ('reforms', 'NOUN'), (\"''\", '.'), ('are', 'VERB'), ('implemented', 'ADV'), ('*-1', 'X'), (':', '.'), ('1', 'NUM'), ('-RRB-', '.'), ('reduced', 'VERB'), ('volatility', 'NOUN'), (',', '.'), ('2', 'NUM'), ('-RRB-', '.'), ('a', 'DET'), ('long-term', 'ADJ'), ('investment', 'NOUN'), ('focus', 'VERB'), (',', '.'), ('and', 'CONJ'), ('3', 'NUM'), ('-RRB-', '.'), ('a', 'DET'), ('level', 'NOUN'), ('playing', 'VERB'), ('field', 'NOUN'), ('for', 'ADP'), ('the', 'DET'), ('small', 'ADJ'), ('investor', 'NOUN'), ('.', '.'), ('CS', 'NOUN'), ('First', 'NOUN'), ('Boston', 'NOUN'), (',', '.'), ('however', 'ADV'), (',', '.'), ('benefits', 'NOUN'), ('from', 'ADP'), ('the', 'DET'), ('backing', 'VERB'), ('of', 'ADP'), ('its', 'PRON'), ('largest', 'ADJ'), ('shareholder', 'NOUN'), (',', '.'), ('Credit', 'NOUN'), ('Suisse', 'ADV'), (',', '.'), ('Switzerland', 'NOUN'), (\"'s\", 'PRT'), ('third', 'ADJ'), ('largest', 'ADJ'), ('bank', 'NOUN'), ('.', '.'), ('Sen.', 'NOUN'), ('John', 'NOUN'), ('Danforth', 'NOUN'), ('-LRB-', '.'), ('R.', 'NOUN'), (',', '.'), ('Mo', 'ADV'), ('.', '.'), ('-RRB-', '.'), ('praised', 'VERB'), ('the', 'DET'), ('department', 'NOUN'), (\"'s\", 'PRT'), ('actions', 'NOUN'), (',', '.'), ('*-1', 'X'), ('noting', 'VERB'), ('that', 'ADP'), ('rollover', 'ADV'), ('crashes', 'ADV'), ('account', 'VERB'), ('for', 'ADP'), ('almost', 'ADV'), ('half', 'DET'), ('of', 'ADP'), ('all', 'DET'), ('light-truck', 'ADJ'), ('deaths', 'NOUN'), ('.', '.'), ('The', 'DET'), ('appointment', 'NOUN'), ('takes', 'VERB'), ('effect', 'NOUN'), ('Nov.', 'NOUN'), ('13', 'NUM'), ('.', '.'), ('I', 'PRON'), ('say', 'VERB'), ('``', '.'), ('*', 'X'), ('contained', 'VERB'), ('dialogue', 'NOUN'), (\"''\", '.'), ('because', 'ADP'), ('``', '.'), ('Sidewalk', 'NOUN'), ('Stories', 'NOUN'), (\"''\", '.'), ('is', 'VERB'), (\"n't\", 'ADV'), ('really', 'ADV'), ('silent', 'ADJ'), ('at', 'ADP'), ('all', 'DET'), ('.', '.'), ('In', 'ADP'), ('composite', 'ADJ'), ('trading', 'NOUN'), ('on', 'ADP'), ('the', 'DET'), ('New', 'NOUN'), ('York', 'NOUN'), ('Stock', 'NOUN'), ('Exchange', 'NOUN'), ('yesterday', 'NOUN'), (',', '.'), ('Upjohn', 'NOUN'), ('shares', 'NOUN'), ('rose', 'VERB'), ('87.5', 'ADV'), ('cents', 'NOUN'), ('to', 'PRT'), ('$', '.'), ('38.875', 'ADV'), ('*U*', 'X'), ('apiece', 'ADV'), ('.', '.'), ('In', 'ADP'), ('fact', 'NOUN'), (',', '.'), ('the', 'DET'), ('student', 'NOUN'), ('had', 'VERB'), ('the', 'DET'), ('answers', 'NOUN'), ('to', 'PRT'), ('almost', 'ADV'), ('all', 'DET'), ('of', 'ADP'), ('the', 'DET'), ('40', 'NUM'), ('questions', 'NOUN'), ('in', 'ADP'), ('that', 'DET'), ('section', 'NOUN'), ('.', '.'), ('China', 'NOUN'), ('was', 'VERB'), ('the', 'DET'), ('real', 'ADJ'), ('victim', 'NOUN'), ('and', 'CONJ'), ('it', 'PRON'), ('*EXP*-1', 'X'), ('is', 'VERB'), ('unjust', 'ADV'), ('*', 'X'), ('to', 'PRT'), ('reprove', 'ADV'), ('China', 'NOUN'), ('for', 'ADP'), ('it', 'PRON'), ('.', '.'), (\"''\", '.'), ('A', 'DET'), ('couple', 'NOUN'), ('of', 'ADP'), ('weeks', 'NOUN'), ('ago', 'ADP'), (',', '.'), ('I', 'PRON'), ('lost', 'VERB'), ('the', 'DET'), ('case', 'NOUN'), ('in', 'ADP'), ('federal', 'ADJ'), ('district', 'NOUN'), ('court', 'NOUN'), ('in', 'ADP'), ('Des', 'NOUN'), ('Moines', 'NOUN'), ('.', '.'), ('Mr.', 'NOUN'), ('Dahl', 'NOUN'), (',', '.'), ('a', 'DET'), ('registered', 'VERB'), ('representative', 'NOUN'), ('in', 'ADP'), ('the', 'DET'), ('insurance', 'NOUN'), ('business', 'NOUN'), (',', '.'), ('said', 'VERB'), ('0', 'X'), ('he', 'PRON'), ('``', '.'), ('screwed', 'ADV'), ('up', 'ADV'), (\"''\", '.'), ('because', 'ADP'), ('he', 'PRON'), ('did', 'VERB'), (\"n't\", 'ADV'), ('realize', 'VERB'), ('0', 'X'), ('he', 'PRON'), ('was', 'VERB'), ('breaking', 'ADV'), ('securities', 'NOUN'), ('laws', 'NOUN'), ('.', '.'), ('The', 'DET'), ('next', 'ADJ'), ('morning', 'NOUN'), (',', '.'), ('with', 'ADP'), ('a', 'DET'), ('police', 'NOUN'), ('escort', 'ADV'), (',', '.'), ('busloads', 'ADV'), ('of', 'ADP'), ('executives', 'NOUN'), ('and', 'CONJ'), ('their', 'PRON'), ('wives', 'ADV'), ('raced', 'ADV'), ('to', 'PRT'), ('the', 'DET'), ('Indianapolis', 'NOUN'), ('Motor', 'NOUN'), ('Speedway', 'ADV'), (',', '.'), ('*-1', 'X'), ('unimpeded', 'ADV'), ('by', 'ADP'), ('traffic', 'ADV'), ('or', 'CONJ'), ('red', 'NOUN'), ('lights', 'NOUN'), ('.', '.'), ('The', 'DET'), ('scammers', 'NOUN'), ('themselves', 'PRON'), ('were', 'VERB'), ('garden-variety', 'ADV'), ('low', 'ADJ'), ('lifes', 'ADV'), (',', '.'), ('conspicuous', 'ADJ'), ('consumers', 'NOUN'), ('who', 'PRON'), ('*T*-1', 'X'), ('wanted', 'VERB'), ('big', 'ADJ'), ('houses', 'NOUN'), (',', '.'), ('Mercedes', 'ADV'), ('cars', 'NOUN'), (',', '.'), ('beautiful', 'ADJ'), ('women', 'NOUN'), (',', '.'), ('expensive', 'ADJ'), ('clothes', 'ADV'), ('.', '.'), ('And', 'CONJ'), ('then', 'ADV'), ('this', 'DET'), ('television', 'NOUN'), ('commercial', 'NOUN'), (',', '.'), ('paid', 'VERB'), ('for', 'ADP'), ('*', 'X'), ('by', 'ADP'), ('Republican', 'ADJ'), ('Rudolph', 'NOUN'), ('Giuliani', 'NOUN'), (\"'s\", 'PRT'), ('campaign', 'NOUN'), ('and', 'CONJ'), ('produced', 'VERB'), ('*', 'X'), ('by', 'ADP'), ('Roger', 'NOUN'), ('Ailes', 'NOUN'), (',', '.'), ('the', 'DET'), ('master', 'NOUN'), ('of', 'ADP'), ('negative', 'ADJ'), ('TV', 'NOUN'), ('ads', 'NOUN'), (',', '.'), ('really', 'ADV'), ('gets', 'VERB'), ('down', 'ADV'), ('to', 'PRT'), ('business', 'NOUN'), ('.', '.'), ('An', 'DET'), ('Egyptian', 'ADV'), ('Pharaoh', 'ADV'), ('could', 'VERB'), (\"n't\", 'ADV'), ('have', 'VERB'), ('justified', 'ADV'), ('his', 'PRON'), ('pyramids', 'NOUN'), ('any', 'DET'), ('better', 'ADJ'), ('.', '.'), ('When', 'ADV'), ('it', 'PRON'), (\"'s\", 'VERB'), ('time', 'NOUN'), ('for', 'ADP'), ('their', 'PRON'), ('biannual', 'ADV'), ('powwow', 'ADV'), ('*T*-1', 'X'), (',', '.'), ('the', 'DET'), ('nation', 'NOUN'), (\"'s\", 'PRT'), ('manufacturing', 'VERB'), ('titans', 'ADV'), ('typically', 'ADV'), ('jet', 'NOUN'), ('off', 'PRT'), ('to', 'PRT'), ('the', 'DET'), ('sunny', 'ADV'), ('confines', 'ADV'), ('of', 'ADP'), ('resort', 'NOUN'), ('towns', 'NOUN'), ('like', 'ADP'), ('Boca', 'NOUN'), ('Raton', 'NOUN'), ('and', 'CONJ'), ('Hot', 'ADJ'), ('Springs', 'NOUN'), ('.', '.'), ('It', 'PRON'), ('was', 'VERB'), ('later', 'ADJ'), ('applied', 'VERB'), ('to', 'PRT'), ('other', 'ADJ'), ('new-car', 'ADV'), ('programs', 'NOUN'), (',', '.'), ('including', 'VERB'), ('those', 'DET'), ('that', 'ADP'), ('*T*-1', 'X'), ('produced', 'VERB'), ('the', 'DET'), ('Ford', 'NOUN'), ('Thunderbird', 'ADV'), ('and', 'CONJ'), ('Mercury', 'NOUN'), ('Cougar', 'ADV'), ('.', '.'), ('It', 'PRON'), ('*EXP*-1', 'X'), ('is', 'VERB'), ('not', 'ADV'), ('unethical', 'ADV'), ('*', 'X'), ('to', 'PRT'), ('choose', 'VERB'), ('a', 'DET'), ('higher-salaried', 'ADV'), ('job', 'NOUN'), ('.', '.'), ('Pan', 'ADV'), ('Am', 'ADV'), ('has', 'VERB'), ('subpoenaed', 'ADV'), ('several', 'ADJ'), ('government', 'NOUN'), ('agencies', 'NOUN'), (',', '.'), ('including', 'VERB'), ('the', 'DET'), ('CIA', 'ADV'), ('and', 'CONJ'), ('FBI', 'ADV'), (',', '.'), ('*', 'X'), ('to', 'PRT'), ('determine', 'VERB'), ('whether', 'ADP'), ('they', 'PRON'), ('were', 'VERB'), ('warned', 'VERB'), ('*-1', 'X'), ('that', 'ADP'), ('a', 'DET'), ('bomb', 'ADV'), ('had', 'VERB'), ('been', 'VERB'), ('planted', 'ADV'), ('*-2', 'X'), ('aboard', 'ADV'), ('a', 'DET'), ('jet', 'NOUN'), ('that', 'ADP'), ('*T*-3', 'X'), ('exploded', 'ADV'), ('over', 'ADP'), ('Scotland', 'ADV'), ('last', 'ADJ'), ('December', 'NOUN'), (',', '.'), ('*-4', 'X'), ('killing', 'VERB'), ('270', 'NUM'), ('people', 'NOUN'), ('.', '.'), ('The', 'DET'), ('filing', 'NOUN'), ('on', 'ADP'), ('the', 'DET'), ('details', 'NOUN'), ('of', 'ADP'), ('the', 'DET'), ('spinoff', 'NOUN'), ('caused', 'VERB'), ('Cray', 'NOUN'), ('Research', 'NOUN'), ('stock', 'NOUN'), ('to', 'PRT'), ('jump', 'VERB'), ('$', '.'), ('2.875', 'ADV'), ('*U*', 'X'), ('yesterday', 'NOUN'), ('*-1', 'X'), ('to', 'PRT'), ('close', 'VERB'), ('at', 'ADP'), ('$', '.'), ('38', 'NUM'), ('*U*', 'X'), ('in', 'ADP'), ('New', 'NOUN'), ('York', 'NOUN'), ('Stock', 'NOUN'), ('Exchange', 'NOUN'), ('composite', 'ADJ'), ('trading', 'NOUN'), ('.', '.'), ('That', 'DET'), ('was', 'VERB'), ('partially', 'ADV'), ('offset', 'VERB'), ('*-1', 'X'), ('by', 'ADP'), ('the', 'DET'), ('resumption', 'ADV'), ('of', 'ADP'), ('space', 'NOUN'), ('shuttle', 'ADV'), ('flights', 'NOUN'), ('and', 'CONJ'), ('increased', 'VERB'), ('demand', 'NOUN'), ('for', 'ADP'), ('expendable', 'ADV'), ('launch-vehicle', 'ADV'), ('engines', 'ADV'), ('.', '.'), ('The', 'DET'), ('company', 'NOUN'), ('said', 'VERB'), ('0', 'X'), ('Mr.', 'NOUN'), ('Stronach', 'NOUN'), ('will', 'VERB'), ('personally', 'ADV'), ('direct', 'ADJ'), ('the', 'DET'), ('restructuring', 'NOUN'), (',', '.'), ('*-1', 'X'), ('assisted', 'ADV'), ('*-2', 'X'), ('by', 'ADP'), ('Manfred', 'ADV'), ('Gingl', 'ADV'), (',', '.'), ('president', 'NOUN'), ('and', 'CONJ'), ('chief', 'NOUN'), ('executive', 'NOUN'), ('.', '.'), ('Other', 'ADJ'), ('rumored', 'VERB'), ('takeover', 'NOUN'), ('and', 'CONJ'), ('restructuring', 'NOUN'), ('candidates', 'NOUN'), ('0', 'X'), ('*T*-2', 'X'), ('to', 'PRT'), ('attract', 'VERB'), ('buyers', 'NOUN'), ('included', 'VERB'), ('Woolworth', 'ADV'), (',', '.'), ('which', 'DET'), ('*T*-1', 'X'), ('went', 'VERB'), ('up', 'ADV'), ('1', 'NUM'), ('3\\\\/4', 'NUM'), ('to', 'PRT'), ('59', 'NUM'), ('1\\\\/2', 'NUM'), (';', '.'), ('Avon', 'NOUN'), ('Products', 'ADV'), (',', '.'), ('up', 'ADV'), ('1', 'NUM'), ('3\\\\/4', 'NUM'), ('to', 'PRT'), ('29', 'NUM'), ('1\\\\/4', 'NUM'), (';', '.'), ('Paramount', 'ADV'), ('Communications', 'NOUN'), (',', '.'), ('up', 'ADV'), ('2', 'NUM'), ('to', 'PRT'), ('57', 'NUM'), ('7\\\\/8', 'NUM'), (',', '.'), ('and', 'CONJ'), ('Ferro', 'ADV'), (',', '.'), ('up', 'ADV'), ('2', 'NUM'), ('5\\\\/8', 'NUM'), ('to', 'PRT'), ('28', 'NUM'), ('3\\\\/4', 'NUM'), ('.', '.'), ('One', 'NUM'), ('official', 'NOUN'), ('newspaper', 'NOUN'), (',', '.'), ('Legal', 'ADV'), ('Daily', 'NOUN'), (',', '.'), ('even', 'ADV'), ('directly', 'ADV'), ('criticized', 'VERB'), ('Mr.', 'NOUN'), ('Nixon', 'NOUN'), (',', '.'), ('who', 'PRON'), ('*T*-240', 'ADV'), ('is', 'VERB'), ('normally', 'ADV'), ('referred', 'VERB'), ('to', 'PRT'), ('*T*-1', 'X'), ('here', 'ADV'), ('as', 'ADP'), ('an', 'DET'), ('``', '.'), ('old', 'ADJ'), ('friend', 'NOUN'), ('.', '.'), (\"''\", '.'), ('The', 'DET'), ('sweeping', 'ADJ'), ('nature', 'NOUN'), ('of', 'ADP'), ('the', 'DET'), ('bill', 'NOUN'), ('draws', 'ADV'), ('a', 'DET'), ('variety', 'NOUN'), ('of', 'ADP'), ('special', 'ADJ'), ('interest', 'NOUN'), ('amendments', 'NOUN'), (',', '.'), ('running', 'VERB'), ('from', 'ADP'), ('an', 'DET'), ('import', 'NOUN'), ('exemption', 'NOUN'), ('for', 'ADP'), ('a', 'DET'), ('California', 'NOUN'), ('airplane', 'ADV'), ('museum', 'NOUN'), ('to', 'PRT'), ('a', 'DET'), ('small', 'ADJ'), ('but', 'CONJ'), ('intriguing', 'ADV'), ('struggle', 'NOUN'), ('among', 'ADP'), ('sugar', 'NOUN'), ('producing', 'VERB'), ('nations', 'NOUN'), ('over', 'ADP'), ('the', 'DET'), ('fate', 'NOUN'), ('of', 'ADP'), ('Panama', 'NOUN'), (\"'s\", 'PRT'), ('quota', 'NOUN'), ('of', 'ADP'), ('exports', 'NOUN'), ('to', 'PRT'), ('the', 'DET'), ('profitable', 'ADJ'), ('U.S.', 'NOUN'), ('market', 'NOUN'), ('.', '.'), ('Some', 'DET'), ('media', 'NOUN'), ('experts', 'NOUN'), ('question', 'NOUN'), ('whether', 'ADP'), ('a', 'DET'), ('young', 'ADJ'), ('magazine', 'NOUN'), ('can', 'VERB'), ('risk', 'VERB'), ('*-1', 'X'), ('turning', 'VERB'), ('off', 'PRT'), ('Madison', 'NOUN'), ('Avenue', 'NOUN'), (\"'s\", 'PRT'), ('big', 'ADJ'), ('spenders', 'NOUN'), ('.', '.'), ('He', 'PRON'), ('has', 'VERB'), ('promised', 'ADV'), ('stiffer', 'ADV'), ('fines', 'NOUN'), (',', '.'), ('though', 'ADP'), ('the', 'DET'), ('size', 'NOUN'), ('of', 'ADP'), ('penalties', 'NOUN'), ('sought', 'VERB'), ('*', 'X'), ('by', 'ADP'), ('OSHA', 'NOUN'), ('have', 'VERB'), ('been', 'VERB'), ('rising', 'VERB'), ('in', 'ADP'), ('recent', 'ADJ'), ('years', 'NOUN'), ('even', 'ADV'), ('before', 'ADP'), ('he', 'PRON'), ('took', 'VERB'), ('office', 'NOUN'), ('this', 'DET'), ('year', 'NOUN'), ('.', '.'), ('It', 'PRON'), (\"'s\", 'VERB'), ('probably', 'ADV'), ('worth', 'ADJ'), ('*', 'X'), ('paying', 'VERB'), ('a', 'DET'), ('premium', 'NOUN'), ('for', 'ADP'), ('funds', 'NOUN'), ('that', 'ADP'), ('*T*-42', 'X'), ('invest', 'VERB'), ('in', 'ADP'), ('markets', 'NOUN'), ('that', 'ADP'), ('*T*-43', 'X'), ('are', 'VERB'), ('partially', 'ADV'), ('closed', 'VERB'), ('to', 'PRT'), ('foreign', 'ADJ'), ('investors', 'NOUN'), (',', '.'), ('such', 'ADJ'), ('as', 'ADP'), ('South', 'NOUN'), ('Korea', 'NOUN'), (',', '.'), ('some', 'DET'), ('specialists', 'NOUN'), ('say', 'VERB'), ('0', 'X'), ('*T*-1', 'X'), ('.', '.'), ('Already', 'ADV'), (',', '.'), ('10', 'NUM'), ('local', 'ADJ'), ('councils', 'NOUN'), ('have', 'VERB'), ('refused', 'VERB'), ('*-1', 'X'), ('to', 'PRT'), ('honor', 'VERB'), ('fees', 'NOUN'), ('and', 'CONJ'), ('payments', 'NOUN'), ('to', 'PRT'), ('banks', 'NOUN'), ('incurred', 'VERB'), ('*', 'X'), ('during', 'ADP'), ('various', 'ADJ'), ('swaps', 'ADV'), ('dealings', 'NOUN'), ('.', '.'), ('``', '.'), ('We', 'PRON'), ('believe', 'VERB'), ('that', 'ADP'), ('it', 'PRON'), ('*EXP*-3', 'X'), ('is', 'VERB'), ('vitally', 'ADV'), ('important', 'ADJ'), ('for', 'ADP'), ('those', 'DET'), ('Japanese', 'ADJ'), ('business', 'NOUN'), ('interests', 'NOUN'), ('-LCB-', '.'), ('in', 'ADP'), ('the', 'DET'), ('U.S.', 'NOUN'), ('.', '.'), ('-RCB-', '.'), ('to', 'PRT'), ('be', 'VERB'), ('more', 'ADV'), ('aware', 'ADJ'), ('of', 'ADP'), ('the', 'DET'), ('emotions', 'ADV'), ('and', 'CONJ'), ('concerns', 'NOUN'), ('of', 'ADP'), ('the', 'DET'), ('American', 'NOUN'), ('people', 'NOUN'), (',', '.'), (\"''\", '.'), ('said', 'VERB'), ('*T*-1', 'X'), ('the', 'DET'), ('spokesman', 'NOUN'), (',', '.'), ('Taizo', 'ADV'), ('Watanabe', 'ADV'), ('.', '.'), ('Mr.', 'NOUN'), ('Rapanelli', 'NOUN'), ('met', 'VERB'), ('in', 'ADP'), ('August', 'NOUN'), ('with', 'ADP'), ('U.S.', 'NOUN'), ('Assistant', 'ADV'), ('Treasury', 'NOUN'), ('Secretary', 'NOUN'), ('David', 'NOUN'), ('Mulford', 'ADV'), ('.', '.'), ('As', 'ADP'), ('a', 'DET'), ('result', 'NOUN'), (',', '.'), ('the', 'DET'), ('company', 'NOUN'), ('said', 'VERB'), ('0', 'X'), ('it', 'PRON'), ('decided', 'VERB'), ('*-1', 'X'), ('to', 'PRT'), ('phase', 'ADV'), ('out', 'ADP'), ('its', 'PRON'), ('oldest', 'ADJ'), ('capacity', 'NOUN'), ('and', 'CONJ'), ('``', '.'), ('make', 'VERB'), ('appropriate', 'ADV'), ('reductions', 'NOUN'), (\"''\", '.'), ('in', 'ADP'), ('operating', 'NOUN'), ('expenses', 'NOUN'), ('.', '.'), ('The', 'DET'), ('offer', 'NOUN'), ('follows', 'VERB'), ('an', 'DET'), ('earlier', 'ADJ'), ('proposal', 'NOUN'), ('*ICH*-1', 'X'), ('by', 'ADP'), ('NL', 'NOUN'), ('and', 'CONJ'), ('Mr.', 'NOUN'), ('Simmons', 'NOUN'), ('*', 'X'), ('to', 'PRT'), ('help', 'VERB'), ('Georgia', 'NOUN'), ('Gulf', 'NOUN'), ('restructure', 'VERB'), ('or', 'CONJ'), ('go', 'VERB'), ('private', 'ADJ'), ('in', 'ADP'), ('a', 'DET'), ('transaction', 'NOUN'), ('that', 'ADP'), ('*T*-179', 'ADV'), ('would', 'VERB'), ('pay', 'VERB'), ('shareholders', 'NOUN'), ('$', '.'), ('55', 'NUM'), ('*U*', 'X'), ('a', 'DET'), ('share', 'NOUN'), ('.', '.'), ('First', 'NOUN'), (',', '.'), ('they', 'PRON'), ('are', 'VERB'), ('designed', 'VERB'), ('*-1', 'X'), ('to', 'PRT'), ('eliminate', 'VERB'), ('the', 'DET'), ('risk', 'NOUN'), ('of', 'ADP'), ('prepayment', 'ADV'), ('--', '.'), ('mortgage-backed', 'ADJ'), ('securities', 'NOUN'), ('can', 'VERB'), ('be', 'VERB'), ('retired', 'VERB'), ('*-43', 'X'), ('early', 'ADV'), ('if', 'ADP'), ('interest', 'NOUN'), ('rates', 'NOUN'), ('decline', 'NOUN'), (',', '.'), ('and', 'CONJ'), ('such', 'ADJ'), ('prepayment', 'ADV'), ('forces', 'VERB'), ('investors', 'NOUN'), ('to', 'PRT'), ('redeploy', 'ADV'), ('their', 'PRON'), ('money', 'NOUN'), ('at', 'ADP'), ('lower', 'ADJ'), ('rates', 'NOUN'), ('.', '.'), ('The', 'DET'), ('graphics', 'NOUN'), ('business', 'NOUN'), (',', '.'), ('which', 'DET'), ('*T*-2', 'X'), ('also', 'ADV'), ('was', 'VERB'), ('singled', 'ADV'), ('out', 'ADP'), ('*-1', 'X'), ('by', 'ADP'), ('the', 'DET'), ('chairman', 'NOUN'), ('as', 'ADP'), ('a', 'DET'), ('positive', 'ADJ'), (',', '.'), ('saw', 'VERB'), ('its', 'PRON'), ('operating', 'VERB'), ('earnings', 'NOUN'), ('for', 'ADP'), ('the', 'DET'), ('quarter', 'NOUN'), ('jump', 'VERB'), ('79', 'ADV'), ('%', 'NOUN'), ('to', 'PRT'), ('$', '.'), ('42.1', 'ADV'), ('million', 'NUM'), ('*U*', 'X'), ('from', 'ADP'), ('$', '.'), ('23.5', 'NUM'), ('million', 'NUM'), ('*U*', 'X'), ('.', '.'), ('In', 'ADP'), ('addition', 'NOUN'), (',', '.'), ('a', 'DET'), ('big', 'ADJ'), ('loan', 'NOUN'), ('that', 'ADP'), ('First', 'NOUN'), ('Boston', 'NOUN'), ('made', 'VERB'), ('*T*-2', 'X'), ('to', 'PRT'), ('Ohio', 'NOUN'), ('Mattress', 'ADV'), ('Co', 'NOUN'), ('.', '.'), ('was', 'VERB'), (\"n't\", 'ADV'), ('repaid', 'VERB'), ('on', 'ADP'), ('time', 'NOUN'), ('when', 'ADV'), ('its', 'PRON'), ('$', '.'), ('450', 'NUM'), ('million', 'NUM'), ('*U*', 'X'), ('junk', 'NOUN'), ('financing', 'NOUN'), ('for', 'ADP'), ('a', 'DET'), ('buy-out', 'NOUN'), ('of', 'ADP'), ('the', 'DET'), ('bedding', 'ADV'), ('company', 'NOUN'), ('was', 'VERB'), ('withdrawn', 'VERB'), ('*-1', 'X'), ('*T*-3', 'X'), ('.', '.'), ('But', 'CONJ'), ('the', 'DET'), ('council', 'NOUN'), (\"'s\", 'PRT'), ('program', 'NOUN'), ('*', 'X'), ('to', 'PRT'), ('attract', 'VERB'), ('and', 'CONJ'), ('train', 'NOUN'), ('ringers', 'NOUN'), ('is', 'VERB'), ('only', 'ADV'), ('partly', 'ADV'), ('successful', 'ADJ'), (',', '.'), ('says', 'VERB'), ('0', 'X'), ('*T*-1', 'X'), ('Mr.', 'NOUN'), ('Baldwin', 'NOUN'), ('.', '.'), ('The', 'DET'), ('program', 'NOUN'), ('not', 'ADV'), ('only', 'ADV'), ('offers', 'VERB'), ('a', 'DET'), ('pre-approved', 'ADV'), ('car', 'NOUN'), ('loan', 'NOUN'), ('up', 'PRT'), ('to', 'PRT'), ('$', '.'), ('18,000', 'NUM'), ('*U*', 'X'), (',', '.'), ('but', 'CONJ'), ('throws', 'VERB'), ('in', 'ADP'), ('a', 'DET'), ('special', 'ADJ'), ('cash-flow', 'ADJ'), ('statement', 'NOUN'), ('0', 'X'), ('*T*-1', 'X'), ('to', 'PRT'), ('help', 'VERB'), ('in', 'ADP'), ('*', 'X'), ('saving', 'ADV'), ('money', 'NOUN'), ('.', '.'), ('In', 'ADP'), ('1970', 'NUM'), (',', '.'), ('Mr.', 'NOUN'), ('Hahn', 'NOUN'), ('called', 'VERB'), ('in', 'ADP'), ('state', 'NOUN'), ('police', 'NOUN'), ('to', 'PRT'), ('arrest', 'ADV'), ('student', 'NOUN'), ('protesters', 'NOUN'), ('who', 'PRON'), ('*T*-3', 'X'), ('were', 'VERB'), ('occupying', 'ADV'), ('a', 'DET'), ('university', 'NOUN'), ('building', 'NOUN'), ('.', '.'), ('So', 'ADV'), ('now', 'ADV'), ('the', 'DET'), ('situation', 'NOUN'), ('is', 'VERB'), ('this', 'DET'), (':', '.'), ('Susan', 'NOUN'), ('Del', 'ADV'), ('Signore', 'ADV'), (',', '.'), ('head', 'NOUN'), ('trader', 'NOUN'), ('at', 'ADP'), ('Travelers', 'NOUN'), ('Investment', 'NOUN'), ('Management', 'NOUN'), ('Co.', 'NOUN'), (',', '.'), ('says', 'VERB'), ('0', 'X'), ('critics', 'NOUN'), ('are', 'VERB'), ('ignoring', 'VERB'), ('``', '.'), ('the', 'DET'), ('role', 'NOUN'), ('0', 'X'), ('the', 'DET'), ('-LCB-', '.'), ('takeover', 'NOUN'), ('stock', 'NOUN'), ('-RCB-', '.'), ('speculator', 'ADV'), ('is', 'VERB'), ('taking', 'VERB'), ('*T*-1', 'X'), ('in', 'ADP'), ('the', 'DET'), ('market', 'NOUN'), ('as', 'ADP'), ('a', 'DET'), ('source', 'NOUN'), ('of', 'ADP'), ('volatility', 'NOUN'), ('.', '.'), (\"''\", '.'), ('Instead', 'ADV'), (',', '.'), ('the', 'DET'), ('companies', 'NOUN'), ('will', 'VERB'), ('leave', 'VERB'), ('it', 'PRON'), ('up', 'ADV'), ('to', 'PRT'), ('the', 'DET'), ('marketplace', 'NOUN'), ('*', 'X'), ('to', 'PRT'), ('decide', 'VERB'), ('.', '.'), ('He', 'PRON'), ('said', 'VERB'), ('0', 'X'), ('the', 'DET'), ('ban', 'NOUN'), ('wo', 'VERB'), (\"n't\", 'ADV'), ('stop', 'VERB'), ('privately', 'ADV'), ('funded', 'VERB'), ('tissue-transplant', 'ADV'), ('research', 'NOUN'), ('or', 'CONJ'), ('federally', 'ADV'), ('funded', 'VERB'), ('fetal-tissue', 'ADJ'), ('research', 'NOUN'), ('that', 'ADP'), ('*T*-111', 'ADV'), ('does', 'VERB'), (\"n't\", 'ADV'), ('involve', 'VERB'), ('transplants', 'NOUN'), ('.', '.'), ('But', 'CONJ'), ('Asian', 'ADJ'), ('nations', 'NOUN'), (\"'\", 'PRT'), ('harsh', 'ADJ'), ('memories', 'NOUN'), ('of', 'ADP'), ('their', 'PRON'), ('military', 'ADJ'), ('domination', 'NOUN'), ('by', 'ADP'), ('Japan', 'NOUN'), ('in', 'ADP'), ('the', 'DET'), ('early', 'ADJ'), ('part', 'NOUN'), ('of', 'ADP'), ('this', 'DET'), ('century', 'NOUN'), ('make', 'VERB'), ('them', 'PRON'), ('fearful', 'ADV'), ('of', 'ADP'), ('*', 'X'), ('falling', 'VERB'), ('under', 'ADP'), ('Japanese', 'ADJ'), ('economic', 'ADJ'), ('hegemony', 'ADV'), ('now', 'ADV'), ('.', '.'), ('He', 'PRON'), ('has', 'VERB'), ('looked', 'ADV'), ('at', 'ADP'), ('14', 'NUM'), ('baseball', 'NOUN'), ('and', 'CONJ'), ('football', 'NOUN'), ('stadiums', 'NOUN'), ('and', 'CONJ'), ('found', 'VERB'), ('that', 'ADP'), ('only', 'ADV'), ('one', 'NUM'), ('--', '.'), ('private', 'ADJ'), ('Dodger', 'ADV'), ('Stadium', 'NOUN'), ('--', '.'), ('brought', 'VERB'), ('more', 'ADV'), ('money', 'NOUN'), ('*ICH*-1', 'X'), ('into', 'ADP'), ('a', 'DET'), ('city', 'NOUN'), ('than', 'ADP'), ('it', 'PRON'), ('took', 'VERB'), ('out', 'PRT'), ('.', '.'), ('The', 'DET'), ('company', 'NOUN'), ('acknowledges', 'ADV'), ('some', 'DET'), ('problems', 'NOUN'), ('.', '.'), ('Municipal', 'NOUN'), ('Issues', 'NOUN'), ('Each', 'DET'), ('$', '.'), ('5,000', 'NUM'), ('*U*', 'X'), ('bond', 'NOUN'), ('carries', 'VERB'), ('one', 'NUM'), ('warrant', 'NOUN'), (',', '.'), ('exercisable', 'ADJ'), ('from', 'ADP'), ('Nov.', 'NOUN'), ('30', 'NUM'), (',', '.'), ('1989', 'NUM'), (',', '.'), ('through', 'ADP'), ('Nov.', 'NOUN'), ('2', 'NUM'), (',', '.'), ('1993', 'NUM'), (',', '.'), ('0', 'X'), ('*', 'X'), ('to', 'PRT'), ('buy', 'VERB'), ('shares', 'NOUN'), ('at', 'ADP'), ('an', 'DET'), ('expected', 'VERB'), ('premium', 'NOUN'), ('of', 'ADP'), ('2', 'NUM'), ('1\\\\/2', 'NUM'), ('%', 'NOUN'), ('to', 'PRT'), ('the', 'DET'), ('closing', 'ADJ'), ('price', 'NOUN'), ('when', 'ADV'), ('terms', 'NOUN'), ('are', 'VERB'), ('fixed', 'VERB'), ('*-1', 'X'), ('Tuesday', 'NOUN'), ('*T*-2', 'X'), ('*T*-3', 'X'), ('.', '.'), ('According', 'VERB'), ('to', 'PRT'), ('news', 'NOUN'), ('service', 'NOUN'), ('reports', 'NOUN'), (',', '.'), ('most', 'ADV'), ('workers', 'NOUN'), ('at', 'ADP'), ('the', 'DET'), ('Disputado', 'ADV'), ('mines', 'NOUN'), ('owned', 'VERB'), ('*', 'X'), ('by', 'ADP'), ('Exxon', 'NOUN'), ('Corp.', 'NOUN'), ('agreed', 'VERB'), ('to', 'PRT'), ('a', 'DET'), ('new', 'ADJ'), ('two-year', 'ADJ'), ('wage', 'NOUN'), ('contract', 'NOUN'), ('that', 'ADP'), ('*T*-1', 'X'), ('includes', 'VERB'), ('a', 'DET'), ('5', 'NUM'), ('%', 'NOUN'), ('increase', 'NOUN'), ('and', 'CONJ'), ('other', 'ADJ'), ('benefits', 'NOUN'), ('.', '.'), ('*-25', 'X'), ('Regarded', 'ADV'), ('*-1', 'X'), ('as', 'ADP'), ('the', 'DET'), ('father', 'NOUN'), ('of', 'ADP'), ('the', 'DET'), ('supercomputer', 'NOUN'), (',', '.'), ('Mr.', 'NOUN'), ('Cray', 'NOUN'), ('was', 'VERB'), ('paid', 'VERB'), ('*-25', 'X'), ('$', '.'), ('600,000', 'NUM'), ('*U*', 'X'), ('at', 'ADP'), ('Cray', 'NOUN'), ('Research', 'NOUN'), ('last', 'ADJ'), ('year', 'NOUN'), ('.', '.'), ('Sony', 'NOUN'), ('is', 'VERB'), ('paying', 'VERB'), ('$', '.'), ('27', 'NUM'), ('*U*', 'X'), ('a', 'DET'), ('share', 'NOUN'), (',', '.'), ('or', 'CONJ'), ('$', '.'), ('3.55', 'ADV'), ('billion', 'NUM'), ('*U*', 'X'), (',', '.'), ('cash', 'NOUN'), ('and', 'CONJ'), ('is', 'VERB'), ('assuming', 'VERB'), ('$', '.'), ('1.4', 'ADV'), ('billion', 'NUM'), ('*U*', 'X'), ('of', 'ADP'), ('long-term', 'ADJ'), ('debt', 'NOUN'), ('.', '.'), ('The', 'DET'), ('30-day', 'ADJ'), ('simple', 'ADJ'), ('yield', 'NOUN'), ('fell', 'VERB'), ('to', 'PRT'), ('an', 'DET'), ('average', 'ADJ'), ('8.19', 'ADV'), ('%', 'NOUN'), ('from', 'ADP'), ('8.22', 'ADV'), ('%', 'NOUN'), (';', '.'), ('the', 'DET'), ('30-day', 'ADJ'), ('compound', 'NOUN'), ('yield', 'VERB'), ('slid', 'VERB'), ('to', 'PRT'), ('an', 'DET'), ('average', 'ADJ'), ('8.53', 'ADV'), ('%', 'NOUN'), ('from', 'ADP'), ('8.56', 'ADV'), ('%', 'NOUN'), ('.', '.'), ('A', 'DET'), ('1', 'NUM'), ('%', 'NOUN'), ('to', 'PRT'), ('2', 'NUM'), ('%', 'NOUN'), ('*U*', 'X'), ('return', 'VERB'), ('on', 'ADP'), ('$', '.'), ('17', 'NUM'), ('billion', 'NUM'), ('*U*', 'X'), ('``', '.'), ('ai', 'ADV'), (\"n't\", 'ADV'), ('hay', 'NOUN'), (',', '.'), (\"''\", '.'), ('Mr.', 'NOUN'), ('Klauser', 'NOUN'), ('says', 'VERB'), ('0', 'X'), ('*T*-1', 'X'), ('.', '.'), ('Thus', 'ADV'), (',', '.'), ('an', 'DET'), ('institution', 'NOUN'), ('obligated', 'VERB'), ('*', 'X'), ('to', 'PRT'), ('make', 'VERB'), ('fixed-rate', 'ADJ'), ('interest', 'NOUN'), ('payments', 'NOUN'), ('on', 'ADP'), ('debt', 'NOUN'), ('swaps', 'ADV'), ('the', 'DET'), ('payments', 'NOUN'), ('with', 'ADP'), ('another', 'DET'), ('making', 'VERB'), ('floating-rate', 'ADJ'), ('payments', 'NOUN'), ('.', '.'), ('Trading', 'NOUN'), ('companies', 'NOUN'), ('such', 'ADJ'), ('as', 'ADP'), ('Mitsubishi', 'NOUN'), (',', '.'), ('Mitsui', 'NOUN'), (',', '.'), ('C.', 'NOUN'), ('Itoh', 'NOUN'), ('&', 'CONJ'), ('Co.', 'NOUN'), ('and', 'CONJ'), ('Nissho-Iwai', 'ADV'), ('Corp.', 'NOUN'), (',', '.'), ('which', 'DET'), ('*T*-193', 'ADV'), ('make', 'VERB'), ('many', 'ADJ'), ('of', 'ADP'), ('the', 'DET'), ('Japanese', 'ADJ'), ('investments', 'NOUN'), ('in', 'ADP'), ('small', 'ADJ'), ('U.S.', 'NOUN'), ('concerns', 'NOUN'), (',', '.'), ('have', 'VERB'), ('no', 'DET'), ('U.S.', 'NOUN'), ('counterpart', 'ADV'), ('.', '.'), ('When', 'ADV'), ('Ms.', 'NOUN'), ('Evans', 'NOUN'), ('took', 'VERB'), ('her', 'PRON'), ('job', 'NOUN'), ('*T*-1', 'X'), (',', '.'), ('several', 'ADJ'), ('important', 'ADJ'), ('divisions', 'NOUN'), ('that', 'ADP'), ('*T*-2', 'X'), ('had', 'VERB'), ('reported', 'VERB'), ('to', 'PRT'), ('her', 'PRON'), ('predecessor', 'NOUN'), ('were', 'VERB'), (\"n't\", 'ADV'), ('included', 'VERB'), ('*-3', 'X'), ('partly', 'ADV'), ('because', 'ADP'), ('she', 'PRON'), ('did', 'VERB'), (\"n't\", 'ADV'), ('wish', 'VERB'), ('*-4', 'X'), ('to', 'PRT'), ('be', 'VERB'), ('a', 'DET'), ('full-time', 'ADJ'), ('administrator', 'NOUN'), ('.', '.'), ('At', 'ADP'), ('the', 'DET'), ('time', 'NOUN'), (',', '.'), ('he', 'PRON'), ('was', 'VERB'), ('director', 'NOUN'), ('of', 'ADP'), ('the', 'DET'), ('Currently', 'NOUN'), (',', '.'), ('the', 'DET'), ('government', 'NOUN'), ('charges', 'NOUN'), ('nothing', 'NOUN'), ('for', 'ADP'), ('such', 'ADJ'), ('filings', 'NOUN'), ('.', '.'), ('A', 'DET'), ('survey', 'NOUN'), ('by', 'ADP'), ('the', 'DET'), ('Fed', 'NOUN'), (\"'s\", 'PRT'), ('12', 'NUM'), ('district', 'NOUN'), ('banks', 'NOUN'), ('shows', 'VERB'), ('0', 'X'), ('economic', 'ADJ'), ('growth', 'NOUN'), ('has', 'VERB'), ('been', 'VERB'), ('sluggish', 'ADJ'), ('in', 'ADP'), ('recent', 'ADJ'), ('weeks', 'NOUN'), (',', '.'), ('while', 'ADP'), ('upward', 'ADV'), ('pressures', 'NOUN'), ('on', 'ADP'), ('prices', 'NOUN'), ('have', 'VERB'), ('moderated', 'VERB'), ('.', '.'), ('Arbitrage-related', 'ADV'), ('trading', 'VERB'), ('during', 'ADP'), ('the', 'DET'), ('session', 'NOUN'), ('was', 'VERB'), ('confined', 'VERB'), ('*-1', 'X'), ('largely', 'ADV'), ('to', 'PRT'), ('a', 'DET'), ('round', 'NOUN'), ('of', 'ADP'), ('buy', 'NOUN'), ('programs', 'NOUN'), ('near', 'ADP'), ('the', 'DET'), ('close', 'ADJ'), (',', '.'), ('which', 'DET'), ('*T*-2', 'X'), ('helped', 'VERB'), ('*-3', 'X'), ('offset', 'VERB'), ('the', 'DET'), ('impact', 'NOUN'), ('of', 'ADP'), ('profit-taking', 'NOUN'), ('among', 'ADP'), ('blue', 'ADJ'), ('chips', 'NOUN'), ('.', '.'), ('But', 'CONJ'), ('the', 'DET'), ('former', 'ADJ'), ('U.S.', 'NOUN'), ('president', 'NOUN'), (\"'s\", 'PRT'), ('sixth', 'ADJ'), ('visit', 'NOUN'), ('to', 'PRT'), ('China', 'NOUN'), (',', '.'), ('during', 'ADP'), ('which', 'DET'), ('he', 'PRON'), ('spoke', 'ADV'), ('at', 'ADP'), ('length', 'ADV'), ('with', 'ADP'), ('Chinese', 'ADJ'), ('leaders', 'NOUN'), ('*T*-1', 'X'), (',', '.'), ('was', 'VERB'), ('nowhere', 'ADV'), ('near', 'ADP'), ('as', 'ADP'), ('successful', 'ADJ'), ('at', 'ADP'), ('*', 'X'), ('easing', 'VERB'), ('strains', 'NOUN'), ('that', 'ADP'), ('*T*-239', 'ADV'), ('have', 'VERB'), ('recently', 'ADV'), ('afflicted', 'ADV'), ('the', 'DET'), ('Sino-U.S.', 'ADJ'), ('relationship', 'NOUN'), ('.', '.'), ('For', 'ADP'), ('the', 'DET'), ('period', 'NOUN'), ('ended', 'VERB'), ('Sept.30', 'ADV'), (',', '.'), ('it', 'PRON'), ('earned', 'VERB'), ('16.68', 'ADV'), ('billion', 'NUM'), ('yen', 'NOUN'), (',', '.'), ('-LRB-', '.'), ('US$', '.'), ('116.7', 'ADV'), ('million', 'NUM'), ('*U*', 'X'), ('-RRB-', '.'), ('up', 'ADV'), ('from', 'ADP'), ('12.68', 'ADV'), ('billion', 'NUM'), ('yen', 'NOUN'), ('the', 'DET'), ('year', 'NOUN'), ('before', 'ADP'), ('.', '.'), ('Richard', 'NOUN'), ('Driscoll', 'NOUN'), (',', '.'), ('vice', 'NOUN'), ('chairman', 'NOUN'), ('of', 'ADP'), ('Bank', 'NOUN'), ('of', 'ADP'), ('New', 'NOUN'), ('England', 'NOUN'), (',', '.'), ('told', 'VERB'), ('the', 'DET'), ('Dow', 'NOUN'), ('Jones', 'NOUN'), ('Professional', 'ADJ'), ('Investor', 'NOUN'), ('Report', 'NOUN'), (',', '.'), ('``', '.'), ('Certainly', 'ADV'), (',', '.'), ('there', 'DET'), ('are', 'VERB'), ('those', 'DET'), ('outside', 'ADJ'), ('the', 'DET'), ('region', 'NOUN'), ('who', 'PRON'), ('*T*-159', 'ADV'), ('think', 'VERB'), ('of', 'ADP'), ('us', 'PRON'), ('prospectively', 'ADV'), ('as', 'ADP'), ('a', 'DET'), ('good', 'ADJ'), ('partner', 'NOUN'), ('.', '.'), ('Younkers', 'NOUN'), ('rang', 'ADV'), ('up', 'ADV'), ('sales', 'NOUN'), ('*ICH*-1', 'X'), ('in', 'ADP'), ('1988', 'NUM'), ('of', 'ADP'), ('$', '.'), ('313', 'ADV'), ('million', 'NUM'), ('*U*', 'X'), ('.', '.'), ('Last', 'ADJ'), ('year', 'NOUN'), (\"'s\", 'PRT'), ('record', 'NOUN'), ('net', 'NOUN'), ('cash', 'NOUN'), ('income', 'NOUN'), ('confirms', 'ADV'), ('the', 'DET'), ('farm', 'NOUN'), ('sector', 'NOUN'), (\"'s\", 'PRT'), ('rebound', 'VERB'), ('from', 'ADP'), ('the', 'DET'), ('agricultural', 'ADJ'), ('depression', 'ADV'), ('of', 'ADP'), ('the', 'DET'), ('early', 'ADJ'), ('1980s', 'NOUN'), ('.', '.'), ('At', 'ADP'), ('the', 'DET'), ('same', 'ADJ'), ('time', 'NOUN'), (',', '.'), ('the', 'DET'), ('drop', 'NOUN'), ('in', 'ADP'), ('interest', 'NOUN'), ('rates', 'NOUN'), ('since', 'ADP'), ('the', 'DET'), ('spring', 'NOUN'), ('has', 'VERB'), ('failed', 'VERB'), ('*-1', 'X'), ('to', 'PRT'), ('revive', 'VERB'), ('the', 'DET'), ('residential', 'ADJ'), ('construction', 'NOUN'), ('industry', 'NOUN'), ('.', '.'), ('As', 'ADP'), ('more', 'ADJ'), ('managers', 'NOUN'), ('pursue', 'VERB'), ('the', 'DET'), ('index-arbitrage', 'ADJ'), ('strategy', 'NOUN'), (',', '.'), ('these', 'DET'), ('small', 'ADJ'), ('opportunities', 'NOUN'), ('between', 'ADP'), ('markets', 'NOUN'), ('will', 'VERB'), ('be', 'VERB'), ('reduced', 'VERB'), ('*-1', 'X'), ('and', 'CONJ'), (',', '.'), ('eventually', 'ADV'), (',', '.'), ('eliminated', 'VERB'), ('*-1', 'X'), ('.', '.'), ('The', 'DET'), ('firm', 'NOUN'), ('and', 'CONJ'), ('Mr.', 'NOUN'), ('Whelen', 'NOUN'), ('allegedly', 'ADV'), ('sold', 'VERB'), ('securities', 'NOUN'), ('to', 'PRT'), ('the', 'DET'), ('public', 'ADJ'), ('at', 'ADP'), ('unfair', 'ADJ'), ('prices', 'NOUN'), (',', '.'), ('among', 'ADP'), ('other', 'ADJ'), ('alleged', 'ADJ'), ('violations', 'NOUN'), ('.', '.'), ('In', 'ADP'), ('other', 'ADJ'), ('years', 'NOUN'), ('in', 'ADP'), ('which', 'DET'), ('there', 'ADV'), ('have', 'VERB'), ('been', 'VERB'), ('moderate', 'ADJ'), ('economic', 'ADJ'), ('slowdowns', 'ADV'), ('--', '.'), ('the', 'DET'), ('environment', 'NOUN'), ('0', 'X'), ('the', 'DET'), ('firm', 'NOUN'), ('expects', 'VERB'), ('*T*-1', 'X'), ('in', 'ADP'), ('1990', 'NUM'), ('*T*-2', 'X'), ('--', '.'), ('the', 'DET'), ('change', 'NOUN'), ('in', 'ADP'), ('dividends', 'NOUN'), ('ranged', 'VERB'), ('from', 'ADP'), ('a', 'DET'), ('gain', 'NOUN'), ('of', 'ADP'), ('4', 'NUM'), ('%', 'NOUN'), ('to', 'PRT'), ('a', 'DET'), ('decline', 'NOUN'), ('of', 'ADP'), ('1', 'NUM'), ('%', 'NOUN'), (',', '.'), ('according', 'VERB'), ('to', 'PRT'), ('PaineWebber', 'NOUN'), ('analyst', 'NOUN'), ('Thomas', 'NOUN'), ('Doerflinger', 'ADV'), ('.', '.'), ('In', 'ADP'), ('the', 'DET'), ('past', 'ADJ'), (',', '.'), ('they', 'PRON'), ('say', 'VERB'), ('0', 'X'), ('*T*-1', 'X'), (',', '.'), ('the', 'DET'), ('strongest', 'ADJ'), ('dividend', 'NOUN'), ('growth', 'NOUN'), ('has', 'VERB'), ('often', 'ADV'), ('come', 'VERB'), ('at', 'ADP'), ('times', 'NOUN'), ('when', 'ADV'), ('the', 'DET'), ('stock-market', 'NOUN'), ('party', 'NOUN'), ('was', 'VERB'), ('almost', 'ADV'), ('over', 'ADP'), ('*T*-2', 'X'), ('.', '.'), ('USX', 'NOUN'), ('Corp.', 'NOUN'), ('posted', 'VERB'), ('a', 'DET'), ('23', 'NUM'), ('%', 'NOUN'), ('drop', 'NOUN'), ('in', 'ADP'), ('third-quarter', 'NOUN'), ('profit', 'NOUN'), (',', '.'), ('as', 'ADP'), ('improved', 'VERB'), ('oil', 'NOUN'), ('results', 'NOUN'), ('failed', 'VERB'), ('*-1', 'X'), ('to', 'PRT'), ('offset', 'VERB'), ('weakness', 'NOUN'), ('in', 'ADP'), ('steel', 'NOUN'), ('and', 'CONJ'), ('natural', 'ADJ'), ('gas', 'NOUN'), ('operations', 'NOUN'), ('.', '.'), ('--', '.'), ('In', 'ADP'), ('Japan', 'NOUN'), (',', '.'), ('the', 'DET'), ('benchmark', 'NOUN'), ('No.', 'NOUN'), ('111', 'NUM'), ('4.6', 'NUM'), ('%', 'NOUN'), ('issue', 'NOUN'), ('due', 'ADJ'), ('1998', 'ADV'), ('ended', 'VERB'), ('on', 'ADP'), ('brokers', 'NOUN'), ('screens', 'NOUN'), ('unchanged', 'ADJ'), ('at', 'ADP'), ('95.09', 'ADV'), ('*-1', 'X'), ('to', 'PRT'), ('yield', 'VERB'), ('5.435', 'ADV'), ('%', 'NOUN'), ('.', '.'), ('Of', 'ADP'), ('the', 'DET'), ('approximately', 'ADV'), ('200', 'NUM'), ('sponsors', 'ADV'), ('of', 'ADP'), ('the', 'DET'), ('recent', 'ADJ'), ('march', 'NOUN'), ('in', 'ADP'), ('Washington', 'NOUN'), ('for', 'ADP'), ('the', 'DET'), ('homeless', 'ADJ'), (',', '.'), ('you', 'PRON'), ('chose', 'ADV'), ('*-1', 'X'), ('to', 'PRT'), ('cite', 'VERB'), ('such', 'ADJ'), ('groups', 'NOUN'), ('as', 'ADP'), ('the', 'DET'), ('National', 'NOUN'), ('Association', 'NOUN'), ('of', 'ADP'), ('Home', 'ADV'), ('Builders', 'ADV'), ('and', 'CONJ'), ('the', 'DET'), ('International', 'NOUN'), ('Union', 'NOUN'), ('of', 'ADP'), ('Bricklayers', 'ADV'), ('and', 'CONJ'), ('Allied', 'NOUN'), ('Craftsmen', 'ADV'), (',', '.'), ('*-1', 'X'), ('insinuating', 'ADV'), ('that', 'ADP'), ('the', 'DET'), ('march', 'NOUN'), ('got', 'VERB'), ('its', 'PRON'), ('major', 'ADJ'), ('support', 'NOUN'), ('from', 'ADP'), ('self-serving', 'ADV'), ('groups', 'NOUN'), ('that', 'ADP'), ('``', '.'), ('*T*-2', 'X'), ('know', 'VERB'), ('a', 'DET'), ('good', 'ADJ'), ('thing', 'NOUN'), ('when', 'ADV'), ('they', 'PRON'), ('see', 'VERB'), ('it', 'PRON'), ('*T*-3', 'X'), (',', '.'), (\"''\", '.'), ('and', 'CONJ'), ('that', 'DET'), ('the', 'DET'), ('crusade', 'ADV'), ('was', 'VERB'), ('based', 'VERB'), ('*-23', 'X'), ('on', 'ADP'), ('greed', 'NOUN'), ('or', 'CONJ'), ('the', 'DET'), ('profit', 'NOUN'), ('motive', 'NOUN'), ('.', '.'), ('In', 'ADP'), ('a', 'DET'), ('recent', 'ADJ'), ('report', 'NOUN'), (',', '.'), ('the', 'DET'), ('Institute', 'NOUN'), ('of', 'ADP'), ('Medicine', 'NOUN'), ('pointed', 'VERB'), ('out', 'PRT'), ('that', 'DET'), ('certain', 'ADJ'), ('health', 'NOUN'), ('problems', 'NOUN'), ('may', 'VERB'), ('predispose', 'ADV'), ('a', 'DET'), ('person', 'NOUN'), ('to', 'PRT'), ('homelessness', 'NOUN'), (',', '.'), ('others', 'NOUN'), ('may', 'VERB'), ('be', 'VERB'), ('a', 'DET'), ('consequence', 'ADV'), ('of', 'ADP'), ('it', 'PRON'), (',', '.'), ('and', 'CONJ'), ('a', 'DET'), ('third', 'ADJ'), ('category', 'NOUN'), ('is', 'VERB'), ('composed', 'ADV'), ('*-19', 'X'), ('of', 'ADP'), ('disorders', 'NOUN'), ('whose', 'PRON'), ('treatment', 'NOUN'), ('*T*-15', 'X'), ('is', 'VERB'), ('difficult', 'ADJ'), ('or', 'CONJ'), ('impossible', 'ADJ'), ('if', 'ADP'), ('a', 'DET'), ('person', 'NOUN'), ('lacks', 'VERB'), ('adequate', 'ADV'), ('shelter', 'ADV'), ('.', '.'), ('Crane', 'NOUN'), ('&', 'CONJ'), ('Co.', 'NOUN'), ('Securities', 'NOUN'), ('Inc.', 'NOUN'), (',', '.'), ('of', 'ADP'), ('Mount', 'ADV'), ('Clemens', 'ADV'), (',', '.'), ('Mich.', 'NOUN'), (',', '.'), ('and', 'CONJ'), ('its', 'PRON'), ('president', 'NOUN'), (',', '.'), ('Glenn', 'NOUN'), ('R.', 'NOUN'), ('Crane', 'NOUN'), (',', '.'), ('of', 'ADP'), ('Sterling', 'NOUN'), ('Heights', 'NOUN'), (',', '.'), ('Mich.', 'NOUN'), (',', '.'), ('consented', 'VERB'), ('to', 'PRT'), ('a', 'DET'), ('joint', 'ADJ'), ('fine', 'NOUN'), ('of', 'ADP'), ('$', '.'), ('10,000', 'NUM'), ('*U*', 'X'), ('.', '.'), ('Mr.', 'NOUN'), ('Thomas', 'NOUN'), (',', '.'), ('currently', 'ADV'), ('chairman', 'NOUN'), ('of', 'ADP'), ('the', 'DET'), ('Equal', 'ADV'), ('Employment', 'ADV'), ('Opportunity', 'ADV'), ('Commission', 'NOUN'), (',', '.'), ('would', 'VERB'), ('add', 'VERB'), ('another', 'DET'), ('conservative', 'ADJ'), ('voice', 'NOUN'), ('to', 'PRT'), ('the', 'DET'), ('closely', 'ADV'), ('divided', 'VERB'), ('court', 'NOUN'), ('.', '.'), ('Volume', 'NOUN'), ('totaled', 'VERB'), ('11,390,000', 'ADV'), ('shares', 'NOUN'), ('.', '.'), ('The', 'DET'), ('loudest', 'ADV'), ('of', 'ADP'), ('these', 'DET'), ('reformers', 'NOUN'), ('are', 'VERB'), ('money', 'NOUN'), ('managers', 'NOUN'), ('who', 'PRON'), ('*T*-77', 'X'), ('cater', 'ADV'), ('to', 'PRT'), ('smaller', 'ADJ'), ('investors', 'NOUN'), ('.', '.'), ('It', 'PRON'), ('does', 'VERB'), ('a', 'DET'), ('first-rate', 'ADV'), ('job', 'NOUN'), ('.', '.'), ('The', 'DET'), ('official', 'NOUN'), ('news', 'NOUN'), ('agency', 'NOUN'), ('PAP', 'ADV'), ('said', 'VERB'), ('0', 'X'), ('the', 'DET'), ('increases', 'NOUN'), ('were', 'VERB'), ('intended', 'VERB'), ('*-1', 'X'), ('to', 'PRT'), ('bring', 'VERB'), ('unrealistically', 'ADV'), ('low', 'ADJ'), ('energy', 'NOUN'), ('charges', 'NOUN'), ('into', 'ADP'), ('line', 'NOUN'), ('with', 'ADP'), ('production', 'NOUN'), ('costs', 'NOUN'), ('and', 'CONJ'), ('compensate', 'VERB'), ('for', 'ADP'), ('a', 'DET'), ('rise', 'NOUN'), ('in', 'ADP'), ('coal', 'NOUN'), ('prices', 'NOUN'), ('.', '.'), ('``', '.'), ('What', 'PRON'), ('*T*-164', 'ADV'), (\"'s\", 'PRT'), ('different', 'ADJ'), ('is', 'VERB'), ('that', 'ADP'), ('it', 'PRON'), ('is', 'VERB'), ('happening', 'ADV'), ('with', 'ADP'), ('young', 'ADJ'), ('wines', 'NOUN'), ('just', 'ADV'), ('coming', 'VERB'), ('out', 'PRT'), ('.', '.'), ('USX', 'NOUN'), ('has', 'VERB'), ('about', 'ADP'), ('$', '.'), ('5.5', 'NUM'), ('billion', 'NUM'), ('*U*', 'X'), ('in', 'ADP'), ('long-term', 'ADJ'), ('debt', 'NOUN'), ('and', 'CONJ'), ('257', 'ADV'), ('million', 'NUM'), ('shares', 'NOUN'), ('outstanding', 'ADJ'), ('.', '.'), ('The', 'DET'), ('1987', 'NUM'), ('statute', 'NOUN'), ('0', 'X'), ('Mrs.', 'NOUN'), ('Yeargin', 'NOUN'), ('violated', 'VERB'), ('*T*-1', 'X'), ('was', 'VERB'), ('designed', 'VERB'), ('*-2', 'X'), ('*-3', 'X'), ('to', 'PRT'), ('enforce', 'VERB'), ('provisions', 'NOUN'), ('of', 'ADP'), ('South', 'NOUN'), ('Carolina', 'NOUN'), (\"'s\", 'PRT'), ('school-improvement', 'ADV'), ('laws', 'NOUN'), ('.', '.'), ('The', 'DET'), ('study', 'NOUN'), ('shows', 'VERB'), ('that', 'ADP'), ('nearly', 'ADV'), ('40', 'NUM'), ('%', 'NOUN'), ('of', 'ADP'), ('the', 'DET'), ('homeless', 'ADJ'), ('population', 'NOUN'), ('is', 'VERB'), ('made', 'VERB'), ('up', 'ADV'), ('*-21', 'X'), ('of', 'ADP'), ('women', 'NOUN'), ('and', 'CONJ'), ('children', 'NOUN'), ('and', 'CONJ'), ('that', 'DET'), ('only', 'ADJ'), ('25', 'NUM'), ('%', 'NOUN'), ('of', 'ADP'), ('the', 'DET'), ('homeless', 'ADJ'), ('exhibits', 'ADV'), ('some', 'DET'), ('combination', 'NOUN'), ('of', 'ADP'), ('drug', 'NOUN'), (',', '.'), ('alcohol', 'NOUN'), ('and', 'CONJ'), ('mental', 'ADJ'), ('problems', 'NOUN'), ('.', '.'), ('Mr.', 'NOUN'), ('Dinkins', 'NOUN'), ('did', 'VERB'), ('fail', 'VERB'), ('*-1', 'X'), ('to', 'PRT'), ('file', 'VERB'), ('his', 'PRON'), ('income', 'NOUN'), ('taxes', 'NOUN'), ('for', 'ADP'), ('four', 'NUM'), ('years', 'NOUN'), (',', '.'), ('but', 'CONJ'), ('he', 'PRON'), ('insists', 'VERB'), ('0', 'X'), ('he', 'PRON'), ('voluntarily', 'ADV'), ('admitted', 'VERB'), ('the', 'DET'), ('``', '.'), ('oversight', 'ADV'), (\"''\", '.'), ('when', 'ADV'), ('he', 'PRON'), ('was', 'VERB'), ('being', 'VERB'), ('considered', 'VERB'), ('*-2', 'X'), ('for', 'ADP'), ('a', 'DET'), ('city', 'NOUN'), ('job', 'NOUN'), ('*T*-3', 'X'), ('.', '.'), ('Stephen', 'NOUN'), ('Akerfeldt', 'ADV'), (',', '.'), ('currently', 'ADV'), ('vice', 'NOUN'), ('president', 'NOUN'), ('finance', 'NOUN'), (',', '.'), ('will', 'VERB'), ('succeed', 'VERB'), ('Mr.', 'NOUN'), ('McAlpine', 'NOUN'), ('.', '.'), ('But', 'CONJ'), ('it', 'PRON'), (\"'s\", 'VERB'), ('building', 'VERB'), ('on', 'ADP'), ('a', 'DET'), ('long', 'ADJ'), ('tradition', 'NOUN'), ('.', '.'), ('In', 'ADP'), ('her', 'PRON'), ('wake', 'NOUN'), ('she', 'PRON'), ('left', 'VERB'), ('the', 'DET'), ('bitterness', 'ADV'), ('and', 'CONJ'), ('anger', 'ADV'), ('of', 'ADP'), ('a', 'DET'), ('principal', 'NOUN'), ('who', 'PRON'), ('*T*-81', 'X'), ('was', 'VERB'), ('her', 'PRON'), ('friend', 'NOUN'), ('and', 'CONJ'), ('now', 'ADV'), ('calls', 'VERB'), ('her', 'PRON'), ('a', 'DET'), ('betrayer', 'ADV'), (';', '.'), ('of', 'ADP'), ('colleagues', 'NOUN'), ('who', 'PRON'), ('*T*-82', 'ADV'), ('say', 'VERB'), ('0', 'X'), ('she', 'PRON'), ('brought', 'VERB'), ('them', 'PRON'), ('shame', 'NOUN'), (';', '.'), ('of', 'ADP'), ('students', 'NOUN'), ('and', 'CONJ'), ('parents', 'NOUN'), ('who', 'PRON'), ('*T*-83', 'ADV'), ('defended', 'VERB'), ('her', 'PRON'), ('and', 'CONJ'), ('insist', 'VERB'), ('0', 'X'), ('she', 'PRON'), ('was', 'VERB'), ('treated', 'VERB'), ('*-1', 'X'), ('harshly', 'ADV'), (';', '.'), ('and', 'CONJ'), ('of', 'ADP'), ('school-district', 'ADV'), ('officials', 'NOUN'), ('stunned', 'ADV'), ('that', 'ADP'), ('despite', 'ADP'), ('the', 'DET'), ('bald-faced', 'ADV'), ('nature', 'NOUN'), ('of', 'ADP'), ('her', 'PRON'), ('actions', 'NOUN'), (',', '.'), ('she', 'PRON'), ('became', 'VERB'), ('something', 'NOUN'), ('of', 'ADP'), ('a', 'DET'), ('local', 'ADJ'), ('martyr', 'ADV'), ('.', '.'), ('Traditional', 'ADV'), ('stock', 'NOUN'), ('managers', 'NOUN'), ('like', 'ADP'), ('*-1', 'X'), ('to', 'PRT'), ('charge', 'NOUN'), ('50', 'NUM'), ('cents', 'NOUN'), ('to', 'PRT'), ('75', 'NUM'), ('cents', 'NOUN'), ('for', 'ADP'), ('every', 'DET'), ('$', '.'), ('100', 'NUM'), ('*U*', 'X'), ('0', 'X'), ('they', 'PRON'), ('manage', 'ADV'), ('*T*-2', 'X'), ('for', 'ADP'), ('big', 'ADJ'), ('institutional', 'ADJ'), ('investors', 'NOUN'), (',', '.'), ('and', 'CONJ'), ('higher', 'ADJ'), ('fees', 'NOUN'), ('for', 'ADP'), ('smaller', 'ADJ'), ('investors', 'NOUN'), ('.', '.'), ('--', '.'), ('The', 'DET'), ('USIA', 'NOUN'), ('said', 'VERB'), ('that', 'ADP'), (',', '.'), ('on', 'ADP'), ('reflection', 'NOUN'), (',', '.'), ('of', 'ADP'), ('course', 'NOUN'), ('I', 'PRON'), ('could', 'VERB'), ('print', 'VERB'), ('anything', 'NOUN'), ('0', 'X'), ('I', 'PRON'), ('could', 'VERB'), ('get', 'VERB'), ('my', 'PRON'), ('hands', 'NOUN'), ('on', 'ADP'), ('*T*-1', 'X'), ('.', '.'), ('Fees', 'NOUN'), ('1', 'NUM'), ('3\\\\/4', 'NUM'), ('.', '.'), ('In', 'ADP'), ('an', 'DET'), ('interview', 'NOUN'), (',', '.'), ('Donald', 'NOUN'), ('Beall', 'NOUN'), (',', '.'), ('chairman', 'NOUN'), (',', '.'), ('said', 'VERB'), ('0', 'X'), ('first-half', 'ADJ'), ('profit', 'NOUN'), ('certainly', 'ADV'), ('would', 'VERB'), ('trail', 'ADV'), ('the', 'DET'), ('past', 'ADJ'), ('year', 'NOUN'), (\"'s\", 'PRT'), (',', '.'), ('primarily', 'ADV'), ('because', 'ADP'), ('of', 'ADP'), ('weakness', 'NOUN'), ('in', 'ADP'), ('the', 'DET'), ('heavy-truck', 'ADV'), ('and', 'CONJ'), ('passenger-car', 'ADV'), ('markets', 'NOUN'), ('.', '.'), ('Mr.', 'NOUN'), ('Kaminski', 'NOUN'), (',', '.'), ('the', 'DET'), ('schoolteacher', 'ADV'), (',', '.'), ('and', 'CONJ'), ('William', 'NOUN'), ('Mehrens', 'NOUN'), (',', '.'), ('a', 'DET'), ('Michigan', 'NOUN'), ('State', 'NOUN'), ('University', 'NOUN'), ('education', 'NOUN'), ('professor', 'NOUN'), (',', '.'), ('concluded', 'VERB'), ('in', 'ADP'), ('a', 'DET'), ('study', 'NOUN'), ('last', 'ADJ'), ('June', 'NOUN'), ('that', 'ADP'), ('CAT', 'NOUN'), ('test', 'NOUN'), ('versions', 'NOUN'), ('of', 'ADP'), ('Scoring', 'NOUN'), ('High', 'NOUN'), ('and', 'CONJ'), ('Learning', 'NOUN'), ('Materials', 'NOUN'), ('should', 'VERB'), (\"n't\", 'ADV'), ('be', 'VERB'), ('used', 'VERB'), ('*-2', 'X'), ('in', 'ADP'), ('the', 'DET'), ('classroom', 'NOUN'), ('because', 'ADP'), ('of', 'ADP'), ('their', 'PRON'), ('similarity', 'ADV'), ('to', 'PRT'), ('the', 'DET'), ('actual', 'ADJ'), ('test', 'NOUN'), ('.', '.'), ('Also', 'ADV'), (',', '.'), ('more', 'ADV'), ('people', 'NOUN'), ('said', 'VERB'), ('0', 'X'), ('conditions', 'NOUN'), ('will', 'VERB'), ('worsen', 'ADV'), ('in', 'ADP'), ('the', 'DET'), ('period', 'NOUN'), ('.', '.'), ('What', 'PRON'), ('*T*-1', 'X'), ('becomes', 'VERB'), ('custom', 'ADV'), ('in', 'ADP'), ('the', 'DET'), ('Bush', 'NOUN'), ('administration', 'NOUN'), ('will', 'VERB'), ('only', 'ADV'), ('become', 'VERB'), ('more', 'ADV'), ('difficult', 'ADJ'), ('0', 'X'), ('for', 'ADP'), ('future', 'ADJ'), ('presidents', 'NOUN'), (',', '.'), ('including', 'VERB'), ('Democrats', 'NOUN'), (',', '.'), ('to', 'PRT'), ('undo', 'ADV'), ('*T*-2', 'X'), ('.', '.'), ('Payments', 'ADV'), ('are', 'VERB'), ('expected', 'VERB'), ('*-1', 'X'), ('to', 'PRT'), ('range', 'NOUN'), ('between', 'ADP'), ('$', '.'), ('9', 'NUM'), ('billion', 'NUM'), ('*U*', 'X'), ('and', 'CONJ'), ('$', '.'), ('12', 'NUM'), ('billion', 'NUM'), ('*U*', 'X'), ('this', 'DET'), ('year', 'NOUN'), ('.', '.'), ('Today', 'NOUN'), (',', '.'), ('PC', 'NOUN'), ('shipments', 'NOUN'), ('annually', 'ADV'), ('total', 'ADJ'), ('some', 'DET'), ('$', '.'), ('38.3', 'ADV'), ('billion', 'NUM'), ('*U*', 'X'), ('world-wide', 'ADJ'), ('.', '.'), ('The', 'DET'), ('latest', 'ADJ'), ('results', 'NOUN'), ('include', 'VERB'), ('some', 'DET'), ('unusual', 'ADJ'), ('write-downs', 'ADV'), (',', '.'), ('which', 'DET'), ('*T*-1', 'X'), ('had', 'VERB'), ('an', 'DET'), ('after-tax', 'ADJ'), ('impact', 'NOUN'), ('of', 'ADP'), ('$', '.'), ('4.9', 'ADV'), ('million', 'NUM'), ('*U*', 'X'), ('.', '.')]\n"
     ]
    }
   ],
   "source": [
    "print(\"Time taken in seconds: \", difference)\n",
    "print(tagged_seq)"
   ]
  },
  {
   "cell_type": "markdown",
   "metadata": {},
   "source": [
    "#### Evaluating tagging accuracy"
   ]
  },
  {
   "cell_type": "code",
   "execution_count": 42,
   "metadata": {},
   "outputs": [],
   "source": [
    "# check the accuracy of test data\n",
    "check = [i for i, j in zip(tagged_seq, test_run_base) if i == j] "
   ]
  },
  {
   "cell_type": "code",
   "execution_count": 43,
   "metadata": {},
   "outputs": [
    {
     "name": "stdout",
     "output_type": "stream",
     "text": [
      "0.9028485191473307\n"
     ]
    }
   ],
   "source": [
    "#get the accuracy\n",
    "accuracy = len(check)/len(tagged_seq)\n",
    "print(accuracy)"
   ]
  },
  {
   "cell_type": "code",
   "execution_count": 47,
   "metadata": {},
   "outputs": [
    {
     "name": "stdout",
     "output_type": "stream",
     "text": [
      "[[('that', 'ADP'), (('vendors', 'ADV'), ('vendors', 'NOUN'))], [('were', 'VERB'), (('delivering', 'ADV'), ('delivering', 'VERB'))], [('time', 'NOUN'), (('most', 'ADV'), ('most', 'ADJ'))], [('find', 'VERB'), (('Thunderbird', 'ADV'), ('Thunderbird', 'NOUN'))], [('satisfactory', 'ADJ'), (('substitute', 'ADV'), ('substitute', 'NOUN'))], [('for', 'ADP'), (('Chivas', 'ADV'), ('Chivas', 'NOUN'))], [('Chivas', 'NOUN'), (('Regal', 'ADV'), ('Regal', 'NOUN'))], [('and', 'CONJ'), (('that', 'DET'), ('that', 'ADP'))], [(\"''\", '.'), (('phobias', 'ADV'), ('phobias', 'NOUN'))], [(',', '.'), (('depressions', 'ADV'), ('depressions', 'NOUN'))], [('like', 'ADP'), (('Grgich', 'ADV'), ('Grgich', 'NOUN'))], [('Hills', 'NOUN'), (('Chardonnay', 'ADV'), ('Chardonnay', 'NOUN'))], [('slow', 'VERB'), (('down', 'ADV'), ('down', 'PRT'))], [('high-priced', 'ADJ'), (('red', 'NOUN'), ('red', 'ADJ'))], [('and', 'CONJ'), (('Chardonnays', 'ADV'), ('Chardonnays', 'NOUN'))], [('*U*', 'X'), (('range', 'VERB'), ('range', 'NOUN'))], [('an', 'DET'), (('implicit', 'ADV'), ('implicit', 'ADJ'))], [('the', 'DET'), (('Japanese', 'ADJ'), ('Japanese', 'NOUN'))], [('.', '.'), (('Takashima', 'ADV'), ('Takashima', 'NOUN'))], [('The', 'DET'), (('percent', 'ADV'), ('percent', 'NOUN'))], [('an', 'DET'), (('interior', 'ADV'), ('interior', 'ADJ'))], [('interior', 'ADJ'), (('decorator', 'ADV'), ('decorator', 'NOUN'))], [('things', 'NOUN'), (('spook', 'ADV'), ('spook', 'VERB'))], [(\"''\", '.'), (('TIRED', 'ADV'), ('TIRED', 'ADJ'))], [('*', 'X'), (('TRIMMING', 'ADV'), ('TRIMMING', 'VERB'))], [('of', 'ADP'), (('softening', 'NOUN'), ('softening', 'VERB'))], [('in', 'ADP'), (('working', 'ADJ'), ('working', 'VERB'))], [('leading', 'VERB'), (('proponent', 'ADV'), ('proponent', 'NOUN'))], [('``', '.'), (('peaceful', 'ADV'), ('peaceful', 'ADJ'))], [('a', 'DET'), (('catch', 'VERB'), ('catch', 'NOUN'))], [('to', 'PRT'), (('seduce', 'ADV'), ('seduce', 'VERB'))], [('seduce', 'VERB'), (('socialist', 'ADV'), ('socialist', 'ADJ'))], [('the', 'DET'), (('capitalist', 'ADV'), ('capitalist', 'ADJ'))], [('is', 'VERB'), (('unjust', 'ADV'), ('unjust', 'ADJ'))], [('or', 'CONJ'), (('fall', 'NOUN'), ('fall', 'VERB'))], [('trend', 'NOUN'), (('that', 'ADP'), ('that', 'DET'))], [('first', 'ADJ'), (('stirrings', 'ADV'), ('stirrings', 'NOUN'))], [(',', '.'), (('accelerated', 'ADJ'), ('accelerated', 'VERB'))], [('the', 'DET'), (('dawn', 'ADV'), ('dawn', 'NOUN'))], [('a', 'DET'), (('sometimes-tawdry', 'ADV'), ('sometimes-tawdry', 'ADJ'))], [('offer', 'NOUN'), (('as', 'ADP'), ('as', 'ADV'))], [('as', 'ADV'), (('proof', 'ADV'), ('proof', 'ADJ'))], [('completed', 'VERB'), (('*-113', 'ADV'), ('*-113', 'X'))], [(',', '.'), (('Pennview', 'ADV'), ('Pennview', 'NOUN'))], [('Association', 'NOUN'), (('leapt', 'ADV'), ('leapt', 'VERB'))], [('will', 'VERB'), (('slow', 'ADJ'), ('slow', 'VERB'))], [('a', 'DET'), (('ministry', 'ADV'), ('ministry', 'NOUN'))], [('P.', 'NOUN'), (('Tassinari', 'ADV'), ('Tassinari', 'NOUN'))], [('an', 'DET'), (('eight-count', 'ADV'), ('eight-count', 'ADJ'))], [('eight-count', 'ADJ'), (('indictment', 'ADV'), ('indictment', 'NOUN'))], [('its', 'PRON'), (('Vice', 'ADV'), ('Vice', 'NOUN'))], [('T.', 'NOUN'), (('Sherwin', 'ADV'), ('Sherwin', 'NOUN'))], [('to', 'PRT'), (('manipulate', 'ADV'), ('manipulate', 'VERB'))], [('Union', 'NOUN'), (('Carbide', 'ADV'), ('Carbide', 'NOUN'))], [(\"'s\", 'PRT'), (('planned', 'VERB'), ('planned', 'ADJ'))], [('to', 'PRT'), (('contest', 'ADV'), ('contest', 'VERB'))], [('Health', 'NOUN'), (('Review', 'ADV'), ('Review', 'NOUN'))], [('come', 'VERB'), (('up', 'ADV'), ('up', 'PRT'))], [('another', 'DET'), (('winner', 'ADV'), ('winner', 'NOUN'))], [('for', 'ADP'), (('bankruptcy-law', 'ADV'), ('bankruptcy-law', 'ADJ'))], [('.', '.'), (('Such', 'ADJ'), ('Such', 'DET'))], [('investor', 'NOUN'), (('that', 'ADP'), ('that', 'DET'))], [('other', 'ADJ'), (('arrangements', 'ADV'), ('arrangements', 'NOUN'))], [('authorities', 'NOUN'), (('that', 'ADP'), ('that', 'DET'))], [('blue', 'ADJ'), (('bloods', 'ADV'), ('bloods', 'NOUN'))], [('The', 'DET'), (('morbidity', 'ADV'), ('morbidity', 'NOUN'))], [('Still', 'ADV'), (('unresolved', 'ADV'), ('unresolved', 'ADJ'))], [('producers', 'NOUN'), (('Jon', 'ADV'), ('Jon', 'NOUN'))], [('Jon', 'NOUN'), (('Peters', 'ADV'), ('Peters', 'NOUN'))], [('Peter', 'NOUN'), (('Guber', 'ADV'), ('Guber', 'NOUN'))], [('and', 'CONJ'), (('printing-press', 'ADV'), ('printing-press', 'NOUN'))], [('first', 'ADJ'), (('half', 'NOUN'), ('half', 'DET'))], [('continually', 'ADV'), (('defined', 'ADV'), ('defined', 'VERB'))], [('common', 'ADJ'), (('denominator', 'ADV'), ('denominator', 'NOUN'))], [('.', '.'), (('Light', 'ADV'), ('Light', 'NOUN'))], [('third-quarter', 'NOUN'), (('net', 'NOUN'), ('net', 'ADJ'))], [('$', '.'), (('35.2', 'ADV'), ('35.2', 'NUM'))], [('.', '.'), (('Home', 'ADV'), ('Home', 'NOUN'))], [('Home', 'NOUN'), (('purchase', 'VERB'), ('purchase', 'NOUN'))], [('purchase', 'NOUN'), (('plans', 'VERB'), ('plans', 'NOUN'))], [('to', 'PRT'), (('offend', 'ADV'), ('offend', 'VERB'))], [('largest', 'ADJ'), (('lender', 'ADV'), ('lender', 'NOUN'))], [('Richard', 'NOUN'), (('Drobnick', 'ADV'), ('Drobnick', 'NOUN'))], [('funds', 'NOUN'), (('that', 'ADP'), ('that', 'DET'))], [('Donald', 'NOUN'), (('Anderson', 'ADV'), ('Anderson', 'NOUN'))], [('a', 'DET'), (('59-year-old', 'ADV'), ('59-year-old', 'ADJ'))], [('``', '.'), (('fluctuations', 'ADV'), ('fluctuations', 'NOUN'))], [('the', 'DET'), (('heebie-jeebies', 'ADV'), ('heebie-jeebies', 'NOUN'))], [('see', 'VERB'), (('much', 'ADV'), ('much', 'ADJ'))], [('much', 'ADJ'), (('point', 'VERB'), ('point', 'NOUN'))], [('*', 'X'), (('outlawing', 'ADV'), ('outlawing', 'VERB'))], [('$', '.'), (('38.375', 'ADV'), ('38.375', 'NUM'))], [('.', '.'), (('Propaganda', 'ADV'), ('Propaganda', 'NOUN'))], [('make', 'VERB'), (('up', 'ADV'), ('up', 'PRT'))], [('own', 'ADJ'), (('mind', 'VERB'), ('mind', 'NOUN'))], [('What', 'PRON'), (('*T*-234', 'ADV'), ('*T*-234', 'X'))], [('growth', 'NOUN'), (('next', 'ADP'), ('next', 'ADJ'))], [('In', 'ADP'), (('1966', 'ADV'), ('1966', 'NUM'))], [('on', 'ADP'), (('route', 'ADV'), ('route', 'NOUN'))], [('re-election', 'NOUN'), (('rout', 'ADV'), ('rout', 'NOUN'))], [('Frank', 'NOUN'), ((\"O'Connor\", 'ADV'), (\"O'Connor\", 'NOUN'))], [(',', '.'), ((\"O'Connor\", 'ADV'), (\"O'Connor\", 'NOUN'))], [('transaction', 'NOUN'), (('sound', 'NOUN'), ('sound', 'VERB'))], [('Andrew', 'NOUN'), (('Derel', 'ADV'), ('Derel', 'NOUN'))], [('Derel', 'NOUN'), (('Adams', 'ADV'), ('Adams', 'NOUN'))], [(',', '.'), (('Killeen', 'ADV'), ('Killeen', 'NOUN'))], [('Francis', 'NOUN'), (('Angier', 'ADV'), ('Angier', 'NOUN'))], [(',', '.'), (('Reddington', 'ADV'), ('Reddington', 'NOUN'))], [('Reddington', 'NOUN'), (('Shores', 'ADV'), ('Shores', 'NOUN'))], [(',', '.'), (('Arlington', 'ADV'), ('Arlington', 'NOUN'))], [('William', 'NOUN'), (('Stirlen', 'ADV'), ('Stirlen', 'NOUN'))], [(',', '.'), (('Arlington', 'ADV'), ('Arlington', 'NOUN'))], [('W.', 'NOUN'), (('Bonnell', 'ADV'), ('Bonnell', 'NOUN'))], [('J.', 'NOUN'), (('Boorse', 'ADV'), ('Boorse', 'NOUN'))], [(',', '.'), (('Horsham', 'ADV'), ('Horsham', 'NOUN'))], [('David', 'NOUN'), (('Chiodo', 'ADV'), ('Chiodo', 'NOUN'))], [(';', '.'), (('Camille', 'ADV'), ('Camille', 'NOUN'))], [('Camille', 'NOUN'), (('Chafic', 'ADV'), ('Chafic', 'NOUN'))], [('Chafic', 'NOUN'), (('Cotran', 'ADV'), ('Cotran', 'NOUN'))], [('the', 'DET'), (('risk-free', 'ADV'), ('risk-free', 'ADJ'))], [('easily', 'ADV'), (('outdistanced', 'ADV'), ('outdistanced', 'VERB'))], [('John', 'NOUN'), (('Lonski', 'ADV'), ('Lonski', 'NOUN'))], [('pegged', 'VERB'), (('*-164', 'ADV'), ('*-164', 'X'))], [('factory', 'NOUN'), (('pay', 'VERB'), ('pay', 'NOUN'))], [('of', 'ADP'), (('rusted', 'ADV'), ('rusted', 'VERB'))], [('oil', 'NOUN'), (('drums', 'ADV'), ('drums', 'NOUN'))], [('drums', 'NOUN'), (('swim', 'ADV'), ('swim', 'VERB'))], [('voice', 'NOUN'), (('purrs', 'ADV'), ('purrs', 'VERB'))], [('the', 'DET'), (('neighbors', 'ADV'), ('neighbors', 'NOUN'))], [('response', 'NOUN'), (('annoyed', 'ADV'), ('annoyed', 'VERB'))], [('the', 'DET'), (('congressman', 'ADV'), ('congressman', 'NOUN'))], [('snapped', 'VERB'), (('back', 'ADV'), ('back', 'PRT'))], [('been', 'VERB'), (('enough', 'ADV'), ('enough', 'ADJ'))], [('and', 'CONJ'), (('that', 'DET'), ('that', 'ADP'))], [('dividend', 'NOUN'), (('bulls', 'ADV'), ('bulls', 'NOUN'))], [('having', 'VERB'), (('plenty', 'ADJ'), ('plenty', 'NOUN'))], [('left', 'VERB'), (('over', 'ADP'), ('over', 'PRT'))], [('capital', 'NOUN'), (('expenditures', 'ADV'), ('expenditures', 'NOUN'))], [('due', 'ADJ'), (('1995', 'ADV'), ('1995', 'NUM'))], [('fell', 'VERB'), (('9\\\\/32', 'ADV'), ('9\\\\/32', 'NUM'))], [('to', 'PRT'), (('103', 'ADV'), ('103', 'NUM'))], [('yield', 'VERB'), (('11.10', 'ADV'), ('11.10', 'NUM'))], [('.', '.'), (('@', 'ADV'), ('@', 'ADP'))], [(',', '.'), (('1996', 'ADV'), ('1996', 'NUM'))], [('-LRB-', '.'), (('Schweiz', 'ADV'), ('Schweiz', 'NOUN'))], [('of', 'ADP'), (('5.6', 'ADV'), ('5.6', 'NUM'))], [('goes', 'VERB'), (('ex-dividend', 'ADV'), ('ex-dividend', 'ADJ'))], [('.', '.'), (('Atsushi', 'ADV'), ('Atsushi', 'NOUN'))], [('Atsushi', 'NOUN'), (('Muramatsu', 'ADV'), ('Muramatsu', 'NOUN'))], [(',', '.'), (('executive', 'NOUN'), ('executive', 'ADJ'))], [('has', 'VERB'), (('experienced', 'ADV'), ('experienced', 'VERB'))], [('a', 'DET'), (('remarkable', 'ADV'), ('remarkable', 'ADJ'))], [('many', 'ADJ'), (('difficulties', 'ADV'), ('difficulties', 'NOUN'))], [('a', 'DET'), (('following', 'VERB'), ('following', 'NOUN'))], [('$', '.'), (('214', 'ADV'), ('214', 'NUM'))], [('%', 'NOUN'), (('rise', 'VERB'), ('rise', 'NOUN'))], [(',', '.'), (('reports', 'NOUN'), ('reports', 'VERB'))], [('a', 'DET'), (('longtime', 'ADV'), ('longtime', 'NOUN'))], [('daily', 'ADJ'), (('permissible', 'ADV'), ('permissible', 'ADJ'))], [('permissible', 'ADJ'), (('limit', 'VERB'), ('limit', 'NOUN'))], [('of', 'ADP'), (('0.50', 'ADV'), ('0.50', 'NUM'))], [('to', 'PRT'), (('14.00', 'ADV'), ('14.00', 'NUM'))], [('showed', 'VERB'), (('near-limit', 'ADV'), ('near-limit', 'ADJ'))], [('been', 'VERB'), (('happy', 'ADV'), ('happy', 'ADJ'))], [('.', '.'), (('Separately', 'ADV'), ('Separately', 'NOUN'))], [('market', 'NOUN'), (('emergencies', 'ADV'), ('emergencies', 'NOUN'))], [('different', 'ADJ'), (('ends', 'VERB'), ('ends', 'NOUN'))], [('political', 'ADJ'), (('spectrum', 'ADV'), ('spectrum', 'NOUN'))], [('a', 'DET'), (('liberal', 'ADJ'), ('liberal', 'NOUN'))], [('a', 'DET'), (('small-time', 'ADV'), ('small-time', 'ADJ'))], [('A', 'DET'), (('50-state', 'ADV'), ('50-state', 'ADJ'))], [('50-state', 'ADJ'), (('study', 'VERB'), ('study', 'NOUN'))], [(',', '.'), (('school-research', 'ADV'), ('school-research', 'ADJ'))], [('by', 'ADP'), (('American', 'NOUN'), ('American', 'ADJ'))], [('Gerald', 'NOUN'), (('Ratner', 'ADV'), ('Ratner', 'NOUN'))], [('Assuming', 'VERB'), (('that', 'ADP'), ('that', 'DET'))], [('in', 'ADP'), (('universities', 'ADV'), ('universities', 'NOUN'))], [('H.', 'NOUN'), (('Strother', 'ADV'), ('Strother', 'NOUN'))], [('is', 'VERB'), (('researching', 'ADV'), ('researching', 'VERB'))], [('on', 'ADP'), (('viewing', 'ADV'), ('viewing', 'VERB'))], [('especially', 'ADV'), (('absurd', 'ADV'), ('absurd', 'ADJ'))], [('to', 'PRT'), (('inform', 'ADV'), ('inform', 'VERB'))], [('trading', 'NOUN'), (('roadblock', 'ADV'), ('roadblock', 'NOUN'))], [('beaten', 'VERB'), (('*-82', 'ADV'), ('*-82', 'X'))], [('seeking', 'VERB'), (('better', 'ADV'), ('better', 'ADJ'))], [('their', 'PRON'), (('high-volume', 'ADV'), ('high-volume', 'ADJ'))], [('or', 'CONJ'), (('overseas', 'ADJ'), ('overseas', 'ADV'))], [('London', 'NOUN'), (('serves', 'ADV'), ('serves', 'VERB'))], [('a', 'DET'), (('conduit', 'ADV'), ('conduit', 'NOUN'))], [('``', '.'), (('Unemployment', 'ADV'), ('Unemployment', 'NOUN'))], [('the', 'DET'), (('purchasing', 'NOUN'), ('purchasing', 'VERB'))], [('weekly', 'ADJ'), (('paycheck', 'ADV'), ('paycheck', 'NOUN'))], [('are', 'VERB'), (('queuing', 'ADV'), ('queuing', 'VERB'))], [('the', 'DET'), (('working', 'ADJ'), ('working', 'VERB'))], [('very', 'ADV'), (('unsympathetic', 'ADV'), ('unsympathetic', 'ADJ'))], [('Robert', 'NOUN'), (('Shrum', 'ADV'), ('Shrum', 'NOUN'))], [('David', 'NOUN'), (('Doak', 'ADV'), ('Doak', 'NOUN'))], [('finally', 'ADV'), (('unleashed', 'ADV'), ('unleashed', 'VERB'))], [('copper', 'NOUN'), (('mine', 'ADJ'), ('mine', 'NOUN'))], [('been', 'VERB'), (('inoperative', 'ADV'), ('inoperative', 'ADJ'))], [('by', 'ADP'), (('native', 'ADV'), ('native', 'ADJ'))], [('native', 'ADJ'), (('landowners', 'ADV'), ('landowners', 'NOUN'))], [('to', 'PRT'), (('secede', 'ADV'), ('secede', 'VERB'))], [('*T*-1', 'X'), ((\"'s\", 'PRT'), (\"'s\", 'VERB'))], [('.', '.'), (('Net', 'ADJ'), ('Net', 'NOUN'))], [('Net', 'NOUN'), (('advanced', 'ADJ'), ('advanced', 'VERB'))], [('$', '.'), (('94.2', 'ADV'), ('94.2', 'NUM'))], [('or', 'CONJ'), (('83', 'ADV'), ('83', 'NUM'))], [('including', 'VERB'), (('net', 'ADJ'), ('net', 'NOUN'))], [('``', '.'), (('mirror', 'VERB'), ('mirror', 'NOUN'))], [(\"'s\", 'PRT'), (('fabled', 'ADV'), ('fabled', 'ADJ'))], [('fabled', 'ADJ'), (('virtues', 'ADV'), ('virtues', 'NOUN'))], [('``', '.'), (('evolved', 'ADV'), ('evolved', 'VERB'))], [('with', 'ADP'), (('Si', 'ADV'), ('Si', 'NOUN'))], [(\"''\", '.'), (('Homeless', 'NOUN'), ('Homeless', 'ADJ'))], [('not', 'ADV'), (('only', 'ADV'), ('only', 'ADJ'))], [('only', 'ADJ'), (('lack', 'NOUN'), ('lack', 'VERB'))], [('and', 'CONJ'), (('shelter', 'ADV'), ('shelter', 'NOUN'))], [('also', 'ADV'), (('lack', 'NOUN'), ('lack', 'VERB'))], [('the', 'DET'), (('elementary', 'ADV'), ('elementary', 'ADJ'))], [('elementary', 'ADJ'), (('necessities', 'ADV'), ('necessities', 'NOUN'))], [('of', 'ADP'), (('nutrition', 'ADV'), ('nutrition', 'NOUN'))], [(',', '.'), (('cleanliness', 'ADV'), ('cleanliness', 'NOUN'))], [('health', 'NOUN'), (('care', 'VERB'), ('care', 'NOUN'))], [('nearly', 'ADV'), (('half', 'DET'), ('half', 'NOUN'))], [('consumers', 'NOUN'), (('espouse', 'ADV'), ('espouse', 'VERB'))], [('with', 'ADP'), (('about', 'ADP'), ('about', 'ADV'))], [('about', 'ADV'), (('one-third', 'NOUN'), ('one-third', 'ADJ'))], [('Amendment', 'NOUN'), (('proscribes', 'ADV'), ('proscribes', 'VERB'))], [('laws', 'NOUN'), (('abridging', 'ADV'), ('abridging', 'VERB'))], [('legislation', 'NOUN'), (('curbing', 'ADV'), ('curbing', 'VERB'))], [('Texas', 'NOUN'), (('Instruments', 'ADV'), ('Instruments', 'NOUN'))], [('Texas', 'NOUN'), (('Instruments', 'ADV'), ('Instruments', 'NOUN'))], [('an', 'DET'), (('American', 'NOUN'), ('American', 'ADJ'))], [('the', 'DET'), (('charm', 'ADV'), ('charm', 'NOUN'))], [('this', 'DET'), (('engaging', 'VERB'), ('engaging', 'ADJ'))], [('*', 'X'), (('recognizing', 'ADV'), ('recognizing', 'VERB'))], [('the', 'DET'), (('buttoned-down', 'ADV'), ('buttoned-down', 'ADJ'))], [('contemporary', 'ADJ'), (('American', 'NOUN'), ('American', 'ADJ'))], [('American', 'ADJ'), (('lore', 'ADV'), ('lore', 'NOUN'))], [('been', 'VERB'), (('striving', 'ADV'), ('striving', 'VERB'))], [('colleagues', 'NOUN'), (('dislike', 'NOUN'), ('dislike', 'VERB'))], [('which', 'DET'), (('*T*-139', 'ADV'), ('*T*-139', 'X'))], [('a', 'DET'), (('tie-breaking', 'ADV'), ('tie-breaking', 'ADJ'))], [('to', 'PRT'), (('double-C', 'ADV'), ('double-C', 'NOUN'))], [('from', 'ADP'), (('triple-C', 'ADV'), ('triple-C', 'NOUN'))], [('500', 'NUM'), (('railcar', 'ADV'), ('railcar', 'NOUN'))], [('railcar', 'NOUN'), (('platforms', 'ADV'), ('platforms', 'NOUN'))], [('to', 'PRT'), (('Trailer', 'ADV'), ('Trailer', 'NOUN'))], [('Trailer', 'NOUN'), (('Train', 'ADV'), ('Train', 'NOUN'))], [('enabling', 'VERB'), (('more', 'ADV'), ('more', 'ADJ'))], [('to', 'PRT'), (('analyze', 'ADV'), ('analyze', 'VERB'))], [('are', 'VERB'), (('implemented', 'ADV'), ('implemented', 'VERB'))], [(':', '.'), (('1', 'NUM'), ('1', 'X'))], [(',', '.'), (('2', 'NUM'), ('2', 'X'))], [('investment', 'NOUN'), (('focus', 'VERB'), ('focus', 'NOUN'))], [('and', 'CONJ'), (('3', 'NUM'), ('3', 'X'))], [('level', 'NOUN'), (('playing', 'VERB'), ('playing', 'NOUN'))], [(',', '.'), (('benefits', 'NOUN'), ('benefits', 'VERB'))], [('the', 'DET'), (('backing', 'VERB'), ('backing', 'NOUN'))], [('Credit', 'NOUN'), (('Suisse', 'ADV'), ('Suisse', 'NOUN'))], [(',', '.'), (('Mo', 'ADV'), ('Mo', 'NOUN'))], [('that', 'ADP'), (('rollover', 'ADV'), ('rollover', 'NOUN'))], [('rollover', 'NOUN'), (('crashes', 'ADV'), ('crashes', 'NOUN'))], [('rose', 'VERB'), (('87.5', 'ADV'), ('87.5', 'NUM'))], [('$', '.'), (('38.875', 'ADV'), ('38.875', 'NUM'))], [('is', 'VERB'), (('unjust', 'ADV'), ('unjust', 'ADJ'))], [('to', 'PRT'), (('reprove', 'ADV'), ('reprove', 'VERB'))], [('``', '.'), (('screwed', 'ADV'), ('screwed', 'VERB'))], [('screwed', 'VERB'), (('up', 'ADV'), ('up', 'PRT'))], [('was', 'VERB'), (('breaking', 'ADV'), ('breaking', 'VERB'))], [('police', 'NOUN'), (('escort', 'ADV'), ('escort', 'NOUN'))], [(',', '.'), (('busloads', 'ADV'), ('busloads', 'NOUN'))], [('their', 'PRON'), (('wives', 'ADV'), ('wives', 'NOUN'))], [('wives', 'NOUN'), (('raced', 'ADV'), ('raced', 'VERB'))], [('Motor', 'NOUN'), (('Speedway', 'ADV'), ('Speedway', 'NOUN'))], [('*-1', 'X'), (('unimpeded', 'ADV'), ('unimpeded', 'ADJ'))], [('by', 'ADP'), (('traffic', 'ADV'), ('traffic', 'NOUN'))], [('or', 'CONJ'), (('red', 'NOUN'), ('red', 'ADJ'))], [('were', 'VERB'), (('garden-variety', 'ADV'), ('garden-variety', 'NOUN'))], [('low', 'ADJ'), (('lifes', 'ADV'), ('lifes', 'NOUN'))], [(',', '.'), (('Mercedes', 'ADV'), ('Mercedes', 'NOUN'))], [('expensive', 'ADJ'), (('clothes', 'ADV'), ('clothes', 'NOUN'))], [('paid', 'VERB'), (('for', 'ADP'), ('for', 'ADV'))], [('by', 'ADP'), (('Republican', 'ADJ'), ('Republican', 'NOUN'))], [('An', 'DET'), (('Egyptian', 'ADV'), ('Egyptian', 'ADJ'))], [('Egyptian', 'ADJ'), (('Pharaoh', 'ADV'), ('Pharaoh', 'NOUN'))], [('have', 'VERB'), (('justified', 'ADV'), ('justified', 'VERB'))], [('pyramids', 'NOUN'), (('any', 'DET'), ('any', 'ADV'))], [('any', 'ADV'), (('better', 'ADJ'), ('better', 'ADV'))], [('their', 'PRON'), (('biannual', 'ADV'), ('biannual', 'ADJ'))], [('biannual', 'ADJ'), (('powwow', 'ADV'), ('powwow', 'NOUN'))], [('manufacturing', 'VERB'), (('titans', 'ADV'), ('titans', 'NOUN'))], [('typically', 'ADV'), (('jet', 'NOUN'), ('jet', 'VERB'))], [('the', 'DET'), (('sunny', 'ADV'), ('sunny', 'ADJ'))], [('sunny', 'ADJ'), (('confines', 'ADV'), ('confines', 'NOUN'))], [('and', 'CONJ'), (('Hot', 'ADJ'), ('Hot', 'NOUN'))], [('other', 'ADJ'), (('new-car', 'ADV'), ('new-car', 'NOUN'))], [('those', 'DET'), (('that', 'ADP'), ('that', 'DET'))], [('Ford', 'NOUN'), (('Thunderbird', 'ADV'), ('Thunderbird', 'NOUN'))], [('Mercury', 'NOUN'), (('Cougar', 'ADV'), ('Cougar', 'NOUN'))], [('not', 'ADV'), (('unethical', 'ADV'), ('unethical', 'ADJ'))], [('a', 'DET'), (('higher-salaried', 'ADV'), ('higher-salaried', 'ADJ'))], [('.', '.'), (('Pan', 'ADV'), ('Pan', 'NOUN'))], [('Pan', 'NOUN'), (('Am', 'ADV'), ('Am', 'VERB'))], [('has', 'VERB'), (('subpoenaed', 'ADV'), ('subpoenaed', 'VERB'))], [('the', 'DET'), (('CIA', 'ADV'), ('CIA', 'NOUN'))], [('and', 'CONJ'), (('FBI', 'ADV'), ('FBI', 'NOUN'))], [('a', 'DET'), (('bomb', 'ADV'), ('bomb', 'NOUN'))], [('been', 'VERB'), (('planted', 'ADV'), ('planted', 'VERB'))], [('*-2', 'X'), (('aboard', 'ADV'), ('aboard', 'ADP'))], [('jet', 'NOUN'), (('that', 'ADP'), ('that', 'DET'))], [('*T*-3', 'X'), (('exploded', 'ADV'), ('exploded', 'VERB'))], [('over', 'ADP'), (('Scotland', 'ADV'), ('Scotland', 'NOUN'))], [('$', '.'), (('2.875', 'ADV'), ('2.875', 'NUM'))], [('the', 'DET'), (('resumption', 'ADV'), ('resumption', 'NOUN'))], [('space', 'NOUN'), (('shuttle', 'ADV'), ('shuttle', 'NOUN'))], [('for', 'ADP'), (('expendable', 'ADV'), ('expendable', 'ADJ'))], [('expendable', 'ADJ'), (('launch-vehicle', 'ADV'), ('launch-vehicle', 'NOUN'))], [('launch-vehicle', 'NOUN'), (('engines', 'ADV'), ('engines', 'NOUN'))], [('personally', 'ADV'), (('direct', 'ADJ'), ('direct', 'VERB'))], [('*-1', 'X'), (('assisted', 'ADV'), ('assisted', 'VERB'))], [('by', 'ADP'), (('Manfred', 'ADV'), ('Manfred', 'NOUN'))], [('Manfred', 'NOUN'), (('Gingl', 'ADV'), ('Gingl', 'NOUN'))], [('and', 'CONJ'), (('restructuring', 'NOUN'), ('restructuring', 'VERB'))], [('included', 'VERB'), (('Woolworth', 'ADV'), ('Woolworth', 'NOUN'))], [('Avon', 'NOUN'), (('Products', 'ADV'), ('Products', 'NOUN'))], [(';', '.'), (('Paramount', 'ADV'), ('Paramount', 'NOUN'))], [('and', 'CONJ'), (('Ferro', 'ADV'), ('Ferro', 'NOUN'))], [('One', 'NUM'), (('official', 'NOUN'), ('official', 'ADJ'))], [(',', '.'), (('Legal', 'ADV'), ('Legal', 'NOUN'))], [('who', 'PRON'), (('*T*-240', 'ADV'), ('*T*-240', 'X'))], [('bill', 'NOUN'), (('draws', 'ADV'), ('draws', 'VERB'))], [('California', 'NOUN'), (('airplane', 'ADV'), ('airplane', 'NOUN'))], [('but', 'CONJ'), (('intriguing', 'ADV'), ('intriguing', 'ADJ'))], [('experts', 'NOUN'), (('question', 'NOUN'), ('question', 'VERB'))], [('has', 'VERB'), (('promised', 'ADV'), ('promised', 'VERB'))], [('promised', 'VERB'), (('stiffer', 'ADV'), ('stiffer', 'ADJ'))], [('probably', 'ADV'), (('worth', 'ADJ'), ('worth', 'ADP'))], [('funds', 'NOUN'), (('that', 'ADP'), ('that', 'DET'))], [('markets', 'NOUN'), (('that', 'ADP'), ('that', 'DET'))], [('various', 'ADJ'), (('swaps', 'ADV'), ('swaps', 'NOUN'))], [('the', 'DET'), (('emotions', 'ADV'), ('emotions', 'NOUN'))], [('the', 'DET'), (('American', 'NOUN'), ('American', 'ADJ'))], [(',', '.'), (('Taizo', 'ADV'), ('Taizo', 'NOUN'))], [('Taizo', 'NOUN'), (('Watanabe', 'ADV'), ('Watanabe', 'NOUN'))], [('U.S.', 'NOUN'), (('Assistant', 'ADV'), ('Assistant', 'NOUN'))], [('David', 'NOUN'), (('Mulford', 'ADV'), ('Mulford', 'NOUN'))], [('to', 'PRT'), (('phase', 'ADV'), ('phase', 'VERB'))], [('phase', 'VERB'), (('out', 'ADP'), ('out', 'PRT'))], [('make', 'VERB'), (('appropriate', 'ADV'), ('appropriate', 'ADJ'))], [('Gulf', 'NOUN'), (('restructure', 'VERB'), ('restructure', 'NOUN'))], [('transaction', 'NOUN'), (('that', 'ADP'), ('that', 'DET'))], [('that', 'DET'), (('*T*-179', 'ADV'), ('*T*-179', 'X'))], [('.', '.'), (('First', 'NOUN'), ('First', 'ADJ'))], [('of', 'ADP'), (('prepayment', 'ADV'), ('prepayment', 'NOUN'))], [('rates', 'NOUN'), (('decline', 'NOUN'), ('decline', 'VERB'))], [('such', 'ADJ'), (('prepayment', 'ADV'), ('prepayment', 'NOUN'))], [('to', 'PRT'), (('redeploy', 'ADV'), ('redeploy', 'VERB'))], [('was', 'VERB'), (('singled', 'ADV'), ('singled', 'VERB'))], [('singled', 'VERB'), (('out', 'ADP'), ('out', 'PRT'))], [('its', 'PRON'), (('operating', 'VERB'), ('operating', 'NOUN'))], [('jump', 'VERB'), (('79', 'ADV'), ('79', 'NUM'))], [('$', '.'), (('42.1', 'ADV'), ('42.1', 'NUM'))], [('Ohio', 'NOUN'), (('Mattress', 'ADV'), ('Mattress', 'NOUN'))], [('the', 'DET'), (('bedding', 'ADV'), ('bedding', 'NOUN'))], [('and', 'CONJ'), (('train', 'NOUN'), ('train', 'VERB'))], [('a', 'DET'), (('pre-approved', 'ADV'), ('pre-approved', 'ADJ'))], [('loan', 'NOUN'), (('up', 'PRT'), ('up', 'ADP'))], [('throws', 'VERB'), (('in', 'ADP'), ('in', 'PRT'))], [('*', 'X'), (('saving', 'ADV'), ('saving', 'VERB'))], [('called', 'VERB'), (('in', 'ADP'), ('in', 'PRT'))], [('to', 'PRT'), (('arrest', 'ADV'), ('arrest', 'VERB'))], [('were', 'VERB'), (('occupying', 'ADV'), ('occupying', 'VERB'))], [('.', '.'), (('So', 'ADV'), ('So', 'ADP'))], [('Susan', 'NOUN'), (('Del', 'ADV'), ('Del', 'NOUN'))], [('Del', 'NOUN'), (('Signore', 'ADV'), ('Signore', 'NOUN'))], [('-RCB-', '.'), (('speculator', 'ADV'), ('speculator', 'NOUN'))], [('it', 'PRON'), (('up', 'ADV'), ('up', 'ADP'))], [('funded', 'VERB'), (('tissue-transplant', 'ADV'), ('tissue-transplant', 'ADJ'))], [('research', 'NOUN'), (('that', 'ADP'), ('that', 'DET'))], [('that', 'DET'), (('*T*-111', 'ADV'), ('*T*-111', 'X'))], [('them', 'PRON'), (('fearful', 'ADV'), ('fearful', 'ADJ'))], [('economic', 'ADJ'), (('hegemony', 'ADV'), ('hegemony', 'NOUN'))], [('has', 'VERB'), (('looked', 'ADV'), ('looked', 'VERB'))], [('private', 'ADJ'), (('Dodger', 'ADV'), ('Dodger', 'NOUN'))], [('brought', 'VERB'), (('more', 'ADV'), ('more', 'ADJ'))], [('took', 'VERB'), (('out', 'PRT'), ('out', 'ADP'))], [('company', 'NOUN'), (('acknowledges', 'ADV'), ('acknowledges', 'VERB'))], [(',', '.'), (('most', 'ADV'), ('most', 'ADJ'))], [('the', 'DET'), (('Disputado', 'ADV'), ('Disputado', 'NOUN'))], [('contract', 'NOUN'), (('that', 'ADP'), ('that', 'DET'))], [('*-25', 'X'), (('Regarded', 'ADV'), ('Regarded', 'VERB'))], [('$', '.'), (('3.55', 'ADV'), ('3.55', 'NUM'))], [('$', '.'), (('1.4', 'ADV'), ('1.4', 'NUM'))], [('average', 'ADJ'), (('8.19', 'ADV'), ('8.19', 'NUM'))], [('from', 'ADP'), (('8.22', 'ADV'), ('8.22', 'NUM'))], [('compound', 'NOUN'), (('yield', 'VERB'), ('yield', 'NOUN'))], [('average', 'ADJ'), (('8.53', 'ADV'), ('8.53', 'NUM'))], [('from', 'ADP'), (('8.56', 'ADV'), ('8.56', 'NUM'))], [('*U*', 'X'), (('return', 'VERB'), ('return', 'NOUN'))], [('``', '.'), (('ai', 'ADV'), ('ai', 'VERB'))], [('debt', 'NOUN'), (('swaps', 'ADV'), ('swaps', 'NOUN'))], [('and', 'CONJ'), (('Nissho-Iwai', 'ADV'), ('Nissho-Iwai', 'NOUN'))], [('which', 'DET'), (('*T*-193', 'ADV'), ('*T*-193', 'X'))], [('U.S.', 'NOUN'), (('counterpart', 'ADV'), ('counterpart', 'NOUN'))], [('divisions', 'NOUN'), (('that', 'ADP'), ('that', 'DET'))], [(\"n't\", 'ADV'), (('wish', 'VERB'), ('wish', 'NOUN'))], [('the', 'DET'), (('Currently', 'NOUN'), ('Currently', 'ADV'))], [('government', 'NOUN'), (('charges', 'NOUN'), ('charges', 'VERB'))], [('while', 'ADP'), (('upward', 'ADV'), ('upward', 'ADJ'))], [('.', '.'), (('Arbitrage-related', 'ADV'), ('Arbitrage-related', 'ADJ'))], [('Arbitrage-related', 'ADJ'), (('trading', 'VERB'), ('trading', 'NOUN'))], [('the', 'DET'), (('close', 'ADJ'), ('close', 'NOUN'))], [('he', 'PRON'), (('spoke', 'ADV'), ('spoke', 'VERB'))], [('at', 'ADP'), (('length', 'ADV'), ('length', 'NOUN'))], [('nowhere', 'ADV'), (('near', 'ADP'), ('near', 'ADJ'))], [('strains', 'NOUN'), (('that', 'ADP'), ('that', 'DET'))], [('that', 'DET'), (('*T*-239', 'ADV'), ('*T*-239', 'X'))], [('recently', 'ADV'), (('afflicted', 'ADV'), ('afflicted', 'VERB'))], [('the', 'DET'), (('Sino-U.S.', 'ADJ'), ('Sino-U.S.', 'NOUN'))], [('ended', 'VERB'), (('Sept.30', 'ADV'), ('Sept.30', 'NUM'))], [('earned', 'VERB'), (('16.68', 'ADV'), ('16.68', 'NUM'))], [('US$', '.'), (('116.7', 'ADV'), ('116.7', 'NUM'))], [('from', 'ADP'), (('12.68', 'ADV'), ('12.68', 'NUM'))], [('Jones', 'NOUN'), (('Professional', 'ADJ'), ('Professional', 'NOUN'))], [('those', 'DET'), (('outside', 'ADJ'), ('outside', 'ADP'))], [('who', 'PRON'), (('*T*-159', 'ADV'), ('*T*-159', 'X'))], [('Younkers', 'NOUN'), (('rang', 'ADV'), ('rang', 'VERB'))], [('rang', 'VERB'), (('up', 'ADV'), ('up', 'PRT'))], [('$', '.'), (('313', 'ADV'), ('313', 'NUM'))], [('income', 'NOUN'), (('confirms', 'ADV'), ('confirms', 'VERB'))], [(\"'s\", 'PRT'), (('rebound', 'VERB'), ('rebound', 'NOUN'))], [('agricultural', 'ADJ'), (('depression', 'ADV'), ('depression', 'NOUN'))], [('early', 'ADJ'), (('1980s', 'NOUN'), ('1980s', 'NUM'))], [('the', 'DET'), (('public', 'ADJ'), ('public', 'NOUN'))], [('which', 'DET'), (('there', 'ADV'), ('there', 'DET'))], [('economic', 'ADJ'), (('slowdowns', 'ADV'), ('slowdowns', 'NOUN'))], [('--', '.'), (('the', 'DET'), ('the', 'ADJ'))], [('--', '.'), (('the', 'DET'), ('the', 'ADJ'))], [('Thomas', 'NOUN'), (('Doerflinger', 'ADV'), ('Doerflinger', 'NOUN'))], [('the', 'DET'), (('past', 'ADJ'), ('past', 'NOUN'))], [('almost', 'ADV'), (('over', 'ADP'), ('over', 'ADJ'))], [('due', 'ADJ'), (('1998', 'ADV'), ('1998', 'NUM'))], [('at', 'ADP'), (('95.09', 'ADV'), ('95.09', 'NUM'))], [('yield', 'VERB'), (('5.435', 'ADV'), ('5.435', 'NUM'))], [('200', 'NUM'), (('sponsors', 'ADV'), ('sponsors', 'NOUN'))], [('the', 'DET'), (('homeless', 'ADJ'), ('homeless', 'NOUN'))], [('you', 'PRON'), (('chose', 'ADV'), ('chose', 'VERB'))], [('of', 'ADP'), (('Home', 'ADV'), ('Home', 'NOUN'))], [('Home', 'NOUN'), (('Builders', 'ADV'), ('Builders', 'NOUN'))], [('of', 'ADP'), (('Bricklayers', 'ADV'), ('Bricklayers', 'NOUN'))], [('Allied', 'NOUN'), (('Craftsmen', 'ADV'), ('Craftsmen', 'NOUN'))], [('*-1', 'X'), (('insinuating', 'ADV'), ('insinuating', 'VERB'))], [('from', 'ADP'), (('self-serving', 'ADV'), ('self-serving', 'ADJ'))], [('groups', 'NOUN'), (('that', 'ADP'), ('that', 'DET'))], [('and', 'CONJ'), (('that', 'DET'), ('that', 'ADP'))], [('the', 'DET'), (('crusade', 'ADV'), ('crusade', 'NOUN'))], [('out', 'PRT'), (('that', 'DET'), ('that', 'ADP'))], [('may', 'VERB'), (('predispose', 'ADV'), ('predispose', 'VERB'))], [('a', 'DET'), (('consequence', 'ADV'), ('consequence', 'NOUN'))], [('is', 'VERB'), (('composed', 'ADV'), ('composed', 'VERB'))], [('lacks', 'VERB'), (('adequate', 'ADV'), ('adequate', 'ADJ'))], [('adequate', 'ADJ'), (('shelter', 'ADV'), ('shelter', 'NOUN'))], [('of', 'ADP'), (('Mount', 'ADV'), ('Mount', 'NOUN'))], [('Mount', 'NOUN'), (('Clemens', 'ADV'), ('Clemens', 'NOUN'))], [('the', 'DET'), (('Equal', 'ADV'), ('Equal', 'NOUN'))], [('Equal', 'NOUN'), (('Employment', 'ADV'), ('Employment', 'NOUN'))], [('Employment', 'NOUN'), (('Opportunity', 'ADV'), ('Opportunity', 'NOUN'))], [('totaled', 'VERB'), (('11,390,000', 'ADV'), ('11,390,000', 'NUM'))], [('The', 'DET'), (('loudest', 'ADV'), ('loudest', 'ADJ'))], [('*T*-77', 'X'), (('cater', 'ADV'), ('cater', 'VERB'))], [('a', 'DET'), (('first-rate', 'ADV'), ('first-rate', 'ADJ'))], [('The', 'DET'), (('official', 'NOUN'), ('official', 'ADJ'))], [('agency', 'NOUN'), (('PAP', 'ADV'), ('PAP', 'NOUN'))], [('What', 'PRON'), (('*T*-164', 'ADV'), ('*T*-164', 'X'))], [('*T*-164', 'X'), ((\"'s\", 'PRT'), (\"'s\", 'VERB'))], [('is', 'VERB'), (('happening', 'ADV'), ('happening', 'VERB'))], [('and', 'CONJ'), (('257', 'ADV'), ('257', 'NUM'))], [(\"'s\", 'PRT'), (('school-improvement', 'ADV'), ('school-improvement', 'ADJ'))], [('made', 'VERB'), (('up', 'ADV'), ('up', 'PRT'))], [('and', 'CONJ'), (('that', 'DET'), ('that', 'ADP'))], [('that', 'ADP'), (('only', 'ADJ'), ('only', 'ADV'))], [('the', 'DET'), (('homeless', 'ADJ'), ('homeless', 'NOUN'))], [('homeless', 'NOUN'), (('exhibits', 'ADV'), ('exhibits', 'VERB'))], [('``', '.'), (('oversight', 'ADV'), ('oversight', 'NOUN'))], [('Stephen', 'NOUN'), (('Akerfeldt', 'ADV'), ('Akerfeldt', 'NOUN'))], [('the', 'DET'), (('bitterness', 'ADV'), ('bitterness', 'NOUN'))], [('and', 'CONJ'), (('anger', 'ADV'), ('anger', 'NOUN'))], [('a', 'DET'), (('betrayer', 'ADV'), ('betrayer', 'NOUN'))], [('who', 'PRON'), (('*T*-82', 'ADV'), ('*T*-82', 'X'))], [('who', 'PRON'), (('*T*-83', 'ADV'), ('*T*-83', 'X'))], [('of', 'ADP'), (('school-district', 'ADV'), ('school-district', 'NOUN'))], [('officials', 'NOUN'), (('stunned', 'ADV'), ('stunned', 'ADJ'))], [('the', 'DET'), (('bald-faced', 'ADV'), ('bald-faced', 'ADJ'))], [('local', 'ADJ'), (('martyr', 'ADV'), ('martyr', 'NOUN'))], [('.', '.'), (('Traditional', 'ADV'), ('Traditional', 'ADJ'))], [('managers', 'NOUN'), (('like', 'ADP'), ('like', 'VERB'))], [('to', 'PRT'), (('charge', 'NOUN'), ('charge', 'VERB'))], [('they', 'PRON'), (('manage', 'ADV'), ('manage', 'VERB'))], [('would', 'VERB'), (('trail', 'ADV'), ('trail', 'VERB'))], [('the', 'DET'), (('heavy-truck', 'ADV'), ('heavy-truck', 'NOUN'))], [('and', 'CONJ'), (('passenger-car', 'ADV'), ('passenger-car', 'NOUN'))], [('the', 'DET'), (('schoolteacher', 'ADV'), ('schoolteacher', 'NOUN'))], [('their', 'PRON'), (('similarity', 'ADV'), ('similarity', 'NOUN'))], [(',', '.'), (('more', 'ADV'), ('more', 'ADJ'))], [('will', 'VERB'), (('worsen', 'ADV'), ('worsen', 'VERB'))], [('becomes', 'VERB'), (('custom', 'ADV'), ('custom', 'NOUN'))], [('to', 'PRT'), (('undo', 'ADV'), ('undo', 'VERB'))], [('.', '.'), (('Payments', 'ADV'), ('Payments', 'NOUN'))], [('to', 'PRT'), (('range', 'NOUN'), ('range', 'VERB'))], [('annually', 'ADV'), (('total', 'ADJ'), ('total', 'VERB'))], [('$', '.'), (('38.3', 'ADV'), ('38.3', 'NUM'))], [('unusual', 'ADJ'), (('write-downs', 'ADV'), ('write-downs', 'NOUN'))], [('$', '.'), (('4.9', 'ADV'), ('4.9', 'NUM'))]]\n"
     ]
    }
   ],
   "source": [
    "#lets check the incorrect tags\n",
    "incorrect_tagged_cases = [[test_run_base[i-1],j] for i, j in enumerate(zip(tagged_seq, test_run_base)) if j[0]!=j[1]]\n",
    "print(incorrect_tagged_cases)"
   ]
  },
  {
   "cell_type": "code",
   "execution_count": 48,
   "metadata": {},
   "outputs": [
    {
     "name": "stdout",
     "output_type": "stream",
     "text": [
      "515\n"
     ]
    }
   ],
   "source": [
    "#get the length of incorrect tags\n",
    "print(len(incorrect_tagged_cases))"
   ]
  },
  {
   "cell_type": "markdown",
   "metadata": {},
   "source": [
    "#### Find those words present in train set but not in test set"
   ]
  },
  {
   "cell_type": "code",
   "execution_count": 54,
   "metadata": {},
   "outputs": [
    {
     "name": "stdout",
     "output_type": "stream",
     "text": [
      "Total Unknown words : 366\n",
      "Unknown Words : ['upward', '8.56', 'Egyptian', 'appropriate', '*-113', 'Boorse', 'shuttle', 'spectrum', 'Bonnell', 'Mo', 'Doak', 'Review', 'heebie-jeebies', 'Employment', 'Woolworth', 'Assistant', 'bulls', 'Si', 'draws', 'secede', '*T*-139', 'near-limit', 'Chardonnay', 'Nissho-Iwai', 'federally', 'pre-approved', 'seduce', 'Scotland', 'small-time', '*T*-239', 'crusade', 'Reddington', 'Home', 'Pharaoh', 'depression', 'undo', 'roadblock', 'length', 'defined', 'cleanliness', 'bitterness', 'Watanabe', 'unimpeded', 'proscribes', 'viewing', 'PAP', 'Clemens', 'denominator', 'Legal', 'leapt', 'breaking', 'arrangements', 'Sept.30', 'lore', 'rang', 'acknowledges', 'adequate', 'Opportunity', '1.4', 'aboard', 'Arlington', 'Bricklayers', '38.3', 'Gingl', 'screwed', 'Mattress', 'consequence', 'sunny', 'Carbide', 'Cougar', 'bloods', 'Certainly', 'swaps', 'Anderson', 'Mercedes', 'printing-press', 'betrayer', 'phobias', '94.2', 'contest', 'Trailer', '0.50', 'intriguing', 'bankruptcy-law', 'subpoenaed', 'airplane', '1995', '14.00', 'Signore', 'Tassinari', 'longtime', 'Instruments', 'unjust', 'espouse', 'Craftsmen', 'saving', 'peaceful', 'clothes', 'risk-free', 'unrealistically', 'Adams', 'higher-salaried', 'nonetheless', 'rout', 'offend', 'charm', '313', 'happy', 'emotions', 'first-rate', 'expendable', 'cater', 'ministry', 'evolved', '11.10', 'ai', 'Equal', '11,390,000', 'Regal', 'substitute', 'Chafic', 'rusted', 'raced', 'fearful', '1998', 'paycheck', 'hegemony', 'absurd', 'expenditures', 'custom', 'Grgich', 'delivering', 'phase', 'Del', 'Builders', '*T*-83', '*T*-111', 'Jon', 'traffic', '*-164', '116.7', 'congressman', 'triple-C', 'self-serving', 'spook', 'planted', 'Chardonnays', 'stirrings', 'Ratner', 'FBI', 'Strother', 'researching', '8.53', 'escort', 'emergencies', 'sometimes-tawdry', 'winner', '4.9', '*T*-240', 'Akerfeldt', 'Takashima', '@', 'socialist', 'route', 'inoperative', 'prospectively', 'striving', 'swim', 'worsen', 'Derel', 'unsympathetic', 'elementary', '1996', 'engines', 'fluctuations', 'implicit', 'bald-faced', 'inform', 'vendors', 'buttoned-down', 'Chiodo', 'neighbors', 'Killeen', '*T*-193', 'Unemployment', 'manage', 'dawn', 'analyze', 'unresolved', 'purrs', 'nutrition', '*T*-164', 'Muramatsu', 'happening', 'Mulford', 'chose', 'necessities', 'Propaganda', 'Dodger', 'heavy-truck', 'similarity', 'write-downs', 'TIRED', 'Pan', 'proof', 'counterpart', 'powwow', 'Guber', 'loudest', 'afflicted', 'Arbitrage-related', 'titans', 'Already', 'biannual', 'Drobnick', 'Vice', '3.55', 'remarkable', 'Mount', 'new-car', 'school-improvement', '79', 'capitalist', '38.875', 'Angier', '*T*-159', 'interior', 'stiffer', 'Atsushi', 'Sherwin', 'Regarded', '*T*-234', 'depressions', 'lender', 'platforms', 'Cotran', 'crashes', 'vitally', 'singled', 'resumption', '9\\\\/32', 'martyr', 'outdistanced', 'CIA', 'landowners', 'rollover', 'Camille', 'native', 'prepayment', 'Schweiz', 'indictment', 'reasonably', 'Suisse', 'Doerflinger', 'outlawing', '*-82', 'lifes', 'exhibits', '50-state', '8.19', 'darned', 'railcar', 'Products', 'justified', 'oversight', 'Train', '83', 'schoolteacher', '*T*-82', '2.875', 'recognizing', '16.68', 'trail', 'Disputado', 'passenger-car', '*T*-179', 'manipulate', 'Paramount', 'speculator', 'bedding', 'Stirlen', 'busloads', '42.1', '103', 'Horsham', 'Pennview', 'insinuating', 'difficulties', '59-year-old', 'virtues', 'percent', '12.68', 'queuing', 'school-research', 'redeploy', 'assisted', 'unleashed', \"O'Connor\", 'looked', '214', 'Traditional', 'Chivas', 'confirms', 'wives', 'morbidity', '35.2', 'occupying', 'Peters', 'launch-vehicle', 'double-C', 'ex-dividend', 'Manfred', 'reprove', 'Speedway', 'serves', 'garden-variety', '87.5', 'confines', 'proponent', 'promised', 'high-volume', 'universities', '5.435', 'unethical', 'composed', 'permissible', 'Payments', 'conduit', 'drums', '95.09', 'experienced', '5.6', 'personally', 'Light', 'slowdowns', 'school-district', 'bomb', 'Shores', '38.375', '1966', 'Ferro', 'abridging', 'fabled', 'tie-breaking', 'anger', 'predispose', 'Shrum', 'shelter', 'annoyed', 'implemented', 'decorator', 'exploded', 'Lonski', 'tissue-transplant', 'TRIMMING', 'Thunderbird', 'Am', 'spoke', 'curbing', 'Taizo', '257', 'stunned', '8.22', 'sponsors', 'eight-count', 'arrest']\n"
     ]
    }
   ],
   "source": [
    "#unknown words\n",
    "test_vocabulary_set = set([t for t in test_tagged_words])\n",
    "\n",
    "unknown_words = list(test_vocabulary_set - training_vocabulary_set)\n",
    "print(\"Total Unknown words :\", len(unknown_words))\n",
    "print(\"Unknown Words :\", unknown_words)"
   ]
  },
  {
   "cell_type": "markdown",
   "metadata": {},
   "source": [
    "## Method 1-  To solve the problem of unknown words\n",
    "The default Vanilla viterbi algorithm achieved an accuracy of about 90.7%. This approx. 9% loss of accuracy was majorly due to the fact that when the algorithm encountered an unknown word (i.e. not present in the training set, such as 'Twitter'), it assigned an incorrect tag arbitrarily. This is because, for unknown words, the emission probabilities for all candidate tags are 0, so the algorithm arbitrarily chooses (the first) tag.\n",
    "\n",
    "Now lets see how we can minimize this loss by modifying the vanilla viterbi.\n",
    "\n",
    "If a word is not present in the training vocabulary (unknown word), its emission probability will be ZERO. In that case the state probability will inturn be zero. Thus in cases where the algorithm encounters a word which it has not see previously, we can omit the emission probability and only consider the transition probability.\n",
    "\n",
    "The algorithm can be modified to deal the case as below -\n",
    "\n",
    "#### If word in unknown then\n",
    "\n",
    "#### consider only the transition_p (emission probability being 0)\n",
    "\n",
    "#### else\n",
    "\n",
    "##### consider both the emission and transition probability."
   ]
  },
  {
   "cell_type": "code",
   "execution_count": 55,
   "metadata": {},
   "outputs": [],
   "source": [
    "# Modified Viterbi Heuristic\n",
    "def Modified_Vanilla_Viterbi_for_Unknown_Words(words, train_bag = train_tagged_words):\n",
    "    state = []\n",
    "    T = list(set([pair[1] for pair in train_bag]))\n",
    "    \n",
    "    for key, word in enumerate(words):\n",
    "        #initialise list of probability column for a given observation\n",
    "        p = [] \n",
    "        for tag in T:\n",
    "            if key == 0:\n",
    "                transition_p = tags_df.loc['.', tag]\n",
    "            else:\n",
    "                transition_p = tags_df.loc[state[-1], tag]\n",
    "                \n",
    "            # compute emission and state probabilities\n",
    "            emission_p = word_given_tag(words[key], tag)[0]/word_given_tag(words[key], tag)[1]\n",
    "            \n",
    "            # modification to the original vanilla viterbi algorithm \n",
    "            # to consider unknown words\n",
    "            if word not in training_vocabulary_set:\n",
    "                state_probability = transition_p\n",
    "            else:\n",
    "                state_probability = emission_p * transition_p\n",
    "                \n",
    "            p.append(state_probability)\n",
    "            \n",
    "        pmax = max(p)\n",
    "        # getting state for which probability is maximum\n",
    "        state_max = T[p.index(pmax)] \n",
    "        state.append(state_max)\n",
    "    return list(zip(words, state))"
   ]
  },
  {
   "cell_type": "code",
   "execution_count": 56,
   "metadata": {},
   "outputs": [
    {
     "name": "stdout",
     "output_type": "stream",
     "text": [
      "The accuracy of the Vanilla Viterbi Algorithm after modification to handle unknown words is - 0.9369930201848707\n"
     ]
    }
   ],
   "source": [
    "# tagging the test sentences\n",
    "unknown_word_tagged_seq = Modified_Vanilla_Viterbi_for_Unknown_Words(test_tagged_words)\n",
    "\n",
    "# accuracy\n",
    "unknown_word_check = [i for i, j in zip(unknown_word_tagged_seq, test_run_base) if i == j]\n",
    "\n",
    "optimized_viterbi_accuracy = len(unknown_word_check)/len(unknown_word_tagged_seq)\n",
    "\n",
    "print(\"The accuracy of the Vanilla Viterbi Algorithm after modification to handle unknown words is -\", optimized_viterbi_accuracy)"
   ]
  },
  {
   "cell_type": "markdown",
   "metadata": {},
   "source": [
    "___Modified Viterbi performed better i.e. ~94% than the original viterbi.___\n",
    "\n",
    "Check further we can imporve it or not\n",
    "\n"
   ]
  },
  {
   "cell_type": "markdown",
   "metadata": {},
   "source": [
    "### Use Lexicon and Rule-Based Model for Pos Tagging"
   ]
  },
  {
   "cell_type": "markdown",
   "metadata": {},
   "source": [
    "#### Unigram tagger"
   ]
  },
  {
   "cell_type": "code",
   "execution_count": 58,
   "metadata": {},
   "outputs": [
    {
     "name": "stdout",
     "output_type": "stream",
     "text": [
      "The accuracy of the Unigram Tagger is - 0.8983210714959442\n"
     ]
    }
   ],
   "source": [
    "# Unigram Tagger\n",
    "\n",
    "unigram_tagger = nltk.UnigramTagger(train_set)\n",
    "unigram_tagger_accuracy = unigram_tagger.evaluate(test_set)\n",
    "print(\"The accuracy of the Unigram Tagger is -\", unigram_tagger_accuracy)"
   ]
  },
  {
   "cell_type": "markdown",
   "metadata": {},
   "source": [
    "#### Unigram tagger + Rule based Regax tagger"
   ]
  },
  {
   "cell_type": "code",
   "execution_count": 59,
   "metadata": {},
   "outputs": [],
   "source": [
    "# patterns for tagging using a rule based regex tagger -\n",
    "\n",
    "patterns = [\n",
    "    (r'^[aA-zZ].*[0-9]+','NOUN'),  # Alpha Numeric\n",
    "    (r'.*ness$', 'NOUN'),\n",
    "    (r'.*\\'s$', 'NOUN'),              # possessive nouns\n",
    "    (r'.*s$', 'NOUN'),                # plural nouns\n",
    "    (r'.*', 'NOUN'),    \n",
    "    (r'.*ly$', 'ADV'),\n",
    "    (r'^(0|([*|-|$].*))','X'), # Any special character combination\n",
    "    (r'.*ould$', 'X'), # modals\n",
    "    (r'(The|the|A|a|An|an)$', 'DET'),\n",
    "    (r'^([0-9]|[aA-zZ])+\\-[aA-zZ]*$','ADJ'),\n",
    "    (r'.*able$', 'ADJ'), # adjective like 100-megabytes 237-Seats\n",
    "    (r'[aA-zZ]+(ed|ing|es)$', 'VERB'), # Any word ending with 'ing' or 'ed' is a verb\n",
    "    (r'[0-9].?[,\\/]?[0-9]*','NUM')# Numbers \n",
    "    ]"
   ]
  },
  {
   "cell_type": "code",
   "execution_count": 60,
   "metadata": {},
   "outputs": [
    {
     "name": "stdout",
     "output_type": "stream",
     "text": [
      "The accuracy of the Unigram Tagger with the RegexpTagger is - 0.933786078098472\n"
     ]
    }
   ],
   "source": [
    "# rule based RegexpTagger\n",
    "\n",
    "rule_based_tagger = nltk.RegexpTagger(patterns)\n",
    "\n",
    "# unigram tagger backed up by the rule-based tagger\n",
    "rule_based_unigram_tagger = nltk.UnigramTagger(train_set, backoff = rule_based_tagger)\n",
    "\n",
    "accuracy_rule_based_unigram_tagger = rule_based_unigram_tagger.evaluate(test_set)\n",
    "\n",
    "print(\"The accuracy of the Unigram Tagger with the RegexpTagger is -\", accuracy_rule_based_unigram_tagger)"
   ]
  },
  {
   "cell_type": "code",
   "execution_count": 61,
   "metadata": {},
   "outputs": [
    {
     "name": "stdout",
     "output_type": "stream",
     "text": [
      "The accuracy of the Bigram Tagger with the rule_based_unigram_tagger is - 0.9400113186191285\n"
     ]
    }
   ],
   "source": [
    "# Bigram tagger\n",
    "\n",
    "bigram_tagger = nltk.BigramTagger(train_set, backoff = rule_based_unigram_tagger)\n",
    "bigram_tagger.evaluate(test_set)\n",
    "accuracy_bigram_tagger = bigram_tagger.evaluate(test_set)\n",
    "print(\"The accuracy of the Bigram Tagger with the rule_based_unigram_tagger is -\", accuracy_bigram_tagger)"
   ]
  },
  {
   "cell_type": "code",
   "execution_count": 62,
   "metadata": {},
   "outputs": [
    {
     "name": "stdout",
     "output_type": "stream",
     "text": [
      "The accuracy of the Trigram Tagger backed up by the bigram_tagger is - 0.9388794567062818\n"
     ]
    }
   ],
   "source": [
    "# trigram tagger\n",
    "\n",
    "trigram_tagger = nltk.TrigramTagger(train_set, backoff = bigram_tagger)\n",
    "trigram_tagger.evaluate(test_set)\n",
    "accuracy_trigram_tagger = trigram_tagger.evaluate(test_set)\n",
    "print(\"The accuracy of the Trigram Tagger backed up by the bigram_tagger is -\", accuracy_trigram_tagger)"
   ]
  },
  {
   "cell_type": "markdown",
   "metadata": {},
   "source": [
    "## Method 2 - To solve the problem of unknown words \n",
    "\n",
    "Lets try Trigram tagger with Rule based tagger to modified accuracy"
   ]
  },
  {
   "cell_type": "code",
   "execution_count": 63,
   "metadata": {},
   "outputs": [],
   "source": [
    "# A trigram tagger backed off by a rule based tagger.\n",
    "\n",
    "def trigram_tagger_for_unknown_words(word, train_set = train_set):\n",
    "    \n",
    "    patterns = [\n",
    "    (r'[aA-zZ]+(ed|ing|es)$', 'VERB'), # Any word ending with 'ing' or 'ed' is a verb\n",
    "\n",
    "    (r'.*ly$', 'ADV'),\n",
    "        \n",
    "    (r'^([0-9]|[aA-zZ])+\\-[aA-zZ]*$','ADJ'),\n",
    "    (r'.*able$', 'ADJ'), \n",
    "    (r'.*ful$', 'ADJ'),\n",
    "    (r'.*ous$', 'ADJ'),\n",
    "        \n",
    "    (r'^[aA-zZ].*[0-9]+','NOUN'),     # Alpha Numeric\n",
    "    (r'.*ness$', 'NOUN'),\n",
    "    (r'.*\\'s$', 'NOUN'),              # possessive nouns - words ending with 's\n",
    "    (r'.*s$', 'NOUN'),                # plural nouns\n",
    "    (r'.*ers$', 'NOUN'),              # eg.- kinderganteners, autobioghapgers\n",
    "    (r'.*ment$', 'NOUN'),\n",
    "    (r'.*town$', 'NOUN'),\n",
    "        \n",
    "    (r'^(0|([*|-|$].*))','X'), # Any special character combination\n",
    "    (r'.*ould$', 'X'),\n",
    "        \n",
    "    (r'(The|the|A|a|An|an|That|that|This|this|Those|those|These|these)$', 'DET'), # That/this/these/those belong to the category of Demonstrative determiners\n",
    "    (r'[0-9].?[,\\/]?[0-9]*','NUM'), # Numbers \n",
    "        \n",
    "    (r'.*', 'NOUN')\n",
    "    ]\n",
    "\n",
    "    regex_based_tagger = nltk.RegexpTagger(patterns)\n",
    "\n",
    "    # trigram backed up by the regex tagger\n",
    "    trigram_regex_tagger = nltk.TrigramTagger(train_set, backoff = regex_based_tagger)\n",
    "    return trigram_regex_tagger.tag_sents([[(word)]])"
   ]
  },
  {
   "cell_type": "code",
   "execution_count": 64,
   "metadata": {},
   "outputs": [],
   "source": [
    "def viterbi_backedup_by_trigram_tagger(words, train_bag = train_tagged_words):\n",
    "    state = []\n",
    "    tag_set = list(set([pair[1] for pair in train_bag]))\n",
    "    \n",
    "    # use the trigram tagger backed up by the rule based tagger\n",
    "    # for unknown words.\n",
    "    for key, word in enumerate(words):\n",
    "        if word not in training_vocabulary_set:\n",
    "            unknown_word_tag = trigram_tagger_for_unknown_words(word)\n",
    "            for sent in unknown_word_tag:\n",
    "                for tup in sent:\n",
    "                    state.append(tup[1])\n",
    "        else:            \n",
    "            p = [] \n",
    "            for tag in tag_set:\n",
    "                if key == 0:\n",
    "                    transition_p = tags_df.loc['.', tag]\n",
    "                else:\n",
    "                    transition_p = tags_df.loc[state[-1], tag]\n",
    "                \n",
    "            # compute emission and state probabilities\n",
    "                emission_p = word_given_tag(words[key], tag)[0]/word_given_tag(words[key], tag)[1]\n",
    "                state_probability = emission_p * transition_p    \n",
    "                p.append(state_probability)\n",
    "            \n",
    "            pmax = max(p)\n",
    "            # getting state for which probability is maximum\n",
    "            state_max = tag_set[p.index(pmax)] \n",
    "            state.append(state_max)\n",
    "    return list(zip(words, state))"
   ]
  },
  {
   "cell_type": "markdown",
   "metadata": {},
   "source": [
    "### Tagging Accuracy for trigram + Rule Based Tagger"
   ]
  },
  {
   "cell_type": "code",
   "execution_count": 65,
   "metadata": {},
   "outputs": [
    {
     "name": "stdout",
     "output_type": "stream",
     "text": [
      "The accuracy of the viterbi_backedup_by_trigram_tagger is - 0.9541595925297114\n"
     ]
    }
   ],
   "source": [
    "\n",
    "# tagging the test sentences\n",
    "viterbi_trigram_tagged_seq = viterbi_backedup_by_trigram_tagger(test_tagged_words)\n",
    "\n",
    "# accuracy\n",
    "viterbi_trigram_word_check = [i for i, j in zip(viterbi_trigram_tagged_seq, test_run_base) if i == j]\n",
    "\n",
    "viterbi_trigram_accuracy = len(viterbi_trigram_word_check)/len(viterbi_trigram_tagged_seq)\n",
    "\n",
    "print(\"The accuracy of the viterbi_backedup_by_trigram_tagger is -\", viterbi_trigram_accuracy)"
   ]
  },
  {
   "cell_type": "markdown",
   "metadata": {},
   "source": [
    "### Compare the tagging accuracies of the modifications with the vanilla Viterbi algorithm"
   ]
  },
  {
   "cell_type": "markdown",
   "metadata": {},
   "source": [
    "### Check the ccurancy of Test Data set"
   ]
  },
  {
   "cell_type": "code",
   "execution_count": 67,
   "metadata": {},
   "outputs": [
    {
     "data": {
      "text/html": [
       "<div>\n",
       "<style scoped>\n",
       "    .dataframe tbody tr th:only-of-type {\n",
       "        vertical-align: middle;\n",
       "    }\n",
       "\n",
       "    .dataframe tbody tr th {\n",
       "        vertical-align: top;\n",
       "    }\n",
       "\n",
       "    .dataframe thead th {\n",
       "        text-align: right;\n",
       "    }\n",
       "</style>\n",
       "<table border=\"1\" class=\"dataframe\">\n",
       "  <thead>\n",
       "    <tr style=\"text-align: right;\">\n",
       "      <th></th>\n",
       "      <th>Tagging_Accuracy</th>\n",
       "    </tr>\n",
       "    <tr>\n",
       "      <th>Tagging_Algorithm</th>\n",
       "      <th></th>\n",
       "    </tr>\n",
       "  </thead>\n",
       "  <tbody>\n",
       "    <tr>\n",
       "      <th>Vanilla Viterbi</th>\n",
       "      <td>90.284852</td>\n",
       "    </tr>\n",
       "    <tr>\n",
       "      <th>Optimized Vanilla Viterbi</th>\n",
       "      <td>93.699302</td>\n",
       "    </tr>\n",
       "    <tr>\n",
       "      <th>Unigram Tagger</th>\n",
       "      <td>89.832107</td>\n",
       "    </tr>\n",
       "    <tr>\n",
       "      <th>Unigram + RegexpTagger</th>\n",
       "      <td>93.378608</td>\n",
       "    </tr>\n",
       "    <tr>\n",
       "      <th>Bigram Tagger + Unigram_tagger</th>\n",
       "      <td>94.001132</td>\n",
       "    </tr>\n",
       "    <tr>\n",
       "      <th>Trigram Tagger + Bigram_tagger</th>\n",
       "      <td>93.887946</td>\n",
       "    </tr>\n",
       "    <tr>\n",
       "      <th>Viterbi + Trigram_tagger</th>\n",
       "      <td>95.415959</td>\n",
       "    </tr>\n",
       "  </tbody>\n",
       "</table>\n",
       "</div>"
      ],
      "text/plain": [
       "                                Tagging_Accuracy\n",
       "Tagging_Algorithm                               \n",
       "Vanilla Viterbi                        90.284852\n",
       "Optimized Vanilla Viterbi              93.699302\n",
       "Unigram Tagger                         89.832107\n",
       "Unigram + RegexpTagger                 93.378608\n",
       "Bigram Tagger + Unigram_tagger         94.001132\n",
       "Trigram Tagger + Bigram_tagger         93.887946\n",
       "Viterbi + Trigram_tagger               95.415959"
      ]
     },
     "execution_count": 67,
     "metadata": {},
     "output_type": "execute_result"
    }
   ],
   "source": [
    "\n",
    "acccuracy_data = [['Vanilla Viterbi', accuracy*100], \n",
    "                  ['Optimized Vanilla Viterbi', optimized_viterbi_accuracy*100], \n",
    "                  ['Unigram Tagger', unigram_tagger_accuracy*100],\n",
    "                  ['Unigram + RegexpTagger', accuracy_rule_based_unigram_tagger*100],\n",
    "                  ['Bigram Tagger + Unigram_tagger', accuracy_bigram_tagger*100],\n",
    "                  ['Trigram Tagger + Bigram_tagger', accuracy_trigram_tagger*100],\n",
    "                  ['Viterbi + Trigram_tagger', viterbi_trigram_accuracy*100]]\n",
    "\n",
    "acccuracy_data_df = pd.DataFrame(acccuracy_data, columns = ['Tagging_Algorithm', 'Tagging_Accuracy'])\n",
    "\n",
    "acccuracy_data_df.set_index('Tagging_Algorithm', drop = True, inplace = True)\n",
    "\n",
    "acccuracy_data_df"
   ]
  },
  {
   "cell_type": "code",
   "execution_count": 68,
   "metadata": {},
   "outputs": [
    {
     "data": {
      "text/plain": [
       "<matplotlib.axes._subplots.AxesSubplot at 0xcb99208>"
      ]
     },
     "execution_count": 68,
     "metadata": {},
     "output_type": "execute_result"
    },
    {
     "data": {
      "image/png": "[encoded data removed]",
      "text/plain": [
       "<Figure size 432x288 with 1 Axes>"
      ]
     },
     "metadata": {
      "needs_background": "light"
     },
     "output_type": "display_data"
    }
   ],
   "source": [
    "acccuracy_data_df.plot.line(rot = 90, legend = False)"
   ]
  },
  {
   "cell_type": "markdown",
   "metadata": {},
   "source": [
    "### Check the accuracy on given Sample data"
   ]
  },
  {
   "cell_type": "code",
   "execution_count": 69,
   "metadata": {},
   "outputs": [],
   "source": [
    "# sample data from Test_sentences.txt\n",
    "sample_test_sentences = ['Android is a mobile operating system developed by Google.',\n",
    "\"Android has been the best-selling OS worldwide on smartphones since 2011 and on tablets since 2013.\",\n",
    "\"Google and Twitter made a deal in 2015 that gave Google access to Twitter's firehose.\",\n",
    "\"Twitter is an online news and social networking service on which users post and interact with messages known as tweets.\",\n",
    "\"Before entering politics, Donald Trump was a domineering businessman and a television personality.\",\n",
    "\"The 2018 FIFA World Cup is the 21st FIFA World Cup, an international football tournament contested once every four years.\",\n",
    "\"This is the first World Cup to be held in Eastern Europe and the 11th time that it has been held in Europe.\",\n",
    "\"Show me the cheapest round trips from Dallas to Atlanta\",\n",
    "\"I would like to see flights from Denver to Philadelphia.\",\n",
    "\"Show me the price of the flights leaving Atlanta at about 3 in the afternoon and arriving in San Francisco.\",\n",
    "\"NASA invited social media users to experience the launch of ICESAT-2 Satellite.\"]"
   ]
  },
  {
   "cell_type": "code",
   "execution_count": 72,
   "metadata": {},
   "outputs": [
    {
     "data": {
      "text/plain": [
       "[[('Android', 'NOUN'),\n",
       "  ('is', 'VERB'),\n",
       "  ('a', 'DET'),\n",
       "  ('mobile', 'ADJ'),\n",
       "  ('operating', 'NOUN'),\n",
       "  ('system', 'NOUN'),\n",
       "  ('developed', 'VERB'),\n",
       "  ('by', 'ADP'),\n",
       "  ('Google', 'NOUN'),\n",
       "  ('.', '.')],\n",
       " [('Android', 'NOUN'),\n",
       "  ('has', 'VERB'),\n",
       "  ('been', 'VERB'),\n",
       "  ('the', 'DET'),\n",
       "  ('best-selling', 'ADJ'),\n",
       "  ('OS', 'NOUN'),\n",
       "  ('worldwide', 'NOUN'),\n",
       "  ('on', 'ADP'),\n",
       "  ('smartphones', 'NOUN'),\n",
       "  ('since', 'ADP'),\n",
       "  ('2011', 'NUM'),\n",
       "  ('and', 'CONJ'),\n",
       "  ('on', 'ADP'),\n",
       "  ('tablets', 'NOUN'),\n",
       "  ('since', 'ADP'),\n",
       "  ('2013', 'NUM'),\n",
       "  ('.', '.')],\n",
       " [('Google', 'NOUN'),\n",
       "  ('and', 'CONJ'),\n",
       "  ('Twitter', 'NOUN'),\n",
       "  ('made', 'VERB'),\n",
       "  ('a', 'DET'),\n",
       "  ('deal', 'NOUN'),\n",
       "  ('in', 'ADP'),\n",
       "  ('2015', 'NUM'),\n",
       "  ('that', 'DET'),\n",
       "  ('gave', 'VERB'),\n",
       "  ('Google', 'NOUN'),\n",
       "  ('access', 'NOUN'),\n",
       "  ('to', 'PRT'),\n",
       "  ('Twitter', 'NOUN'),\n",
       "  (\"'s\", 'PRT'),\n",
       "  ('firehose', 'NOUN'),\n",
       "  ('.', '.')],\n",
       " [('Twitter', 'NOUN'),\n",
       "  ('is', 'VERB'),\n",
       "  ('an', 'DET'),\n",
       "  ('online', 'ADJ'),\n",
       "  ('news', 'NOUN'),\n",
       "  ('and', 'CONJ'),\n",
       "  ('social', 'ADJ'),\n",
       "  ('networking', 'NOUN'),\n",
       "  ('service', 'NOUN'),\n",
       "  ('on', 'ADP'),\n",
       "  ('which', 'DET'),\n",
       "  ('users', 'NOUN'),\n",
       "  ('post', 'NOUN'),\n",
       "  ('and', 'CONJ'),\n",
       "  ('interact', 'NOUN'),\n",
       "  ('with', 'ADP'),\n",
       "  ('messages', 'NOUN'),\n",
       "  ('known', 'VERB'),\n",
       "  ('as', 'ADP'),\n",
       "  ('tweets', 'NOUN'),\n",
       "  ('.', '.')],\n",
       " [('Before', 'ADP'),\n",
       "  ('entering', 'VERB'),\n",
       "  ('politics', 'NOUN'),\n",
       "  (',', '.'),\n",
       "  ('Donald', 'NOUN'),\n",
       "  ('Trump', 'NOUN'),\n",
       "  ('was', 'VERB'),\n",
       "  ('a', 'DET'),\n",
       "  ('domineering', 'ADJ'),\n",
       "  ('businessman', 'NOUN'),\n",
       "  ('and', 'CONJ'),\n",
       "  ('a', 'DET'),\n",
       "  ('television', 'NOUN'),\n",
       "  ('personality', 'NOUN'),\n",
       "  ('.', '.')],\n",
       " [('The', 'DET'),\n",
       "  ('2018', 'NUM'),\n",
       "  ('FIFA', 'NOUN'),\n",
       "  ('World', 'NOUN'),\n",
       "  ('Cup', 'NOUN'),\n",
       "  ('is', 'VERB'),\n",
       "  ('the', 'DET'),\n",
       "  ('21st', 'NUM'),\n",
       "  ('FIFA', 'NOUN'),\n",
       "  ('World', 'NOUN'),\n",
       "  ('Cup', 'NOUN'),\n",
       "  (',', '.'),\n",
       "  ('an', 'DET'),\n",
       "  ('international', 'ADJ'),\n",
       "  ('football', 'NOUN'),\n",
       "  ('tournament', 'NOUN'),\n",
       "  ('contested', 'VERB'),\n",
       "  ('once', 'ADV'),\n",
       "  ('every', 'DET'),\n",
       "  ('four', 'NUM'),\n",
       "  ('years', 'NOUN'),\n",
       "  ('.', '.')],\n",
       " [('This', 'DET'),\n",
       "  ('is', 'VERB'),\n",
       "  ('the', 'DET'),\n",
       "  ('first', 'ADJ'),\n",
       "  ('World', 'NOUN'),\n",
       "  ('Cup', 'NOUN'),\n",
       "  ('to', 'PRT'),\n",
       "  ('be', 'VERB'),\n",
       "  ('held', 'VERB'),\n",
       "  ('in', 'ADP'),\n",
       "  ('Eastern', 'NOUN'),\n",
       "  ('Europe', 'NOUN'),\n",
       "  ('and', 'CONJ'),\n",
       "  ('the', 'DET'),\n",
       "  ('11th', 'NUM'),\n",
       "  ('time', 'NOUN'),\n",
       "  ('that', 'ADP'),\n",
       "  ('it', 'PRON'),\n",
       "  ('has', 'VERB'),\n",
       "  ('been', 'VERB'),\n",
       "  ('held', 'VERB'),\n",
       "  ('in', 'ADP'),\n",
       "  ('Europe', 'NOUN'),\n",
       "  ('.', '.')],\n",
       " [('Show', 'VERB'),\n",
       "  ('me', 'PRON'),\n",
       "  ('the', 'DET'),\n",
       "  ('cheapest', 'ADJ'),\n",
       "  ('round', 'NOUN'),\n",
       "  ('trips', 'NOUN'),\n",
       "  ('from', 'ADP'),\n",
       "  ('Dallas', 'NOUN'),\n",
       "  ('to', 'PRT'),\n",
       "  ('Atlanta', 'VERB')],\n",
       " [('I', 'PRON'),\n",
       "  ('would', 'VERB'),\n",
       "  ('like', 'VERB'),\n",
       "  ('to', 'PRT'),\n",
       "  ('see', 'VERB'),\n",
       "  ('flights', 'NOUN'),\n",
       "  ('from', 'ADP'),\n",
       "  ('Denver', 'NOUN'),\n",
       "  ('to', 'PRT'),\n",
       "  ('Philadelphia', 'NOUN'),\n",
       "  ('.', '.')],\n",
       " [('Show', 'VERB'),\n",
       "  ('me', 'PRON'),\n",
       "  ('the', 'DET'),\n",
       "  ('price', 'NOUN'),\n",
       "  ('of', 'ADP'),\n",
       "  ('the', 'DET'),\n",
       "  ('flights', 'NOUN'),\n",
       "  ('leaving', 'VERB'),\n",
       "  ('Atlanta', 'NOUN'),\n",
       "  ('at', 'ADP'),\n",
       "  ('about', 'ADV'),\n",
       "  ('3', 'NUM'),\n",
       "  ('in', 'ADP'),\n",
       "  ('the', 'DET'),\n",
       "  ('afternoon', 'NOUN'),\n",
       "  ('and', 'CONJ'),\n",
       "  ('arriving', 'NOUN'),\n",
       "  ('in', 'ADP'),\n",
       "  ('San', 'NOUN'),\n",
       "  ('Francisco', 'NOUN'),\n",
       "  ('.', '.')],\n",
       " [('NASA', 'NOUN'),\n",
       "  ('invited', 'VERB'),\n",
       "  ('social', 'ADJ'),\n",
       "  ('media', 'NOUN'),\n",
       "  ('users', 'NOUN'),\n",
       "  ('to', 'PRT'),\n",
       "  ('experience', 'VERB'),\n",
       "  ('the', 'DET'),\n",
       "  ('launch', 'NOUN'),\n",
       "  ('of', 'ADP'),\n",
       "  ('ICESAT-2', 'NOUN'),\n",
       "  ('Satellite', 'NOUN'),\n",
       "  ('.', '.')]]"
      ]
     },
     "execution_count": 72,
     "metadata": {},
     "output_type": "execute_result"
    }
   ],
   "source": [
    "#get the word tokens of sample data\n",
    "sample_test_tokenized_sents = [word_tokenize(sent) for sent in sample_test_sentences]\n",
    "sample_test_corpus_pos_tags = nltk.pos_tag_sents(sample_test_tokenized_sents, tagset = 'universal')\n",
    "sample_test_corpus_pos_tags"
   ]
  },
  {
   "cell_type": "code",
   "execution_count": 73,
   "metadata": {},
   "outputs": [
    {
     "name": "stdout",
     "output_type": "stream",
     "text": [
      "['Android', 'is', 'a', 'mobile', 'operating', 'system', 'developed', 'by', 'Google', '.', 'Android', 'has', 'been', 'the', 'best-selling', 'OS', 'worldwide', 'on', 'smartphones', 'since', '2011', 'and', 'on', 'tablets', 'since', '2013', '.', 'Google', 'and', 'Twitter', 'made', 'a', 'deal', 'in', '2015', 'that', 'gave', 'Google', 'access', 'to', 'Twitter', \"'s\", 'firehose', '.', 'Twitter', 'is', 'an', 'online', 'news', 'and', 'social', 'networking', 'service', 'on', 'which', 'users', 'post', 'and', 'interact', 'with', 'messages', 'known', 'as', 'tweets', '.', 'Before', 'entering', 'politics', ',', 'Donald', 'Trump', 'was', 'a', 'domineering', 'businessman', 'and', 'a', 'television', 'personality', '.', 'The', '2018', 'FIFA', 'World', 'Cup', 'is', 'the', '21st', 'FIFA', 'World', 'Cup', ',', 'an', 'international', 'football', 'tournament', 'contested', 'once', 'every', 'four', 'years', '.', 'This', 'is', 'the', 'first', 'World', 'Cup', 'to', 'be', 'held', 'in', 'Eastern', 'Europe', 'and', 'the', '11th', 'time', 'that', 'it', 'has', 'been', 'held', 'in', 'Europe', '.', 'Show', 'me', 'the', 'cheapest', 'round', 'trips', 'from', 'Dallas', 'to', 'Atlanta', 'I', 'would', 'like', 'to', 'see', 'flights', 'from', 'Denver', 'to', 'Philadelphia', '.', 'Show', 'me', 'the', 'price', 'of', 'the', 'flights', 'leaving', 'Atlanta', 'at', 'about', '3', 'in', 'the', 'afternoon', 'and', 'arriving', 'in', 'San', 'Francisco', '.', 'NASA', 'invited', 'social', 'media', 'users', 'to', 'experience', 'the', 'launch', 'of', 'ICESAT-2', 'Satellite', '.']\n"
     ]
    }
   ],
   "source": [
    "sample_test_tagged_words = [tup[0] for sent in sample_test_corpus_pos_tags for tup in sent]\n",
    "\n",
    "\n",
    "# list of tagged words\n",
    "sample_test_test_run_base = [tup for sent in sample_test_corpus_pos_tags for tup in sent]\n",
    "print(sample_test_tagged_words)"
   ]
  },
  {
   "cell_type": "markdown",
   "metadata": {},
   "source": [
    "###  1. Testing the accuracy of Vanilla Viterbi on sample test data "
   ]
  },
  {
   "cell_type": "code",
   "execution_count": 75,
   "metadata": {},
   "outputs": [
    {
     "name": "stdout",
     "output_type": "stream",
     "text": [
      "The accuracy of the Vanilla Viterbi Algorithm on the sample test data is - 0.7569060773480663\n"
     ]
    }
   ],
   "source": [
    "# tagging the test sentences\n",
    "sample_test_tagged_seq = Viterbi(sample_test_tagged_words)\n",
    "\n",
    "# Let's check the accuracy of the vanilla viterbi algorithm\n",
    "sample_test_check = [i for i, j in zip(sample_test_tagged_seq, sample_test_test_run_base) if i == j]\n",
    "\n",
    "vanilla_viterbi_accuracy_on_sample_test_data = len(sample_test_check)/len(sample_test_tagged_seq)\n",
    "\n",
    "print(\"The accuracy of the Vanilla Viterbi Algorithm on the sample test data is -\", vanilla_viterbi_accuracy_on_sample_test_data)"
   ]
  },
  {
   "cell_type": "markdown",
   "metadata": {},
   "source": [
    "### 2. Testing the accuracy of Modified_Vanilla_Viterbi_for_Unknown_Words on sample test data"
   ]
  },
  {
   "cell_type": "code",
   "execution_count": 77,
   "metadata": {},
   "outputs": [
    {
     "name": "stdout",
     "output_type": "stream",
     "text": [
      "The accuracy of the Modified_Vanilla_Viterbi_for_Unknown_Words on the sample test data is - 0.861878453038674\n"
     ]
    }
   ],
   "source": [
    "# tagging the test sentences\n",
    "sample_test_unknown_word_tagged_seq = Modified_Vanilla_Viterbi_for_Unknown_Words(sample_test_tagged_words)\n",
    "\n",
    "# accuracy\n",
    "sample_test_unknown_word_check = [i for i, j in zip(sample_test_unknown_word_tagged_seq, sample_test_test_run_base) if i == j]\n",
    "\n",
    "sample_test_optimized_viterbi_accuracy = len(sample_test_unknown_word_check)/len(sample_test_unknown_word_tagged_seq)\n",
    "\n",
    "print(\"The accuracy of the Modified_Vanilla_Viterbi_for_Unknown_Words on the sample test data is -\", sample_test_optimized_viterbi_accuracy)"
   ]
  },
  {
   "cell_type": "markdown",
   "metadata": {},
   "source": [
    "### 3. Testing the accuracy of viterbi_backedup_by_trigram_tagger on sample test data"
   ]
  },
  {
   "cell_type": "code",
   "execution_count": 78,
   "metadata": {},
   "outputs": [
    {
     "name": "stdout",
     "output_type": "stream",
     "text": [
      "The accuracy of the viterbi_backedup_by_trigram_tagger on the sample test data is - 0.9281767955801105\n"
     ]
    }
   ],
   "source": [
    "# tagging the test sentences\n",
    "sample_test_viterbi_trigram_tagged_seq = viterbi_backedup_by_trigram_tagger(sample_test_tagged_words)\n",
    "\n",
    "# accuracy\n",
    "sample_test_viterbi_trigram_check = [i for i, j in zip(sample_test_viterbi_trigram_tagged_seq, sample_test_test_run_base) if i == j]\n",
    "\n",
    "sample_test_viterbi_trigram_accuracy = len(sample_test_viterbi_trigram_check)/len(sample_test_viterbi_trigram_tagged_seq)\n",
    "\n",
    "print(\"The accuracy of the viterbi_backedup_by_trigram_tagger on the sample test data is -\", sample_test_viterbi_trigram_accuracy)"
   ]
  },
  {
   "cell_type": "markdown",
   "metadata": {},
   "source": [
    "### Comparing the accuracies of the 3 algorithm on sample test data -"
   ]
  },
  {
   "cell_type": "code",
   "execution_count": 79,
   "metadata": {},
   "outputs": [
    {
     "data": {
      "text/html": [
       "<div>\n",
       "<style scoped>\n",
       "    .dataframe tbody tr th:only-of-type {\n",
       "        vertical-align: middle;\n",
       "    }\n",
       "\n",
       "    .dataframe tbody tr th {\n",
       "        vertical-align: top;\n",
       "    }\n",
       "\n",
       "    .dataframe thead th {\n",
       "        text-align: right;\n",
       "    }\n",
       "</style>\n",
       "<table border=\"1\" class=\"dataframe\">\n",
       "  <thead>\n",
       "    <tr style=\"text-align: right;\">\n",
       "      <th></th>\n",
       "      <th>Tagging_Accuracy</th>\n",
       "    </tr>\n",
       "    <tr>\n",
       "      <th>Tagging_Algorithm</th>\n",
       "      <th></th>\n",
       "    </tr>\n",
       "  </thead>\n",
       "  <tbody>\n",
       "    <tr>\n",
       "      <th>Vanilla Viterbi</th>\n",
       "      <td>75.690608</td>\n",
       "    </tr>\n",
       "    <tr>\n",
       "      <th>Optimized Vanilla Viterbi</th>\n",
       "      <td>86.187845</td>\n",
       "    </tr>\n",
       "    <tr>\n",
       "      <th>Viterbi + Trigram_tagger</th>\n",
       "      <td>92.817680</td>\n",
       "    </tr>\n",
       "  </tbody>\n",
       "</table>\n",
       "</div>"
      ],
      "text/plain": [
       "                           Tagging_Accuracy\n",
       "Tagging_Algorithm                          \n",
       "Vanilla Viterbi                   75.690608\n",
       "Optimized Vanilla Viterbi         86.187845\n",
       "Viterbi + Trigram_tagger          92.817680"
      ]
     },
     "execution_count": 79,
     "metadata": {},
     "output_type": "execute_result"
    }
   ],
   "source": [
    "#get the all accuracy of sample data\n",
    "acccuracy_on_sample_test_data = [['Vanilla Viterbi', vanilla_viterbi_accuracy_on_sample_test_data*100], \n",
    "                  ['Optimized Vanilla Viterbi', sample_test_optimized_viterbi_accuracy*100], \n",
    "                  ['Viterbi + Trigram_tagger', sample_test_viterbi_trigram_accuracy*100]]\n",
    "\n",
    "sample_test_data_acccuracy_df = pd.DataFrame(acccuracy_on_sample_test_data, columns = ['Tagging_Algorithm', 'Tagging_Accuracy'])\n",
    "\n",
    "sample_test_data_acccuracy_df.set_index('Tagging_Algorithm', drop = True, inplace = True)\n",
    "\n",
    "sample_test_data_acccuracy_df"
   ]
  },
  {
   "cell_type": "code",
   "execution_count": 80,
   "metadata": {},
   "outputs": [
    {
     "data": {
      "text/plain": [
       "<matplotlib.axes._subplots.AxesSubplot at 0xc954340>"
      ]
     },
     "execution_count": 80,
     "metadata": {},
     "output_type": "execute_result"
    },
    {
     "data": {
      "image/png": "[encoded data removed]",
      "text/plain": [
       "<Figure size 432x288 with 1 Axes>"
      ]
     },
     "metadata": {
      "needs_background": "light"
     },
     "output_type": "display_data"
    }
   ],
   "source": [
    "# Plot the accuracy of sample data\n",
    "sample_test_data_acccuracy_df.plot.line(rot = 90, legend = False)"
   ]
  },
  {
   "cell_type": "markdown",
   "metadata": {},
   "source": [
    "### List down cases which were incorrectly tagged by original POS tagger and got corrected by your modifications"
   ]
  },
  {
   "cell_type": "code",
   "execution_count": 81,
   "metadata": {},
   "outputs": [],
   "source": [
    "# test sentences\n",
    "\n",
    "test_sentence_1 = 'Android is a mobile operating system developed by Google.'\n",
    "test_sentence_2 = 'Android has been the best-selling OS worldwide on smartphones since 2011 and on tablets since 2013.'\n",
    "test_sentence_3 = \"Google and Twitter made a deal in 2015 that gave Google access to Twitter's firehose.\"\n",
    "test_sentence_4 = 'Twitter is an online news and social networking service on which users post and interact with messages known as tweets.'\n",
    "test_sentence_5 = 'Before entering politics, Donald Trump was a domineering businessman and a television personality.'\n",
    "test_sentence_6 = 'The 2018 FIFA World Cup is the 21st FIFA World Cup, an international football tournament contested once every four years.'\n",
    "test_sentence_7 = 'This is the first World Cup to be held in Eastern Europe and the 11th time that it has been held in Europe.'\n",
    "test_sentence_8 = 'Show me the cheapest round trips from Dallas to Atlanta'\n",
    "test_sentence_9 = 'I would like to see flights from Denver to Philadelphia.'\n",
    "test_sentence_10 = 'Show me the price of the flights leaving Atlanta at about 3 in the afternoon and arriving in San Francisco.'\n",
    "test_sentence_11 = 'NASA invited social media users to experience the launch of ICESAT-2 Satellite.'"
   ]
  },
  {
   "cell_type": "markdown",
   "metadata": {},
   "source": [
    "## Case 1"
   ]
  },
  {
   "cell_type": "code",
   "execution_count": 82,
   "metadata": {},
   "outputs": [
    {
     "name": "stdout",
     "output_type": "stream",
     "text": [
      "Tagging sequence with Vanilla_Viterbi -\n",
      "\n",
      " [('Android', 'ADV'), ('is', 'VERB'), ('a', 'DET'), ('mobile', 'ADJ'), ('operating', 'NOUN'), ('system', 'NOUN'), ('developed', 'VERB'), ('by', 'ADP'), ('Google', 'ADV'), ('.', '.')]\n",
      "\n",
      "\n",
      "------------------------------------------------------------------------------------------------------------------------\n",
      "Tagging sequence with viterbi_backedup_by_trigram_tagger -\n",
      "\n",
      " [('Android', 'NOUN'), ('is', 'VERB'), ('a', 'DET'), ('mobile', 'ADJ'), ('operating', 'NOUN'), ('system', 'NOUN'), ('developed', 'VERB'), ('by', 'ADP'), ('Google', 'NOUN'), ('.', '.')]\n"
     ]
    }
   ],
   "source": [
    "# test_sentence_1 = 'Android is a mobile operating system developed by Google.'\n",
    "\n",
    "words_test_sentence_1 = nltk.word_tokenize(test_sentence_1)\n",
    "\n",
    "# pos tags with Vanilla_Viterbi\n",
    "pos_tagged_sequence_with_vanilla_viterbi = Viterbi(words_test_sentence_1)\n",
    "print(\"Tagging sequence with Vanilla_Viterbi -\\n\\n\", pos_tagged_sequence_with_vanilla_viterbi)\n",
    "\n",
    "print('\\n')\n",
    "print('-'*120)\n",
    "\n",
    "# pos tags with viterbi_backedup_by_trigram_tagger\n",
    "pos_tagged_sequence_with_viterbi_trigram = viterbi_backedup_by_trigram_tagger(words_test_sentence_1)\n",
    "print(\"Tagging sequence with viterbi_backedup_by_trigram_tagger -\\n\\n\", pos_tagged_sequence_with_viterbi_trigram)"
   ]
  },
  {
   "cell_type": "code",
   "execution_count": 83,
   "metadata": {},
   "outputs": [
    {
     "data": {
      "text/html": [
       "<div>\n",
       "<style scoped>\n",
       "    .dataframe tbody tr th:only-of-type {\n",
       "        vertical-align: middle;\n",
       "    }\n",
       "\n",
       "    .dataframe tbody tr th {\n",
       "        vertical-align: top;\n",
       "    }\n",
       "\n",
       "    .dataframe thead th {\n",
       "        text-align: right;\n",
       "    }\n",
       "</style>\n",
       "<table border=\"1\" class=\"dataframe\">\n",
       "  <thead>\n",
       "    <tr style=\"text-align: right;\">\n",
       "      <th></th>\n",
       "      <th>vanilla_viterbi_tags</th>\n",
       "      <th>viterbi_trigram_tags_with_corrections</th>\n",
       "    </tr>\n",
       "  </thead>\n",
       "  <tbody>\n",
       "    <tr>\n",
       "      <th>0</th>\n",
       "      <td>(Android, ADV)</td>\n",
       "      <td>(Android, NOUN)</td>\n",
       "    </tr>\n",
       "    <tr>\n",
       "      <th>1</th>\n",
       "      <td>(is, VERB)</td>\n",
       "      <td>(is, VERB)</td>\n",
       "    </tr>\n",
       "    <tr>\n",
       "      <th>2</th>\n",
       "      <td>(a, DET)</td>\n",
       "      <td>(a, DET)</td>\n",
       "    </tr>\n",
       "    <tr>\n",
       "      <th>3</th>\n",
       "      <td>(mobile, ADJ)</td>\n",
       "      <td>(mobile, ADJ)</td>\n",
       "    </tr>\n",
       "    <tr>\n",
       "      <th>4</th>\n",
       "      <td>(operating, NOUN)</td>\n",
       "      <td>(operating, NOUN)</td>\n",
       "    </tr>\n",
       "    <tr>\n",
       "      <th>5</th>\n",
       "      <td>(system, NOUN)</td>\n",
       "      <td>(system, NOUN)</td>\n",
       "    </tr>\n",
       "    <tr>\n",
       "      <th>6</th>\n",
       "      <td>(developed, VERB)</td>\n",
       "      <td>(developed, VERB)</td>\n",
       "    </tr>\n",
       "    <tr>\n",
       "      <th>7</th>\n",
       "      <td>(by, ADP)</td>\n",
       "      <td>(by, ADP)</td>\n",
       "    </tr>\n",
       "    <tr>\n",
       "      <th>8</th>\n",
       "      <td>(Google, ADV)</td>\n",
       "      <td>(Google, NOUN)</td>\n",
       "    </tr>\n",
       "    <tr>\n",
       "      <th>9</th>\n",
       "      <td>(., .)</td>\n",
       "      <td>(., .)</td>\n",
       "    </tr>\n",
       "  </tbody>\n",
       "</table>\n",
       "</div>"
      ],
      "text/plain": [
       "  vanilla_viterbi_tags viterbi_trigram_tags_with_corrections\n",
       "0       (Android, ADV)                       (Android, NOUN)\n",
       "1           (is, VERB)                            (is, VERB)\n",
       "2             (a, DET)                              (a, DET)\n",
       "3        (mobile, ADJ)                         (mobile, ADJ)\n",
       "4    (operating, NOUN)                     (operating, NOUN)\n",
       "5       (system, NOUN)                        (system, NOUN)\n",
       "6    (developed, VERB)                     (developed, VERB)\n",
       "7            (by, ADP)                             (by, ADP)\n",
       "8        (Google, ADV)                        (Google, NOUN)\n",
       "9               (., .)                                (., .)"
      ]
     },
     "execution_count": 83,
     "metadata": {},
     "output_type": "execute_result"
    }
   ],
   "source": [
    "#compare the vanilla_viterbi_tags vs viterbi_trigram_tags_with_corrections for sentence 1 in df\n",
    "cols = ['vanilla_viterbi_tags vs ', 'viterbi_trigram_tags_with_corrections']\n",
    "tags_correction_df_1 = pd.DataFrame(columns = cols)\n",
    "tags_correction_df_1 = tags_correction_df_1.fillna(0)\n",
    "\n",
    "tags_correction_df_1.vanilla_viterbi_tags = [tup for tup in pos_tagged_sequence_with_vanilla_viterbi]\n",
    "tags_correction_df_1.viterbi_trigram_tags_with_corrections = [tup for tup in pos_tagged_sequence_with_viterbi_trigram]\n",
    "\n",
    "tags_correction_df_1"
   ]
  },
  {
   "cell_type": "markdown",
   "metadata": {},
   "source": [
    "___As we see above in the sample test sentence 1 the word 'Android', 'Google' was tagged as ADV by vanilla viterbi. The modified algorithm of viterbi backed up by trigram tagger corrected this and tagged 'Android', 'Google' as NOUN___"
   ]
  },
  {
   "cell_type": "markdown",
   "metadata": {},
   "source": [
    "## Case-2"
   ]
  },
  {
   "cell_type": "code",
   "execution_count": 84,
   "metadata": {},
   "outputs": [
    {
     "name": "stdout",
     "output_type": "stream",
     "text": [
      "Tagging sequence with Vanilla_Viterbi -\n",
      "\n",
      " [('The', 'DET'), ('2018', 'ADV'), ('FIFA', 'ADV'), ('World', 'NOUN'), ('Cup', 'ADV'), ('is', 'VERB'), ('the', 'DET'), ('21st', 'ADV'), ('FIFA', 'ADV'), ('World', 'NOUN'), ('Cup', 'ADV'), (',', '.'), ('an', 'DET'), ('international', 'ADJ'), ('football', 'NOUN'), ('tournament', 'ADV'), ('contested', 'ADV'), ('once', 'ADV'), ('every', 'DET'), ('four', 'NUM'), ('years', 'NOUN'), ('.', '.')]\n",
      "\n",
      "\n",
      "------------------------------------------------------------------------------------------------------------------------\n",
      "Tagging sequence with viterbi_backedup_by_trigram_tagger -\n",
      "\n",
      " [('The', 'DET'), ('2018', 'NUM'), ('FIFA', 'NOUN'), ('World', 'NOUN'), ('Cup', 'NOUN'), ('is', 'VERB'), ('the', 'DET'), ('21st', 'NUM'), ('FIFA', 'NOUN'), ('World', 'NOUN'), ('Cup', 'NOUN'), (',', '.'), ('an', 'DET'), ('international', 'ADJ'), ('football', 'NOUN'), ('tournament', 'NOUN'), ('contested', 'VERB'), ('once', 'ADV'), ('every', 'DET'), ('four', 'NUM'), ('years', 'NOUN'), ('.', '.')]\n"
     ]
    }
   ],
   "source": [
    "# test_sentence_6 = 'The 2018 FIFA World Cup is the 21st FIFA World Cup, \n",
    "#                   an international football tournament contested once every four years.'\n",
    "\n",
    "words_test_sentence_6 = nltk.word_tokenize(test_sentence_6)\n",
    "\n",
    "# pos tags with Vanilla_Viterbi\n",
    "pos_tagged_sequence_with_vanilla_viterbi_6 = Viterbi(words_test_sentence_6)\n",
    "print(\"Tagging sequence with Vanilla_Viterbi -\\n\\n\", pos_tagged_sequence_with_vanilla_viterbi_6)\n",
    "\n",
    "print('\\n')\n",
    "print('-'*120)\n",
    "\n",
    "# pos tags with viterbi_backedup_by_trigram_tagger\n",
    "pos_tagged_sequence_with_viterbi_trigram_6 = viterbi_backedup_by_trigram_tagger(words_test_sentence_6)\n",
    "print(\"Tagging sequence with viterbi_backedup_by_trigram_tagger -\\n\\n\", pos_tagged_sequence_with_viterbi_trigram_6)\n"
   ]
  },
  {
   "cell_type": "code",
   "execution_count": 85,
   "metadata": {},
   "outputs": [
    {
     "data": {
      "text/html": [
       "<div>\n",
       "<style scoped>\n",
       "    .dataframe tbody tr th:only-of-type {\n",
       "        vertical-align: middle;\n",
       "    }\n",
       "\n",
       "    .dataframe tbody tr th {\n",
       "        vertical-align: top;\n",
       "    }\n",
       "\n",
       "    .dataframe thead th {\n",
       "        text-align: right;\n",
       "    }\n",
       "</style>\n",
       "<table border=\"1\" class=\"dataframe\">\n",
       "  <thead>\n",
       "    <tr style=\"text-align: right;\">\n",
       "      <th></th>\n",
       "      <th>vanilla_viterbi_tags</th>\n",
       "      <th>viterbi_trigram_tags_with_corrections</th>\n",
       "    </tr>\n",
       "  </thead>\n",
       "  <tbody>\n",
       "    <tr>\n",
       "      <th>0</th>\n",
       "      <td>(The, DET)</td>\n",
       "      <td>(The, DET)</td>\n",
       "    </tr>\n",
       "    <tr>\n",
       "      <th>1</th>\n",
       "      <td>(2018, ADV)</td>\n",
       "      <td>(2018, NUM)</td>\n",
       "    </tr>\n",
       "    <tr>\n",
       "      <th>2</th>\n",
       "      <td>(FIFA, ADV)</td>\n",
       "      <td>(FIFA, NOUN)</td>\n",
       "    </tr>\n",
       "    <tr>\n",
       "      <th>3</th>\n",
       "      <td>(World, NOUN)</td>\n",
       "      <td>(World, NOUN)</td>\n",
       "    </tr>\n",
       "    <tr>\n",
       "      <th>4</th>\n",
       "      <td>(Cup, ADV)</td>\n",
       "      <td>(Cup, NOUN)</td>\n",
       "    </tr>\n",
       "    <tr>\n",
       "      <th>5</th>\n",
       "      <td>(is, VERB)</td>\n",
       "      <td>(is, VERB)</td>\n",
       "    </tr>\n",
       "    <tr>\n",
       "      <th>6</th>\n",
       "      <td>(the, DET)</td>\n",
       "      <td>(the, DET)</td>\n",
       "    </tr>\n",
       "    <tr>\n",
       "      <th>7</th>\n",
       "      <td>(21st, ADV)</td>\n",
       "      <td>(21st, NUM)</td>\n",
       "    </tr>\n",
       "    <tr>\n",
       "      <th>8</th>\n",
       "      <td>(FIFA, ADV)</td>\n",
       "      <td>(FIFA, NOUN)</td>\n",
       "    </tr>\n",
       "    <tr>\n",
       "      <th>9</th>\n",
       "      <td>(World, NOUN)</td>\n",
       "      <td>(World, NOUN)</td>\n",
       "    </tr>\n",
       "    <tr>\n",
       "      <th>10</th>\n",
       "      <td>(Cup, ADV)</td>\n",
       "      <td>(Cup, NOUN)</td>\n",
       "    </tr>\n",
       "    <tr>\n",
       "      <th>11</th>\n",
       "      <td>(,, .)</td>\n",
       "      <td>(,, .)</td>\n",
       "    </tr>\n",
       "    <tr>\n",
       "      <th>12</th>\n",
       "      <td>(an, DET)</td>\n",
       "      <td>(an, DET)</td>\n",
       "    </tr>\n",
       "    <tr>\n",
       "      <th>13</th>\n",
       "      <td>(international, ADJ)</td>\n",
       "      <td>(international, ADJ)</td>\n",
       "    </tr>\n",
       "    <tr>\n",
       "      <th>14</th>\n",
       "      <td>(football, NOUN)</td>\n",
       "      <td>(football, NOUN)</td>\n",
       "    </tr>\n",
       "    <tr>\n",
       "      <th>15</th>\n",
       "      <td>(tournament, ADV)</td>\n",
       "      <td>(tournament, NOUN)</td>\n",
       "    </tr>\n",
       "    <tr>\n",
       "      <th>16</th>\n",
       "      <td>(contested, ADV)</td>\n",
       "      <td>(contested, VERB)</td>\n",
       "    </tr>\n",
       "    <tr>\n",
       "      <th>17</th>\n",
       "      <td>(once, ADV)</td>\n",
       "      <td>(once, ADV)</td>\n",
       "    </tr>\n",
       "    <tr>\n",
       "      <th>18</th>\n",
       "      <td>(every, DET)</td>\n",
       "      <td>(every, DET)</td>\n",
       "    </tr>\n",
       "    <tr>\n",
       "      <th>19</th>\n",
       "      <td>(four, NUM)</td>\n",
       "      <td>(four, NUM)</td>\n",
       "    </tr>\n",
       "    <tr>\n",
       "      <th>20</th>\n",
       "      <td>(years, NOUN)</td>\n",
       "      <td>(years, NOUN)</td>\n",
       "    </tr>\n",
       "    <tr>\n",
       "      <th>21</th>\n",
       "      <td>(., .)</td>\n",
       "      <td>(., .)</td>\n",
       "    </tr>\n",
       "  </tbody>\n",
       "</table>\n",
       "</div>"
      ],
      "text/plain": [
       "    vanilla_viterbi_tags viterbi_trigram_tags_with_corrections\n",
       "0             (The, DET)                            (The, DET)\n",
       "1            (2018, ADV)                           (2018, NUM)\n",
       "2            (FIFA, ADV)                          (FIFA, NOUN)\n",
       "3          (World, NOUN)                         (World, NOUN)\n",
       "4             (Cup, ADV)                           (Cup, NOUN)\n",
       "5             (is, VERB)                            (is, VERB)\n",
       "6             (the, DET)                            (the, DET)\n",
       "7            (21st, ADV)                           (21st, NUM)\n",
       "8            (FIFA, ADV)                          (FIFA, NOUN)\n",
       "9          (World, NOUN)                         (World, NOUN)\n",
       "10            (Cup, ADV)                           (Cup, NOUN)\n",
       "11                (,, .)                                (,, .)\n",
       "12             (an, DET)                             (an, DET)\n",
       "13  (international, ADJ)                  (international, ADJ)\n",
       "14      (football, NOUN)                      (football, NOUN)\n",
       "15     (tournament, ADV)                    (tournament, NOUN)\n",
       "16      (contested, ADV)                     (contested, VERB)\n",
       "17           (once, ADV)                           (once, ADV)\n",
       "18          (every, DET)                          (every, DET)\n",
       "19           (four, NUM)                           (four, NUM)\n",
       "20         (years, NOUN)                         (years, NOUN)\n",
       "21                (., .)                                (., .)"
      ]
     },
     "execution_count": 85,
     "metadata": {},
     "output_type": "execute_result"
    }
   ],
   "source": [
    "#compare the vanilla_viterbi_tags vs viterbi_trigram_tags_with_corrections for sentence 6 in df\n",
    "tags_correction_df_6 = pd.DataFrame(columns = cols)\n",
    "tags_correction_df_6 = tags_correction_df_6.fillna(0)\n",
    "\n",
    "tags_correction_df_6.vanilla_viterbi_tags = [tup for tup in pos_tagged_sequence_with_vanilla_viterbi_6]\n",
    "tags_correction_df_6.viterbi_trigram_tags_with_corrections = [tup for tup in pos_tagged_sequence_with_viterbi_trigram_6]\n",
    "\n",
    "tags_correction_df_6"
   ]
  },
  {
   "cell_type": "markdown",
   "metadata": {},
   "source": [
    "___As we see above in the sample test sentence 6 the following words were incorrectly tagged by the vanilla viterbi algorithm - '2018', 'FIFA', 'Cup', '21st', 'tournament', 'contested'  as ADV. The above words were corrected by viterbi backed up by the trigram tagger. The corrections were made as - '2018', '21st' as *NUM, 'FIFA', 'Cup', 'tournament' as *NOUN and  'contested' as *VERB.___"
   ]
  },
  {
   "cell_type": "markdown",
   "metadata": {},
   "source": [
    "## Case-3"
   ]
  },
  {
   "cell_type": "code",
   "execution_count": 86,
   "metadata": {},
   "outputs": [
    {
     "name": "stdout",
     "output_type": "stream",
     "text": [
      "Tagging sequence with Vanilla_Viterbi -\n",
      "\n",
      " [('Show', 'NOUN'), ('me', 'PRON'), ('the', 'DET'), ('cheapest', 'ADJ'), ('round', 'NOUN'), ('trips', 'ADV'), ('from', 'ADP'), ('Dallas', 'NOUN'), ('to', 'PRT'), ('Atlanta', 'NOUN')]\n",
      "\n",
      "\n",
      "------------------------------------------------------------------------------------------------------------------------\n",
      "Tagging sequence with viterbi_backedup_by_trigram_tagger -\n",
      "\n",
      " [('Show', 'NOUN'), ('me', 'PRON'), ('the', 'DET'), ('cheapest', 'ADJ'), ('round', 'NOUN'), ('trips', 'NOUN'), ('from', 'ADP'), ('Dallas', 'NOUN'), ('to', 'PRT'), ('Atlanta', 'NOUN')]\n"
     ]
    }
   ],
   "source": [
    "# test_sentence_8 = 'Show me the cheapest round trips from Dallas to Atlanta'\n",
    "\n",
    "words_test_sentence_8 = nltk.word_tokenize(test_sentence_8)\n",
    "\n",
    "# pos tags with Vanilla_Viterbi\n",
    "pos_tagged_sequence_with_vanilla_viterbi_8 = Viterbi(words_test_sentence_8)\n",
    "print(\"Tagging sequence with Vanilla_Viterbi -\\n\\n\", pos_tagged_sequence_with_vanilla_viterbi_8)\n",
    "\n",
    "print('\\n')\n",
    "print('-'*120)\n",
    "\n",
    "# pos tags with viterbi_backedup_by_trigram_tagger\n",
    "pos_tagged_sequence_with_viterbi_trigram_8 = viterbi_backedup_by_trigram_tagger(words_test_sentence_8)\n",
    "print(\"Tagging sequence with viterbi_backedup_by_trigram_tagger -\\n\\n\", pos_tagged_sequence_with_viterbi_trigram_8)"
   ]
  },
  {
   "cell_type": "code",
   "execution_count": 87,
   "metadata": {},
   "outputs": [
    {
     "data": {
      "text/html": [
       "<div>\n",
       "<style scoped>\n",
       "    .dataframe tbody tr th:only-of-type {\n",
       "        vertical-align: middle;\n",
       "    }\n",
       "\n",
       "    .dataframe tbody tr th {\n",
       "        vertical-align: top;\n",
       "    }\n",
       "\n",
       "    .dataframe thead th {\n",
       "        text-align: right;\n",
       "    }\n",
       "</style>\n",
       "<table border=\"1\" class=\"dataframe\">\n",
       "  <thead>\n",
       "    <tr style=\"text-align: right;\">\n",
       "      <th></th>\n",
       "      <th>vanilla_viterbi_tags</th>\n",
       "      <th>viterbi_trigram_tags_with_corrections</th>\n",
       "    </tr>\n",
       "  </thead>\n",
       "  <tbody>\n",
       "    <tr>\n",
       "      <th>0</th>\n",
       "      <td>(Show, NOUN)</td>\n",
       "      <td>(Show, NOUN)</td>\n",
       "    </tr>\n",
       "    <tr>\n",
       "      <th>1</th>\n",
       "      <td>(me, PRON)</td>\n",
       "      <td>(me, PRON)</td>\n",
       "    </tr>\n",
       "    <tr>\n",
       "      <th>2</th>\n",
       "      <td>(the, DET)</td>\n",
       "      <td>(the, DET)</td>\n",
       "    </tr>\n",
       "    <tr>\n",
       "      <th>3</th>\n",
       "      <td>(cheapest, ADJ)</td>\n",
       "      <td>(cheapest, ADJ)</td>\n",
       "    </tr>\n",
       "    <tr>\n",
       "      <th>4</th>\n",
       "      <td>(round, NOUN)</td>\n",
       "      <td>(round, NOUN)</td>\n",
       "    </tr>\n",
       "    <tr>\n",
       "      <th>5</th>\n",
       "      <td>(trips, ADV)</td>\n",
       "      <td>(trips, NOUN)</td>\n",
       "    </tr>\n",
       "    <tr>\n",
       "      <th>6</th>\n",
       "      <td>(from, ADP)</td>\n",
       "      <td>(from, ADP)</td>\n",
       "    </tr>\n",
       "    <tr>\n",
       "      <th>7</th>\n",
       "      <td>(Dallas, NOUN)</td>\n",
       "      <td>(Dallas, NOUN)</td>\n",
       "    </tr>\n",
       "    <tr>\n",
       "      <th>8</th>\n",
       "      <td>(to, PRT)</td>\n",
       "      <td>(to, PRT)</td>\n",
       "    </tr>\n",
       "    <tr>\n",
       "      <th>9</th>\n",
       "      <td>(Atlanta, NOUN)</td>\n",
       "      <td>(Atlanta, NOUN)</td>\n",
       "    </tr>\n",
       "  </tbody>\n",
       "</table>\n",
       "</div>"
      ],
      "text/plain": [
       "  vanilla_viterbi_tags viterbi_trigram_tags_with_corrections\n",
       "0         (Show, NOUN)                          (Show, NOUN)\n",
       "1           (me, PRON)                            (me, PRON)\n",
       "2           (the, DET)                            (the, DET)\n",
       "3      (cheapest, ADJ)                       (cheapest, ADJ)\n",
       "4        (round, NOUN)                         (round, NOUN)\n",
       "5         (trips, ADV)                         (trips, NOUN)\n",
       "6          (from, ADP)                           (from, ADP)\n",
       "7       (Dallas, NOUN)                        (Dallas, NOUN)\n",
       "8            (to, PRT)                             (to, PRT)\n",
       "9      (Atlanta, NOUN)                       (Atlanta, NOUN)"
      ]
     },
     "execution_count": 87,
     "metadata": {},
     "output_type": "execute_result"
    }
   ],
   "source": [
    "#compare the vanilla_viterbi_tags vs viterbi_trigram_tags_with_corrections for sentence 8 in df\n",
    "tags_correction_df_8 = pd.DataFrame(columns = cols)\n",
    "tags_correction_df_8 = tags_correction_df_8.fillna(0)\n",
    "\n",
    "tags_correction_df_8.vanilla_viterbi_tags = [tup for tup in pos_tagged_sequence_with_vanilla_viterbi_8]\n",
    "tags_correction_df_8.viterbi_trigram_tags_with_corrections = [tup for tup in pos_tagged_sequence_with_viterbi_trigram_8]\n",
    "\n",
    "tags_correction_df_8"
   ]
  },
  {
   "cell_type": "markdown",
   "metadata": {},
   "source": [
    "___As we see in the sample test sentence 8, the vanilla viterbi tagged 'trips' as ADV. This was corrected by the modified viterbi algorithm (backed up by the trigram tagger) and tagged as NOUN.___"
   ]
  },
  {
   "cell_type": "code",
   "execution_count": 88,
   "metadata": {},
   "outputs": [],
   "source": [
    "# Default Vanilla Viterbi\n",
    "# pos tags with Vanilla_Viterbi\n",
    "sample_test_tagged_sequence_with_vanilla_viterbi = Viterbi(sample_test_tagged_words)\n",
    "\n",
    "# Method 1 - pos tags with Vanilla_Viterbi_for_Unknown_Words\n",
    "sample_test_tagged_sequence_unknown_words = Modified_Vanilla_Viterbi_for_Unknown_Words(sample_test_tagged_words)\n",
    "\n",
    "# Method 2 - pos tags with viterbi_backedup_by_trigram_tagger\n",
    "sample_test_tagged_sequence_with_viterbi_trigram = viterbi_backedup_by_trigram_tagger(sample_test_tagged_words)"
   ]
  },
  {
   "cell_type": "code",
   "execution_count": 89,
   "metadata": {},
   "outputs": [
    {
     "data": {
      "text/html": [
       "<div>\n",
       "<style scoped>\n",
       "    .dataframe tbody tr th:only-of-type {\n",
       "        vertical-align: middle;\n",
       "    }\n",
       "\n",
       "    .dataframe tbody tr th {\n",
       "        vertical-align: top;\n",
       "    }\n",
       "\n",
       "    .dataframe thead th {\n",
       "        text-align: right;\n",
       "    }\n",
       "</style>\n",
       "<table border=\"1\" class=\"dataframe\">\n",
       "  <thead>\n",
       "    <tr style=\"text-align: right;\">\n",
       "      <th></th>\n",
       "      <th>actual_tags</th>\n",
       "      <th>as_tagged_by_vanilla_viterbi</th>\n",
       "      <th>as_tagged_by_Vanilla_Viterbi_for_Unknown_Words</th>\n",
       "      <th>as_tagged_by_Vanilla_Viterbi_backed_by_trigram_tagger</th>\n",
       "    </tr>\n",
       "  </thead>\n",
       "  <tbody>\n",
       "    <tr>\n",
       "      <th>0</th>\n",
       "      <td>(Android, NOUN)</td>\n",
       "      <td>(Android, ADV)</td>\n",
       "      <td>(Android, NOUN)</td>\n",
       "      <td>(Android, NOUN)</td>\n",
       "    </tr>\n",
       "    <tr>\n",
       "      <th>8</th>\n",
       "      <td>(Google, NOUN)</td>\n",
       "      <td>(Google, ADV)</td>\n",
       "      <td>(Google, DET)</td>\n",
       "      <td>(Google, NOUN)</td>\n",
       "    </tr>\n",
       "    <tr>\n",
       "      <th>10</th>\n",
       "      <td>(Android, NOUN)</td>\n",
       "      <td>(Android, ADV)</td>\n",
       "      <td>(Android, NOUN)</td>\n",
       "      <td>(Android, NOUN)</td>\n",
       "    </tr>\n",
       "    <tr>\n",
       "      <th>15</th>\n",
       "      <td>(OS, NOUN)</td>\n",
       "      <td>(OS, ADV)</td>\n",
       "      <td>(OS, NOUN)</td>\n",
       "      <td>(OS, NOUN)</td>\n",
       "    </tr>\n",
       "    <tr>\n",
       "      <th>16</th>\n",
       "      <td>(worldwide, NOUN)</td>\n",
       "      <td>(worldwide, ADV)</td>\n",
       "      <td>(worldwide, NOUN)</td>\n",
       "      <td>(worldwide, NOUN)</td>\n",
       "    </tr>\n",
       "    <tr>\n",
       "      <th>18</th>\n",
       "      <td>(smartphones, NOUN)</td>\n",
       "      <td>(smartphones, ADV)</td>\n",
       "      <td>(smartphones, DET)</td>\n",
       "      <td>(smartphones, VERB)</td>\n",
       "    </tr>\n",
       "    <tr>\n",
       "      <th>20</th>\n",
       "      <td>(2011, NUM)</td>\n",
       "      <td>(2011, ADV)</td>\n",
       "      <td>(2011, DET)</td>\n",
       "      <td>(2011, NUM)</td>\n",
       "    </tr>\n",
       "    <tr>\n",
       "      <th>25</th>\n",
       "      <td>(2013, NUM)</td>\n",
       "      <td>(2013, ADV)</td>\n",
       "      <td>(2013, DET)</td>\n",
       "      <td>(2013, NUM)</td>\n",
       "    </tr>\n",
       "    <tr>\n",
       "      <th>27</th>\n",
       "      <td>(Google, NOUN)</td>\n",
       "      <td>(Google, ADV)</td>\n",
       "      <td>(Google, NOUN)</td>\n",
       "      <td>(Google, NOUN)</td>\n",
       "    </tr>\n",
       "    <tr>\n",
       "      <th>29</th>\n",
       "      <td>(Twitter, NOUN)</td>\n",
       "      <td>(Twitter, ADV)</td>\n",
       "      <td>(Twitter, NOUN)</td>\n",
       "      <td>(Twitter, NOUN)</td>\n",
       "    </tr>\n",
       "    <tr>\n",
       "      <th>34</th>\n",
       "      <td>(2015, NUM)</td>\n",
       "      <td>(2015, ADV)</td>\n",
       "      <td>(2015, DET)</td>\n",
       "      <td>(2015, NUM)</td>\n",
       "    </tr>\n",
       "    <tr>\n",
       "      <th>37</th>\n",
       "      <td>(Google, NOUN)</td>\n",
       "      <td>(Google, ADV)</td>\n",
       "      <td>(Google, X)</td>\n",
       "      <td>(Google, NOUN)</td>\n",
       "    </tr>\n",
       "    <tr>\n",
       "      <th>40</th>\n",
       "      <td>(Twitter, NOUN)</td>\n",
       "      <td>(Twitter, ADV)</td>\n",
       "      <td>(Twitter, VERB)</td>\n",
       "      <td>(Twitter, NOUN)</td>\n",
       "    </tr>\n",
       "    <tr>\n",
       "      <th>42</th>\n",
       "      <td>(firehose, NOUN)</td>\n",
       "      <td>(firehose, ADV)</td>\n",
       "      <td>(firehose, VERB)</td>\n",
       "      <td>(firehose, NOUN)</td>\n",
       "    </tr>\n",
       "    <tr>\n",
       "      <th>44</th>\n",
       "      <td>(Twitter, NOUN)</td>\n",
       "      <td>(Twitter, ADV)</td>\n",
       "      <td>(Twitter, NOUN)</td>\n",
       "      <td>(Twitter, NOUN)</td>\n",
       "    </tr>\n",
       "    <tr>\n",
       "      <th>47</th>\n",
       "      <td>(online, ADJ)</td>\n",
       "      <td>(online, ADV)</td>\n",
       "      <td>(online, NOUN)</td>\n",
       "      <td>(online, NOUN)</td>\n",
       "    </tr>\n",
       "    <tr>\n",
       "      <th>58</th>\n",
       "      <td>(interact, NOUN)</td>\n",
       "      <td>(interact, ADV)</td>\n",
       "      <td>(interact, NOUN)</td>\n",
       "      <td>(interact, NOUN)</td>\n",
       "    </tr>\n",
       "    <tr>\n",
       "      <th>60</th>\n",
       "      <td>(messages, NOUN)</td>\n",
       "      <td>(messages, ADV)</td>\n",
       "      <td>(messages, DET)</td>\n",
       "      <td>(messages, VERB)</td>\n",
       "    </tr>\n",
       "    <tr>\n",
       "      <th>63</th>\n",
       "      <td>(tweets, NOUN)</td>\n",
       "      <td>(tweets, ADV)</td>\n",
       "      <td>(tweets, DET)</td>\n",
       "      <td>(tweets, NOUN)</td>\n",
       "    </tr>\n",
       "    <tr>\n",
       "      <th>73</th>\n",
       "      <td>(domineering, ADJ)</td>\n",
       "      <td>(domineering, ADV)</td>\n",
       "      <td>(domineering, NOUN)</td>\n",
       "      <td>(domineering, VERB)</td>\n",
       "    </tr>\n",
       "    <tr>\n",
       "      <th>78</th>\n",
       "      <td>(personality, NOUN)</td>\n",
       "      <td>(personality, ADV)</td>\n",
       "      <td>(personality, NOUN)</td>\n",
       "      <td>(personality, NOUN)</td>\n",
       "    </tr>\n",
       "    <tr>\n",
       "      <th>81</th>\n",
       "      <td>(2018, NUM)</td>\n",
       "      <td>(2018, ADV)</td>\n",
       "      <td>(2018, NOUN)</td>\n",
       "      <td>(2018, NUM)</td>\n",
       "    </tr>\n",
       "    <tr>\n",
       "      <th>82</th>\n",
       "      <td>(FIFA, NOUN)</td>\n",
       "      <td>(FIFA, ADV)</td>\n",
       "      <td>(FIFA, NOUN)</td>\n",
       "      <td>(FIFA, NOUN)</td>\n",
       "    </tr>\n",
       "    <tr>\n",
       "      <th>84</th>\n",
       "      <td>(Cup, NOUN)</td>\n",
       "      <td>(Cup, ADV)</td>\n",
       "      <td>(Cup, NOUN)</td>\n",
       "      <td>(Cup, NOUN)</td>\n",
       "    </tr>\n",
       "    <tr>\n",
       "      <th>87</th>\n",
       "      <td>(21st, NUM)</td>\n",
       "      <td>(21st, ADV)</td>\n",
       "      <td>(21st, NOUN)</td>\n",
       "      <td>(21st, NUM)</td>\n",
       "    </tr>\n",
       "    <tr>\n",
       "      <th>88</th>\n",
       "      <td>(FIFA, NOUN)</td>\n",
       "      <td>(FIFA, ADV)</td>\n",
       "      <td>(FIFA, NOUN)</td>\n",
       "      <td>(FIFA, NOUN)</td>\n",
       "    </tr>\n",
       "    <tr>\n",
       "      <th>90</th>\n",
       "      <td>(Cup, NOUN)</td>\n",
       "      <td>(Cup, ADV)</td>\n",
       "      <td>(Cup, NOUN)</td>\n",
       "      <td>(Cup, NOUN)</td>\n",
       "    </tr>\n",
       "    <tr>\n",
       "      <th>95</th>\n",
       "      <td>(tournament, NOUN)</td>\n",
       "      <td>(tournament, ADV)</td>\n",
       "      <td>(tournament, NOUN)</td>\n",
       "      <td>(tournament, NOUN)</td>\n",
       "    </tr>\n",
       "    <tr>\n",
       "      <th>96</th>\n",
       "      <td>(contested, VERB)</td>\n",
       "      <td>(contested, ADV)</td>\n",
       "      <td>(contested, NOUN)</td>\n",
       "      <td>(contested, VERB)</td>\n",
       "    </tr>\n",
       "    <tr>\n",
       "      <th>107</th>\n",
       "      <td>(Cup, NOUN)</td>\n",
       "      <td>(Cup, ADV)</td>\n",
       "      <td>(Cup, NOUN)</td>\n",
       "      <td>(Cup, NOUN)</td>\n",
       "    </tr>\n",
       "    <tr>\n",
       "      <th>131</th>\n",
       "      <td>(trips, NOUN)</td>\n",
       "      <td>(trips, ADV)</td>\n",
       "      <td>(trips, NOUN)</td>\n",
       "      <td>(trips, NOUN)</td>\n",
       "    </tr>\n",
       "    <tr>\n",
       "      <th>163</th>\n",
       "      <td>(arriving, NOUN)</td>\n",
       "      <td>(arriving, ADV)</td>\n",
       "      <td>(arriving, NOUN)</td>\n",
       "      <td>(arriving, VERB)</td>\n",
       "    </tr>\n",
       "    <tr>\n",
       "      <th>168</th>\n",
       "      <td>(NASA, NOUN)</td>\n",
       "      <td>(NASA, ADV)</td>\n",
       "      <td>(NASA, NOUN)</td>\n",
       "      <td>(NASA, NOUN)</td>\n",
       "    </tr>\n",
       "    <tr>\n",
       "      <th>169</th>\n",
       "      <td>(invited, VERB)</td>\n",
       "      <td>(invited, ADV)</td>\n",
       "      <td>(invited, NOUN)</td>\n",
       "      <td>(invited, VERB)</td>\n",
       "    </tr>\n",
       "    <tr>\n",
       "      <th>178</th>\n",
       "      <td>(ICESAT-2, NOUN)</td>\n",
       "      <td>(ICESAT-2, ADV)</td>\n",
       "      <td>(ICESAT-2, DET)</td>\n",
       "      <td>(ICESAT-2, NOUN)</td>\n",
       "    </tr>\n",
       "    <tr>\n",
       "      <th>179</th>\n",
       "      <td>(Satellite, NOUN)</td>\n",
       "      <td>(Satellite, ADV)</td>\n",
       "      <td>(Satellite, NOUN)</td>\n",
       "      <td>(Satellite, NOUN)</td>\n",
       "    </tr>\n",
       "  </tbody>\n",
       "</table>\n",
       "</div>"
      ],
      "text/plain": [
       "             actual_tags as_tagged_by_vanilla_viterbi  \\\n",
       "0        (Android, NOUN)               (Android, ADV)   \n",
       "8         (Google, NOUN)                (Google, ADV)   \n",
       "10       (Android, NOUN)               (Android, ADV)   \n",
       "15            (OS, NOUN)                    (OS, ADV)   \n",
       "16     (worldwide, NOUN)             (worldwide, ADV)   \n",
       "18   (smartphones, NOUN)           (smartphones, ADV)   \n",
       "20           (2011, NUM)                  (2011, ADV)   \n",
       "25           (2013, NUM)                  (2013, ADV)   \n",
       "27        (Google, NOUN)                (Google, ADV)   \n",
       "29       (Twitter, NOUN)               (Twitter, ADV)   \n",
       "34           (2015, NUM)                  (2015, ADV)   \n",
       "37        (Google, NOUN)                (Google, ADV)   \n",
       "40       (Twitter, NOUN)               (Twitter, ADV)   \n",
       "42      (firehose, NOUN)              (firehose, ADV)   \n",
       "44       (Twitter, NOUN)               (Twitter, ADV)   \n",
       "47         (online, ADJ)                (online, ADV)   \n",
       "58      (interact, NOUN)              (interact, ADV)   \n",
       "60      (messages, NOUN)              (messages, ADV)   \n",
       "63        (tweets, NOUN)                (tweets, ADV)   \n",
       "73    (domineering, ADJ)           (domineering, ADV)   \n",
       "78   (personality, NOUN)           (personality, ADV)   \n",
       "81           (2018, NUM)                  (2018, ADV)   \n",
       "82          (FIFA, NOUN)                  (FIFA, ADV)   \n",
       "84           (Cup, NOUN)                   (Cup, ADV)   \n",
       "87           (21st, NUM)                  (21st, ADV)   \n",
       "88          (FIFA, NOUN)                  (FIFA, ADV)   \n",
       "90           (Cup, NOUN)                   (Cup, ADV)   \n",
       "95    (tournament, NOUN)            (tournament, ADV)   \n",
       "96     (contested, VERB)             (contested, ADV)   \n",
       "107          (Cup, NOUN)                   (Cup, ADV)   \n",
       "131        (trips, NOUN)                 (trips, ADV)   \n",
       "163     (arriving, NOUN)              (arriving, ADV)   \n",
       "168         (NASA, NOUN)                  (NASA, ADV)   \n",
       "169      (invited, VERB)               (invited, ADV)   \n",
       "178     (ICESAT-2, NOUN)              (ICESAT-2, ADV)   \n",
       "179    (Satellite, NOUN)             (Satellite, ADV)   \n",
       "\n",
       "    as_tagged_by_Vanilla_Viterbi_for_Unknown_Words  \\\n",
       "0                                  (Android, NOUN)   \n",
       "8                                    (Google, DET)   \n",
       "10                                 (Android, NOUN)   \n",
       "15                                      (OS, NOUN)   \n",
       "16                               (worldwide, NOUN)   \n",
       "18                              (smartphones, DET)   \n",
       "20                                     (2011, DET)   \n",
       "25                                     (2013, DET)   \n",
       "27                                  (Google, NOUN)   \n",
       "29                                 (Twitter, NOUN)   \n",
       "34                                     (2015, DET)   \n",
       "37                                     (Google, X)   \n",
       "40                                 (Twitter, VERB)   \n",
       "42                                (firehose, VERB)   \n",
       "44                                 (Twitter, NOUN)   \n",
       "47                                  (online, NOUN)   \n",
       "58                                (interact, NOUN)   \n",
       "60                                 (messages, DET)   \n",
       "63                                   (tweets, DET)   \n",
       "73                             (domineering, NOUN)   \n",
       "78                             (personality, NOUN)   \n",
       "81                                    (2018, NOUN)   \n",
       "82                                    (FIFA, NOUN)   \n",
       "84                                     (Cup, NOUN)   \n",
       "87                                    (21st, NOUN)   \n",
       "88                                    (FIFA, NOUN)   \n",
       "90                                     (Cup, NOUN)   \n",
       "95                              (tournament, NOUN)   \n",
       "96                               (contested, NOUN)   \n",
       "107                                    (Cup, NOUN)   \n",
       "131                                  (trips, NOUN)   \n",
       "163                               (arriving, NOUN)   \n",
       "168                                   (NASA, NOUN)   \n",
       "169                                (invited, NOUN)   \n",
       "178                                (ICESAT-2, DET)   \n",
       "179                              (Satellite, NOUN)   \n",
       "\n",
       "    as_tagged_by_Vanilla_Viterbi_backed_by_trigram_tagger  \n",
       "0                                      (Android, NOUN)     \n",
       "8                                       (Google, NOUN)     \n",
       "10                                     (Android, NOUN)     \n",
       "15                                          (OS, NOUN)     \n",
       "16                                   (worldwide, NOUN)     \n",
       "18                                 (smartphones, VERB)     \n",
       "20                                         (2011, NUM)     \n",
       "25                                         (2013, NUM)     \n",
       "27                                      (Google, NOUN)     \n",
       "29                                     (Twitter, NOUN)     \n",
       "34                                         (2015, NUM)     \n",
       "37                                      (Google, NOUN)     \n",
       "40                                     (Twitter, NOUN)     \n",
       "42                                    (firehose, NOUN)     \n",
       "44                                     (Twitter, NOUN)     \n",
       "47                                      (online, NOUN)     \n",
       "58                                    (interact, NOUN)     \n",
       "60                                    (messages, VERB)     \n",
       "63                                      (tweets, NOUN)     \n",
       "73                                 (domineering, VERB)     \n",
       "78                                 (personality, NOUN)     \n",
       "81                                         (2018, NUM)     \n",
       "82                                        (FIFA, NOUN)     \n",
       "84                                         (Cup, NOUN)     \n",
       "87                                         (21st, NUM)     \n",
       "88                                        (FIFA, NOUN)     \n",
       "90                                         (Cup, NOUN)     \n",
       "95                                  (tournament, NOUN)     \n",
       "96                                   (contested, VERB)     \n",
       "107                                        (Cup, NOUN)     \n",
       "131                                      (trips, NOUN)     \n",
       "163                                   (arriving, VERB)     \n",
       "168                                       (NASA, NOUN)     \n",
       "169                                    (invited, VERB)     \n",
       "178                                   (ICESAT-2, NOUN)     \n",
       "179                                  (Satellite, NOUN)     "
      ]
     },
     "execution_count": 89,
     "metadata": {},
     "output_type": "execute_result"
    }
   ],
   "source": [
    "# 1. the actual tags using nltk.pos_tag_sent\n",
    "# 2. words as tagged by vanilla viterbi\n",
    "# 3. words as tagged by Modified_Vanilla_Viterbi_for_Unknown_Words - METHOD - 1\n",
    "# 4. words as tagged by viterbi_backedup_by_trigram_tagger - METHOD - 2\n",
    "\n",
    "cols1 = ['actual_tags', 'as_tagged_by_vanilla_viterbi', 'as_tagged_by_Vanilla_Viterbi_for_Unknown_Words',\n",
    "            'as_tagged_by_Vanilla_Viterbi_backed_by_trigram_tagger']\n",
    "\n",
    "tags_comparison_df = pd.DataFrame(columns = cols1)\n",
    "tags_comparison_df = tags_comparison_df.fillna(0)\n",
    "\n",
    "# Actual tags\n",
    "tags_comparison_df.actual_tags = [tup for tup in sample_test_test_run_base]\n",
    "\n",
    "# tags by vanilla viterbi\n",
    "tags_comparison_df.as_tagged_by_vanilla_viterbi = [tup for tup in sample_test_tagged_sequence_with_vanilla_viterbi]\n",
    "\n",
    "# tags by Vanilla_Viterbi_for_Unknown_Words - METHOD - 1\n",
    "tags_comparison_df.as_tagged_by_Vanilla_Viterbi_for_Unknown_Words = [tup for tup in sample_test_tagged_sequence_unknown_words]\n",
    "\n",
    "# tags by viterbi_backedup_by_trigram_tagger - METHOD - 2\n",
    "tags_comparison_df.as_tagged_by_Vanilla_Viterbi_backed_by_trigram_tagger = [tup for tup in \n",
    "                                                                            sample_test_tagged_sequence_with_viterbi_trigram]\n",
    "\n",
    "tags_comparison_df[tags_comparison_df.as_tagged_by_vanilla_viterbi != \n",
    "                   tags_comparison_df.as_tagged_by_Vanilla_Viterbi_backed_by_trigram_tagger]"
   ]
  },
  {
   "cell_type": "markdown",
   "metadata": {},
   "source": [
    "### Conclusion \n",
    "Thus we see that most of the words that were incorrectly tagged by the vanilla viterbi algorithm were corrected by the viterbi algorithm backed up by the trigram tagger.\n",
    "In this analysis we used 2 modification techniques for the original vanilla viterbi -\n",
    "\n",
    "__Method 1 -__\n",
    "- We used only the transition probability for unknown words.\n",
    "- This method showed an increase in the accuracy (94.4%) but still had some incorrect classification.\n",
    "\n",
    "- The accuracy could be increased further and we turned two a second modification in method-2 below.\n",
    "\n",
    "__Method 2 -__\n",
    "- We used the viterbi algorithm and backed it up with the trigram tagger which was inturn backed up by the rule based \n",
    "regex tagger.\n",
    "- This gave us an accuracy of 95.82% on the test data.\n",
    "- Also on testing this model on the provided sample test data, it achieved an accuracy of 92.81% and comes out to be \n",
    "the winner."
   ]
  }
 ],
 "metadata": {
  "kernelspec": {
   "display_name": "Python 3",
   "language": "python",
   "name": "python3"
  },
  "language_info": {
   "codemirror_mode": {
    "name": "ipython",
    "version": 3
   },
   "file_extension": ".py",
   "mimetype": "text/x-python",
   "name": "python",
   "nbconvert_exporter": "python",
   "pygments_lexer": "ipython3",
   "version": "3.8.3"
  }
 },
 "nbformat": 4,
 "nbformat_minor": 2
}
